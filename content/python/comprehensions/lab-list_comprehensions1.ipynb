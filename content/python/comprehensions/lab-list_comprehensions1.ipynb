{
  "metadata": {
    "kernelspec": {
      "display_name": "Python (Pyodide)",
      "language": "python",
      "name": "python"
    },
    "language_info": {
      "codemirror_mode": {
        "name": "python",
        "version": 3
      },
      "file_extension": ".py",
      "mimetype": "text/x-python",
      "name": "python",
      "nbconvert_exporter": "python",
      "pygments_lexer": "ipython3",
      "version": "3.8"
    }
  },
  "nbformat_minor": 4,
  "nbformat": 4,
  "cells": [
    {
      "cell_type": "markdown",
      "source": "# Ćwiczenia - wytworniki list",
      "metadata": {}
    },
    {
      "cell_type": "markdown",
      "source": "## Teoria\n\nW języku Python wprowadzono, wzorując się na notacji matematycznej, zwarty i skrócony sposób opisywania kolekcji danych, nazywany _comprehension_ (w swobodnym tłumaczeniu polskim: \"wytwornik sekwencji\").\n\n**Przykład**:\n\nW notacji matematycznej zbiór kwadratów liczb naturalnych nie wiekszych niż $10$, zapiszemy następująco:\n\n$$\n\\{ n^2 : n \\in ℕ \\ \\text{ i } \\ n < 10 \\}\n$$\n\nDwukropek należy czytać: \"takich, że\". Czyli powyższy zapis przeczytamy jako:\n\n> zbiór kwadratów liczby $n$ takich, że $n$ jest liczbą naturalną mniejszą niż $10$.\n\n\nW Pythonie zbiór ten (formalnie listę) zapiszemy następująco:\n\n```python\nkwadraty = [n**2 for n in range(10)]\n```\n\nStosowanie notacji _comprehesion_ zwalnia nas z jawnego generowania sekwencji. Przykładowo, budowę listy kwadratów kolejnych liczb całkowitych możemy zapisać przy użyciu pętli:\n\n```python\nkwadraty = []\nfor n in range(10):\n  kwadraty.append(n**2)\n```\n\nPodstawowa składnia zastosowania wytwornika sekwencji (np. dla listy):\n\n````{prf:definition} Wytwornik listy, prosty\n```python\nsekwencja = [wyrażenie for element in sekwencja_iterowalna]\n```\n\n* _wyrażenie_ - wartość, która zostanie umieszczona na liście\n* _element_ - obiekt lub wartość należąca do sekwencji bazowej\n* _sekwencja_iterowalna_ - sekwencja (lista, zbiór, ...) lub _generator_, dla których można zastosować petlę `for`.\n````\n\nBardziej rozbudowaną wersją wytwornika sekwencji jest ta, z użyciem instrukcji warunkowego wyboru:\n\n````{prf:definition} Wytwornik listy, z warunkiem\n```python\nsekwencja = [wyrażenie for element in sekwencja_iterowalna if warunek_logiczny]\n```\n````\n\nPoniżej przykład:",
      "metadata": {}
    },
    {
      "cell_type": "code",
      "source": "zdanie = \"Ala ma kota, as to Ali pies, który kiedyś będzie duży\"\nlista_samoglosek_w_zdaniu = [litera for litera in zdanie if litera.lower() in 'aeiouyęą']\nprint(lista_samoglosek_w_zdaniu)",
      "metadata": {
        "trusted": true
      },
      "outputs": [
        {
          "name": "stdout",
          "output_type": "stream",
          "text": "['A', 'a', 'a', 'o', 'a', 'a', 'o', 'A', 'i', 'i', 'e', 'y', 'i', 'e', 'y', 'ę', 'i', 'e', 'u', 'y']\n"
        }
      ],
      "execution_count": 2
    },
    {
      "cell_type": "markdown",
      "source": "Dokonując drobnej korekty, zamieniając listę `[ ... ]` na zbiór `{ ... }` usuniemy wszystkie powtórzenia liter (zbiór nie przechowuje powtórzeń.",
      "metadata": {}
    },
    {
      "cell_type": "code",
      "source": "zdanie = \"Ala ma kota, as to Ali pies, który kiedyś będzie duży\"\nzbior_samoglosek_w_zdaniu = {litera.lower() for litera in zdanie if litera.lower() in 'aeiouyęą'}\nprint(zbior_samoglosek_w_zdaniu)",
      "metadata": {
        "trusted": true
      },
      "outputs": [
        {
          "name": "stdout",
          "output_type": "stream",
          "text": "{'y', 'u', 'o', 'i', 'ę', 'e', 'a'}\n"
        }
      ],
      "execution_count": 5
    },
    {
      "cell_type": "markdown",
      "source": "## Ćwiczenie\n\nDana masz listę liczb, np.  `numbers = [2, 3, 4, 5, 6, 7, 8, 9, 10, 11, 13, 17, 19, 23, 256, -8, -4, -2, 5, -9]`\n\nChcesz utworzyć nową listę o nazwie `numbers_plus_one` składającą się z tych liczb powiększonych o `1`.\n\nMyśląc tradycyjnie, w kategoriach pętli, wykonasz to następującym algorytmem:\n\n```{prf:algorithm} Tworzenie nowej listy na bazie innej listy\n\n1. Utworzę pustą listę `numbers_plus_one = []`\n2. W pętli, odczytując każdy element oryginalnej listy\n   - dodam do niego `1` i dołączę do nowej listy\n```",
      "metadata": {}
    },
    {
      "cell_type": "code",
      "source": "numbers = [2, 3, 4, 5, 6, 7, 8, 9, 10, 11, 13, 17, 19, 23, 256, -8, -4, -2, 5, -9]",
      "metadata": {
        "trusted": true
      },
      "outputs": [],
      "execution_count": 1
    },
    {
      "cell_type": "code",
      "source": "numbers_plus_one = []               # tworzę nową pustą listę\nfor x in numbers:                   # dla każdego `x` należącego do starej listy\n    numbers_plus_one.append(x + 1)  # do `x` dodaję 1 i dołączam do nowej listy\n\nprint(numbers_plus_one)             # drukuję nową listę",
      "metadata": {
        "trusted": true
      },
      "outputs": [
        {
          "name": "stdout",
          "output_type": "stream",
          "text": "[3, 4, 5, 6, 7, 8, 9, 10, 11, 12, 14, 18, 20, 24, 257, -7, -3, -1, 6, -8]\n"
        }
      ],
      "execution_count": 3
    },
    {
      "cell_type": "markdown",
      "source": "To samo zrealizować można za pomocą wytwornika list:",
      "metadata": {}
    },
    {
      "cell_type": "code",
      "source": "numbers_plus_one = [(x + 1) for x in numbers]\nprint(numbers_plus_one)",
      "metadata": {
        "trusted": true
      },
      "outputs": [
        {
          "name": "stdout",
          "output_type": "stream",
          "text": "[3, 4, 5, 6, 7, 8, 9, 10, 11, 12, 14, 18, 20, 24, 257, -7, -3, -1, 6, -8]\n"
        }
      ],
      "execution_count": 4
    },
    {
      "cell_type": "markdown",
      "source": "Zapis `[(x + 1) for x in numbers]` można przeczytać dosłownie: \n\n*lista wartości `(x+1)` dla `x` należących do `numbers`*\n\n> Drobna uwaga - nawiasy okrągłe nie są potrzebne, można zapisać krócej: `[x + 1 for x in numbers]`",
      "metadata": {}
    },
    {
      "cell_type": "markdown",
      "source": "Załóżmy teraz, że masz listę owoców: `fruits = ['mango', 'kiwi', 'strawberry', 'guava', 'pineapple', 'mandarin orange']`\n\nChcesz utworzyć nową listę, ale nazwy owoców mają być z wielkich liter. Używając pętli zapiszesz:\n\n```python\noutput = []\nfor fruit in fruits:\n    output.append(fruit.upper())\n```\n\n:::{important}\nDalsze ćwiczenia bazują na dwóch zdefiniowanych listach, tj. `numbers` oraz `fruits`.\n:::",
      "metadata": {}
    },
    {
      "cell_type": "markdown",
      "source": "````{exercise}\nZapisz poniższy kod:\n```python\noutput = []\nfor fruit in fruits:\n    output.append(fruit.upper())\n```\nw formie wytwornika listy. Wydrukuj zawartość. Twój wynik powinien wyglądać mniej więcej tak: `['MANGO', 'KIWI', etc...]`\n````",
      "metadata": {}
    },
    {
      "cell_type": "code",
      "source": "output = ...\nprint(output)",
      "metadata": {
        "trusted": true
      },
      "outputs": [],
      "execution_count": null
    },
    {
      "cell_type": "markdown",
      "source": "```{exercise}\nUtwórz zmienną o nazwie `capitalized_fruits` i użyj składni wytwornika listy, aby uzyskać dane wyjściowe, takie jak `['Mango', 'Kiwi', 'Truskawka', itp...]`\n```",
      "metadata": {}
    },
    {
      "cell_type": "code",
      "source": "capitalized_fruits = ...\nprint(capitalized_fruits)",
      "metadata": {
        "trusted": true
      },
      "outputs": [],
      "execution_count": null
    },
    {
      "cell_type": "markdown",
      "source": "````{exercise}\n1. Zapisz, używając pętli, kod który z listy `fruits` wypisze te owoce, które mają w nazwie co najmniej 2 samogłoski.\n\n    :::{tip} \n    W pętli analizującej nazwę owocu musisz zliczać liczbę samogłosek \n    :::\n\n\n2. Użyj wytwornika listy, aby utworzyć zmienną o nazwie `fruits_with_more_than_two_vowels`.\n\n3. Użyj wytwornika listy, aby utworzyć zmienną o nazwie `fruits_with_only_two_vowels`. Wyniiem będzie `['mango', 'kiwi', 'strawberry']`\n````",
      "metadata": {}
    },
    {
      "cell_type": "code",
      "source": "# napisz kod",
      "metadata": {
        "trusted": true
      },
      "outputs": [],
      "execution_count": null
    },
    {
      "cell_type": "markdown",
      "source": "```{exercise}\n1. Utwórz, za pomocą wytwornika, listę owoców, które składają się z więcej niż 5 znaków.\n2. Utwórz, za pomocą wytwornika, listę zawierającą liczby określające długości nazw owoców. Powinieneś otrzymać: `[5, 4, 10, etc... ]`\n```",
      "metadata": {}
    },
    {
      "cell_type": "code",
      "source": "# napisz kod",
      "metadata": {
        "trusted": true
      },
      "outputs": [],
      "execution_count": null
    },
    {
      "cell_type": "markdown",
      "source": "```{exercise}\n1. Utwórz zmienną o nazwie `fruits_with_letter_a`, która zawiera listę tylko tych owoców, które zawierają literę \"a\"\n2. Utwórz zmienną o nazwie `fruits_ending_with_letter_e`, która zawiera listę tylko tych owoców, których nazwa kończy się na literę \"e\"\n```",
      "metadata": {}
    },
    {
      "cell_type": "code",
      "source": "# napisz kod",
      "metadata": {
        "trusted": true
      },
      "outputs": [],
      "execution_count": null
    },
    {
      "cell_type": "markdown",
      "source": "```{exercise}\nKorzystasz z listy `numbers`. Tworzysz nowe listy korzystając z notacji wytwornika.\n\n1. Utwórz zmienną o nazwie `even_numbers`, która zawiera tylko liczby parzyste\n2. Utwórz zmienną o nazwie `odd_numbers`, która zawiera tylko liczby nieparzyste\n3. Utwórz zmienną o nazwie `positive_numbers`, która zawiera tylko liczby dodatnie\n4. Utwórz zmienną o nazwie `odd_negative_numbers`, która zawiera tylko nieparzyste liczby ujemne\n```",
      "metadata": {}
    },
    {
      "cell_type": "code",
      "source": "# napisz kod",
      "metadata": {
        "trusted": true
      },
      "outputs": [],
      "execution_count": null
    },
    {
      "cell_type": "markdown",
      "source": "```{exercise}\nKorzystasz z listy `numbers`, wykorzystujesz notację wytwornika.\n\n1. Utwórz listę zawierającą liczby co najmniej 2-cyfrowe\n2. Utwórz listę zawierającą liczby dokładnie 2-cyfrowe\n3. Utwórz listę zawierającą kwadraty liczb parzystych\n4. Utwórz listę zawierającą pierwiastki kwadratowe liczb z `numbers` zaokrąglone do 2 cyfr po przecinku, pod warunkiem, że ten pierwiastek da się obliczyć\n```",
      "metadata": {}
    },
    {
      "cell_type": "code",
      "source": "",
      "metadata": {
        "trusted": true
      },
      "outputs": [],
      "execution_count": null
    },
    {
      "cell_type": "markdown",
      "source": "```{exercise}\nKorzystasz z listy `numbers`, wykorzystujesz notację wytwornika.\n\n1. Napisz, nie wykorzystując wytwornika, tylko korzystając z pętli, kod tworzący listę sum częściowych ciągu `numbers` (tzn. `[2, 2+3, 2+3+4, ...] = [2, 5, 9, 14, ...]`)\n\n2. Opracuj wytwornik realizujący to samo zadanie\n```",
      "metadata": {}
    },
    {
      "cell_type": "code",
      "source": "",
      "metadata": {
        "trusted": true
      },
      "outputs": [],
      "execution_count": null
    },
    {
      "cell_type": "markdown",
      "source": "```{exercise}\nWygładzanie ciągu metodą średnich, zwane również wygładzaniem ruchomą średnią, to technika stosowana w analizie danych, która ma na celu zmniejszenie wahań i szumów w szeregu czasowym, aby lepiej uwidocznić trend. Polega na obliczaniu średniej wartości z określonej liczby kolejnych punktów danych w szeregu czasowym.\n\nNa przykład, dla wygładzania metodą średnich dla 3 wartości, dla każdego punktu w szeregu czasowym oblicza się średnią z tego punktu oraz dwóch sąsiadujących punktów (jednego przed i jednego po). W ten sposób uzyskuje się nowy szereg czasowy, który jest bardziej \"wygładzony\" i mniej podatny na krótkoterminowe fluktuacje.\n\nOpracuj wytwornik, który wygładzi szereg liczbowy `numbers` metodą średnich dla 3 wartości. Nowy szereg zawierać ma liczby zaokrąglone do 1 miejsca po przecinku.\n```",
      "metadata": {}
    },
    {
      "cell_type": "code",
      "source": "",
      "metadata": {
        "trusted": true
      },
      "outputs": [],
      "execution_count": null
    },
    {
      "cell_type": "markdown",
      "source": "```{exercise}\nUtwórz zmienną o nazwie `primes`, która jest listą zawierającą liczby pierwsze z `numbers`. Wykorzystaj konstrukcję wytwornika.\n\n:::{tip}\nUtwórz wcześniej pomocniczą funkcję `is_prime(n: int) -> bool`, która sprawdza, czy liczba `n` jest liczbą pierwszą.\n:::\n\n```",
      "metadata": {}
    },
    {
      "cell_type": "code",
      "source": "",
      "metadata": {
        "trusted": true
      },
      "outputs": [],
      "execution_count": null
    }
  ]
}