{
  "metadata": {
    "kernelspec": {
      "name": "python",
      "display_name": "Python (Pyodide)",
      "language": "python"
    },
    "language_info": {
      "codemirror_mode": {
        "name": "python",
        "version": 3
      },
      "file_extension": ".py",
      "mimetype": "text/x-python",
      "name": "python",
      "nbconvert_exporter": "python",
      "pygments_lexer": "ipython3",
      "version": "3.8"
    }
  },
  "nbformat_minor": 5,
  "nbformat": 4,
  "cells": [
    {
      "id": "6364136e-1996-4e9b-9915-0aa78f3fb2f2",
      "cell_type": "markdown",
      "source": "# Ćwiczenie: Książka kucharska\n\n* Krzysztof Molenda, 2025-05-15\n\n**Cel ćwiczenia**: kształcenie umiejętności w zakresie słownika (`dict`).\n\nTo ćwiczenie pozwoli Ci krok po kroku nauczyć się pracy ze słownikami w Pythonie, od podstawowych operacji po bardziej zaawansowane zastosowania. Pracujemy na przykładzie przepisu kulinarnego, który stopniowo rozbudowujemy, aż do stworzenia prostej aplikacji – książki kucharskiej.",
      "metadata": {}
    },
    {
      "id": "e8bc82a4-b25a-458d-8bdd-b55ff5ea7ba8",
      "cell_type": "markdown",
      "source": "## Etap 1: Utworzenie prostego przepisu\n\nCel: Stwórz słownik opisujący prosty przepis na kanapkę.\n\n### Zadanie:\nUzupełnij poniższy słownik, dodając brakujące klucze i wartości:\n\n* \"nazwa\" – nazwa potrawy (np. \"Kanapka z serem\"),\n* \"składniki\" – lista składników (np. [\"chleb\", \"ser\", \"masło\"]),\n* \"czas_przygotowania\" – czas przygotowania w minutach (np. 5).\n\nNazwij słownik `przepis_kanapka_z_serem`. Wpisz słownik, aby zobaczyć, czy został poprawnie utworzony.",
      "metadata": {}
    },
    {
      "id": "88366f44-7dbb-405b-8c89-aa66725e6533",
      "cell_type": "code",
      "source": "przepis_kanapka_z_serem = {\n}",
      "metadata": {
        "trusted": true
      },
      "outputs": [],
      "execution_count": null
    },
    {
      "id": "6b0e0ffa-e6f0-4a45-8311-7f59f916e3bb",
      "cell_type": "code",
      "source": "print(przepis_kanapka_z_serem)",
      "metadata": {
        "trusted": true
      },
      "outputs": [],
      "execution_count": null
    },
    {
      "id": "83457500-1784-4822-9fa5-3a7239d3979b",
      "cell_type": "markdown",
      "source": "## Etap 2: Rozbudowa przepisu\n\nCel: Dodaj do słownika nowe klucze i wartości, aby przepis był bardziej szczegółowy.\n\n### Zadanie:\n\nDodaj do słownika:\n* \"krok_po_kroku\" – lista opisująca kolejne kroki przygotowania (np. `[\"Posmaruj chleb masłem.\", \"Połóż na chlebie ser.\"]`),\n* \"trudność\" – stopień trudności (np. \"łatwy\", \"średni\", \"trudny\").\n\n:::{admonition} Podpowiedź\n:class: hint\n\nAby zaktualizować istniejący słownik używamy metody `.update`, na przykład: `przepis.update( { ... dodatkowe wpisy do słownika ... } )`\n:::",
      "metadata": {}
    },
    {
      "id": "3de53b63-fb05-47e9-b3fe-35c375235049",
      "cell_type": "code",
      "source": "przepis_kanapka_z_serem.update({\n})",
      "metadata": {
        "trusted": true
      },
      "outputs": [],
      "execution_count": null
    },
    {
      "id": "28b9250e-2b3b-4a6b-9d98-5eb57a7cf23d",
      "cell_type": "code",
      "source": "print()",
      "metadata": {
        "trusted": true
      },
      "outputs": [],
      "execution_count": null
    },
    {
      "id": "9b619875-0e87-47f3-bfd5-38cdd3774526",
      "cell_type": "markdown",
      "source": "## Etap 3: Książka kucharska – słownik przepisów\n\nCel: Stwórz książkę kucharską jako słownik, gdzie kluczami są nazwy potraw, a wartościami – słowniki z przepisami.\n\n### Zadanie:\n\nDodaj do książki kucharskiej co najmniej trzy przepisy. Weź pod uwagę utworzony już przepis na kanapkę z serem i na przykład jajecznicę (składniki: jajka, masło, sól, pieprz; czas przygotowania 10 minut; krok po kroku: \"Rozgrzej patelnię.\", \"Roztop masło.\", \"Wbij jajka.\", \"Smaż, mieszając.\", \"Dopraw solą i pieprzem.\"; trudność: łatwy). \n\nWymyśl jeszcze jeden własny przepis i dopisz go do książki.",
      "metadata": {}
    },
    {
      "id": "fe2bc62a-fb9d-40f2-92ba-99a57c3d2d00",
      "cell_type": "code",
      "source": "ksiazka_kucharska = {\n    \"Kanapka z serem\": przepis_kanapka_z_serem,\n    \"Jajecznica\": {\n    }\n}",
      "metadata": {
        "trusted": true
      },
      "outputs": [],
      "execution_count": null
    },
    {
      "id": "f69a44df-ed31-4626-bc0e-d27edf503f9f",
      "cell_type": "code",
      "source": "print(ksiazka_kucharska)\ndisplay(ksiazka_kucharska)",
      "metadata": {
        "trusted": true
      },
      "outputs": [],
      "execution_count": null
    },
    {
      "id": "4c76f231-245c-4ec3-9313-8e12db96d449",
      "cell_type": "markdown",
      "source": "## Etap 4: Modyfikacja i uzupełnianie książki kucharskiej\n\nCel: Naucz się modyfikować i uzupełniać istniejące wpisy w słowniku.\n\n### Zadanie:\n\nDodaj nowy przepis do książki kucharskiej.\n\nZmodyfikuj istniejący przepis (np. dodaj nowy składnik, zmień czas przygotowania). Na przykład, do kanapki z serem dodaj pomidor i zwiększ czas przygotowania o 1 minutę.",
      "metadata": {}
    },
    {
      "id": "268c6024-ae00-4e82-877a-49741b244c31",
      "cell_type": "code",
      "source": "ksiazka_kucharska[\"Kanapka z serem\"][\"składniki\"].append(\"pomidor\")\nksiazka_kucharska[\"Kanapka z serem\"][\"czas_przygotowania\"] += 1",
      "metadata": {
        "trusted": true
      },
      "outputs": [],
      "execution_count": null
    },
    {
      "id": "9f019f1e-1bea-4199-a27d-a5b02289a095",
      "cell_type": "code",
      "source": "display(ksiazka_kucharska)",
      "metadata": {
        "trusted": true
      },
      "outputs": [],
      "execution_count": null
    },
    {
      "id": "fe0eb488-9172-41ef-88cf-36e3a9a796fa",
      "cell_type": "code",
      "source": "# wprowadź jeszcze jakieś własne modyfikacje\n# i wyświetl książkę\n",
      "metadata": {
        "trusted": true
      },
      "outputs": [],
      "execution_count": null
    },
    {
      "id": "79564483-a7e0-47ec-b134-a913478f7a8f",
      "cell_type": "markdown",
      "source": "## Etap 5: Funkcje prostej aplikacji – książka kucharska\n\nCel: Stwórz funkcje dla prostej aplikacji do obsługi książki kucharskiej.\n\n### Zadanie:\n\nOpracuj funkcje, które realizują funkcjonalności:\n\n* Wyświetla listę dostępnych przepisów.\n* Wyświetla szczegóły wskazanego przepisu.\n* Pozwala dodać nowy przepis do książki kucharskiej.\n* Pozwala modyfikować istniejący przepis.",
      "metadata": {}
    },
    {
      "id": "a42eae90-b2f3-4c24-b049-0296a5cde006",
      "cell_type": "code",
      "source": "def wyswietl_liste_przepisow(ksiazka: dict):\n    print(\"Dostępne przepisy:\")\n    for nazwa in ksiazka:\n        print(\"-\", nazwa)",
      "metadata": {
        "trusted": true
      },
      "outputs": [],
      "execution_count": null
    },
    {
      "id": "58f7742b-bc60-4e1a-a27c-2fe137dc5e14",
      "cell_type": "code",
      "source": "wyswietl_liste_przepisow(ksiazka_kucharska)",
      "metadata": {
        "trusted": true
      },
      "outputs": [],
      "execution_count": null
    },
    {
      "id": "f7b9a596-58a5-40db-bb55-46668207b513",
      "cell_type": "code",
      "source": "def wyswietl_przepis(ksiazka: dict, nazwa: str):    \n    if nazwa in ksiazka:\n        print(\"Przepis na:\", nazwa)\n        for k, v in ksiazka[nazwa].items():\n            print(f\"- {k}: {v}\")\n    else:\n        print(\"Nie znaleziono przepisu.\")",
      "metadata": {
        "trusted": true
      },
      "outputs": [],
      "execution_count": null
    },
    {
      "id": "2d3eb772-fcc4-4f20-9b62-2424b6e5ab93",
      "cell_type": "code",
      "source": "nazwa = \"Jajecznica\"\nwyswietl_przepis(ksiazka_kucharska, nazwa)",
      "metadata": {
        "trusted": true
      },
      "outputs": [],
      "execution_count": null
    },
    {
      "id": "2b546ac5-e092-41c6-925c-9af609feaab2",
      "cell_type": "code",
      "source": "def dodaj_przepis(ksiazka: dict, przepis: dict):\n    # ... (uzupełnij funkcję)\n    pass",
      "metadata": {
        "trusted": true
      },
      "outputs": [],
      "execution_count": null
    },
    {
      "id": "509ffac9-05d8-43e6-a96a-76fe8206374f",
      "cell_type": "code",
      "source": "# przetestuj",
      "metadata": {
        "trusted": true
      },
      "outputs": [],
      "execution_count": null
    },
    {
      "id": "7585c72a-9451-436e-aa87-6f56d420e7f5",
      "cell_type": "code",
      "source": "def modyfikuj_przepis(ksiazka: dict, nazwa: str, klucz, wartosc):\n    # ... (uzupełnij funkcję)\n    pass",
      "metadata": {
        "trusted": true
      },
      "outputs": [],
      "execution_count": null
    },
    {
      "id": "706cf342-6016-4699-8e55-7c328c417b55",
      "cell_type": "code",
      "source": "# przetestuj",
      "metadata": {
        "trusted": true
      },
      "outputs": [],
      "execution_count": null
    },
    {
      "id": "c490654c-a470-4b2e-ad3c-000cc913d387",
      "cell_type": "markdown",
      "source": "## Etap 6: Utrwalenie książki w pliku na dysku\n\nCel: Zapis książki do pliku na dysku, odczyt, modyfikacja pliku JSON\n\n### Zadanie\n\n* Zapisz książkę na dysku w formacie JSON\n* Zmodyfikuj plik z książką na dysku, zmieniając wybrany element, dodając nowy przepis, ... Zapisz plik JSON\n* Załaduj plik książki z dysku do nowego słownika (`ksiazka_kucharska1`)\n* Wyświetl książkę, przepisy",
      "metadata": {}
    },
    {
      "id": "17fc4540-7010-42dc-b924-1b39bda9f16b",
      "cell_type": "code",
      "source": "# zapis książki do pliku w formacie JSON\nimport json # import biblioteki",
      "metadata": {
        "trusted": true
      },
      "outputs": [],
      "execution_count": null
    },
    {
      "id": "a256caba-18d5-47fc-8bc6-a13602af1e99",
      "cell_type": "code",
      "source": "# Zapisz słownik jako plik JSON\nwith open('ksiazka.json', 'w') as json_file:\n  json.dump(ksiazka_kucharska, json_file)",
      "metadata": {
        "trusted": true
      },
      "outputs": [],
      "execution_count": null
    },
    {
      "id": "f7177660-ade4-443a-bc41-1ef1a94c5bf5",
      "cell_type": "markdown",
      "source": "Wykonaj edycję pliku",
      "metadata": {}
    },
    {
      "id": "2e501d23-01e9-4b4f-9595-962ba625f2cc",
      "cell_type": "code",
      "source": "# Odczyt pliku JSON\nwith open('ksiazka.json', 'r') as json_file:\n    ksiazka_kucharska1 = json.load(json_file)\n\nprint(ksiazka_kucharska1)",
      "metadata": {
        "trusted": true
      },
      "outputs": [],
      "execution_count": null
    },
    {
      "id": "ce4f99dd-a539-4acd-98d8-248d25bd6d6d",
      "cell_type": "markdown",
      "source": "## Etap 7: Aplikacja interaktywna\n\nCel: Utwórz konsolową aplikację interaktywną\n\n### Zadanie\n\nKorzystając z przetestowanego w tym notatniku kodu Pythona, w środowisku konsolowym (VS Code) utwóż aplikację interaktywną, działającą wg nastepujących zasad:\n\n1. Po uruchomieniu aplikacja ładuje książkę z pliku JSON\n2. Wyświetla menu z możliwością dokonania wyboru opcji (liczba 0-4)\n3. Opcje:\n    `1` - Wyświetl listę przepisów\n    `2` - Wyświetl przepis (wczytuje nazwę przepisu)\n    `3` - Dodaj przepis (wczytuje napis w formacie JSON, konweruje go na słownik przepisu, dodaje do książki)\n    `4` - Modyfikuj przepis\n       * wczytuje nazwę\n       * wyświetla przepis\n       * prosi o podanie klucza elementu do zmiany\n       * wczytuje wartość do zmiany\n    `0` - Kończy pracę, wcześniej zapisując aktualną książkę na dysku\n\n:::{admonition} UWAGA\n:class: warning\nAplikacji interaktywnej nie da się zrealizować w JupyterLite - nie działa poprawnie funkcja `input`\n:::\n\n::::{admonition} Podpowiedź\n:class: tip\n\nPętla realizująca menu wyboru opcji:\n\n```python\ndef opcja_1():\n    print(\"Wybrałeś opcję 1\")\n\ndef opcja_2():\n    print(\"Wybrałeś opcję 2\")\n\ndef opcja_3():\n    print(\"Wybrałeś opcję 3\")\n\ndef menu():\n    while True:\n        print(\"\\nMenu:\")\n        print(\"1. Opcja 1\")\n        print(\"2. Opcja 2\")\n        print(\"3. Opcja 3\")\n        print(\"4. Wyjście\")\n\n        wybor = input(\"Wybierz opcję (1-4): \")\n\n        match wybor:\n            case '1':\n                opcja_1()\n            case '2':\n                opcja_2()\n            case '3':\n                opcja_3()\n            case '4':\n                print(\"Do widzenia!\")\n                break\n            case _:\n                print(\"Nieprawidłowy wybór, spróbuj ponownie.\")\n\nmenu()\n```\n\n::::",
      "metadata": {}
    },
    {
      "id": "331ede92-d224-4a21-8bf7-116e359ab670",
      "cell_type": "code",
      "source": "",
      "metadata": {
        "trusted": true
      },
      "outputs": [],
      "execution_count": null
    }
  ]
}