{
  "metadata": {
    "kernelspec": {
      "name": "python",
      "display_name": "Python (Pyodide)",
      "language": "python"
    },
    "language_info": {
      "codemirror_mode": {
        "name": "python",
        "version": 3
      },
      "file_extension": ".py",
      "mimetype": "text/x-python",
      "name": "python",
      "nbconvert_exporter": "python",
      "pygments_lexer": "ipython3",
      "version": "3.8"
    }
  },
  "nbformat_minor": 5,
  "nbformat": 4,
  "cells": [
    {
      "id": "ba328b5b-2f4a-4de5-a42a-f50a9957ec03",
      "cell_type": "markdown",
      "source": "# Ćwiczenie - słownik (dane pogodowe IMiGW)\n\n* Krzysztof Molenda, ver. 2025.05.10\n\nĆwiczenie prezentujące praktyczne aspekty pracy ze słownikiem i formatem JSON w języku Python, na przykładzie serwisu udostępniającego aktualne dane pogodowe w Polsce:\n\nhttps://danepubliczne.imgw.pl/",
      "metadata": {}
    },
    {
      "id": "0e24f41f-255f-4e13-b478-2f6e99da2b51",
      "cell_type": "code",
      "source": "# wymagane w JupyterLite, do obsługi ządań sieciowych\n%pip install pyodide-http\n\nimport pyodide_http\npyodide_http.patch_all()",
      "metadata": {
        "trusted": true
      },
      "outputs": [],
      "execution_count": null
    },
    {
      "id": "6edc1666-b42b-42c2-90de-cd779fce540f",
      "cell_type": "code",
      "source": "import urllib.request, json",
      "metadata": {
        "trusted": true
      },
      "outputs": [],
      "execution_count": null
    },
    {
      "id": "1d96877c-1fc9-468f-a684-04b68d8cbbd1",
      "cell_type": "markdown",
      "source": "## Pobranie danych dla konkretnej stacji synoptycznej",
      "metadata": {}
    },
    {
      "id": "c5f775c0-f43d-427a-afc4-86f75b9efba5",
      "cell_type": "code",
      "source": "# aktualne dane synoptyczne z IMGW\n# więcej: https://danepubliczne.imgw.pl/\n\nadres = \"https://danepubliczne.imgw.pl/api/data/synop/station/krakow\"\n# wysłanie żądania pod podany adres, odbiór odpowiedzi\nodpowiedz = urllib.request.urlopen( adres )\n\nprint(odpowiedz) # odpowiedź jest obiektem Pythona\nprint(\"----\")\nprint(odpowiedz.headers) # odczyt nagłówka odpowiedzi\nprint(\"----\")\nprint(odpowiedz.read()) # odczyt surowej tresci zawartej w odpowiedzi",
      "metadata": {
        "trusted": true
      },
      "outputs": [],
      "execution_count": null
    },
    {
      "id": "15ff2ac7-efe5-487f-b71b-91c4cc5066b3",
      "cell_type": "code",
      "source": "# aktualne dane synoptyczne z IMGW, dla Krakowa, w formacie JSON\nadres = \"https://danepubliczne.imgw.pl/api/data/synop/station/krakow\" # format JSON\nodpowiedz = urllib.request.urlopen( adres )\n\ndane = json.load(odpowiedz) # ładujemy cały plik do struktury słownikowej\nprint(dane)\nprint(\"----\")\ndisplay(dane)",
      "metadata": {
        "trusted": true
      },
      "outputs": [],
      "execution_count": null
    },
    {
      "id": "44a77ea1-442f-40bb-bc40-0ec29f0b62f6",
      "cell_type": "markdown",
      "source": "## Dane pogodowe dla wszystkich stacji",
      "metadata": {}
    },
    {
      "id": "c6a0ca94-08f0-4935-b8bc-c4fc464bbaee",
      "cell_type": "code",
      "source": "# aktualne dane synoptyczne z IMGW\n# więcej: https://danepubliczne.imgw.pl/\n\nadres = \"https://danepubliczne.imgw.pl/api/data/synop\" # format JSON\nodpowiedz = urllib.request.urlopen( adres )\n\ndane1 = json.load(odpowiedz) # ładujemy cały plik do struktury słownikowej\ndisplay(dane1)",
      "metadata": {
        "trusted": true
      },
      "outputs": [],
      "execution_count": null
    },
    {
      "id": "a727f21e-8c31-4446-bbbd-e58b1c24cc70",
      "cell_type": "markdown",
      "source": ":::{exercise}\nOblicz średnią arytmetyczną temperatury dla aktualnego pomiaru, dla wszystkich stacji.\n:::",
      "metadata": {}
    },
    {
      "id": "4e856e65-d15b-433f-a265-77edff2b1daf",
      "cell_type": "code",
      "source": "",
      "metadata": {
        "trusted": true
      },
      "outputs": [],
      "execution_count": null
    },
    {
      "id": "96c067c9-d5e2-4173-ac4e-47205fd0677f",
      "cell_type": "markdown",
      "source": ":::{exercise}\nOblicz odchylenie standardowe temperatury dla aktualnego pomiaru, korzystając ze wzoru:\n\n$$ \\sigma = \\sqrt{\\frac{\\sum_{i=1}^{N} (x_i - \\mu)^2}{N}}$$\n\ngdzie:\n\n* $\\sigma$ to odchylenie standardowe\n* $N$ to liczba obserwacji,\n* $x_i$ to każda wartość w zbiorze danych,\n* $\\mu$ to średnia arytmetyczna zbioru danych.\n:::",
      "metadata": {}
    },
    {
      "id": "fe3ebdfd-76b1-41ca-8beb-a8d1a96406ff",
      "cell_type": "code",
      "source": "",
      "metadata": {
        "trusted": true
      },
      "outputs": [],
      "execution_count": null
    },
    {
      "id": "17be14ed-105b-459d-8473-a65e45a513a2",
      "cell_type": "markdown",
      "source": ":::{exercise}\nWypisz nazwy stacji, dla których temperatura odchyla sie od średniej o $2 * \\sigma$. Jeśli takich nie ma, to sprawdź dla odchylenia o jedno odchylenie standardowe\n:::",
      "metadata": {}
    },
    {
      "id": "d747f954-4112-442c-b756-34f6dc06f807",
      "cell_type": "code",
      "source": "",
      "metadata": {
        "trusted": true
      },
      "outputs": [],
      "execution_count": null
    },
    {
      "id": "220712ab-20f5-47e3-8385-b5d07ba6addf",
      "cell_type": "markdown",
      "source": ":::{exercise}\nWypisz nazwy stacji, dla których wystapił jakikolwiek opad. Wynik przedstaw w formie listy posortowanej rosnąco. Jeśli na żadnej stacji nie odnotowano opadu, wypisz komunikat `brak opadów`.\n:::",
      "metadata": {}
    },
    {
      "id": "3a04f09e-1cf8-4959-ac78-b76f8b17f5ec",
      "cell_type": "code",
      "source": "",
      "metadata": {
        "trusted": true
      },
      "outputs": [],
      "execution_count": null
    },
    {
      "id": "d2f27a1a-9d9e-416a-bd29-a4ca4e464f6f",
      "cell_type": "markdown",
      "source": ":::{exercise}\nZ pobranych danych utwórz nowy słownik zawierający tylko:\n\n* nazwę stacji\n* temperaturę\n* opad\n* ciśnienie\n* predkość wiatru\n* wilgotność\n:::",
      "metadata": {}
    },
    {
      "id": "52b29216-f617-48b4-a3d5-500c2a25c954",
      "cell_type": "code",
      "source": "",
      "metadata": {
        "trusted": true
      },
      "outputs": [],
      "execution_count": null
    },
    {
      "id": "737ec209-94e1-4368-9532-8be420cc39ea",
      "cell_type": "markdown",
      "source": "::::{exercise}\nPracujesz z nowym słownikiem. Wypisz 3 stacje pogodowe z najwyższą temperaturą. Wynik podaj w formie:\n\n```python\n\"{nazwa stacji}: {temperatura} st. C\"\n```\n::::",
      "metadata": {}
    },
    {
      "id": "a18c2840-d99e-4239-8953-6d4097b90202",
      "cell_type": "code",
      "source": "",
      "metadata": {
        "trusted": true
      },
      "outputs": [],
      "execution_count": null
    },
    {
      "id": "43b8d8a9-4a6a-4258-aa1b-617cb881b593",
      "cell_type": "markdown",
      "source": ":::{exercise}\nPracujesz z nowym słownikiem. Chcesz zobaczyć, czy jest zależność między temperaturą a prędkością wiatru. Możesz to zaobserwować, tworząc wykres punktowy XY (_scatterplot_).\n:::",
      "metadata": {}
    },
    {
      "id": "fef4caf2-b023-4509-a5f6-b03aefb47aa6",
      "cell_type": "code",
      "source": "import matplotlib.pyplot as plt\n\n# Przykładowe dane\nx = [1, 2, 3, 4, 5]\ny = [2, 3, 5, 7, 11]\n\n# Tworzenie wykresu punktowego\nplt.scatter(x, y)\n\n# Dodanie tytułu i etykiet osi\nplt.title('Przykładowy wykres punktowy')\nplt.xlabel('Oś X')\nplt.ylabel('Oś Y')\n\n# Wyświetlenie wykresu\nplt.show()\n",
      "metadata": {
        "trusted": true
      },
      "outputs": [],
      "execution_count": null
    },
    {
      "id": "fca71b64-2f78-4fa9-8144-a2845ff7da1e",
      "cell_type": "markdown",
      "source": "Przygotuj dane (dla osi X i dla osi Y) i narysuj wykres.",
      "metadata": {}
    },
    {
      "id": "fe7aaa38-4650-481a-9373-33f0c5378bd1",
      "cell_type": "code",
      "source": "",
      "metadata": {
        "trusted": true
      },
      "outputs": [],
      "execution_count": null
    },
    {
      "id": "e9abb044-d197-491c-bac4-aaa7f9e9d593",
      "cell_type": "markdown",
      "source": "## Dane meteorologiczne\n\nPod adresem <https://danepubliczne.imgw.pl/api/data/meteo/> dostepna jest lista większej liczby stacji meteo, z innymi pomiarami, również w formacie JSON.",
      "metadata": {}
    },
    {
      "id": "cbc06891-9f44-48a5-b541-6c83ccc9896a",
      "cell_type": "markdown",
      "source": ":::{exercise}\n1. Zaimportuj dane do notatnika, zapoznaj się z nimi\n2. Ile stacji zapisanych jest w pliku\n3. Ile stacji jest nieczynnych (nie raportuje danych pogodowych)\n4. Gdzie jest najniższa temperatura gruntu. Jaki w tej lokalizacji był opad i wilgotność względna?\n:::",
      "metadata": {}
    },
    {
      "id": "ed901da9-a267-46d7-9303-8f6b24fe9c04",
      "cell_type": "code",
      "source": "",
      "metadata": {
        "trusted": true
      },
      "outputs": [],
      "execution_count": null
    },
    {
      "id": "9d8837fb-47e6-4232-a456-59cc9f80504b",
      "cell_type": "markdown",
      "source": ":::{exercise}\nPoniżej zamieszczono przykładowy kod nanoszący punkty o współrzędnych geograficznych `(lon, lat)\" na mapę.\n\nZmodyfikuj ten kod, aby wyświetlał 3 stacje z najniższą i 3 stacje z najwyższą temperaturą gruntu.\n\nW `tooltipie` ma być wyświetlana nazwa stacji, dwukropek i temperatura\n:::",
      "metadata": {}
    },
    {
      "id": "f0d2e980-eddf-434d-947f-1c212daf747d",
      "cell_type": "code",
      "source": "%pip install folium\nimport folium\n\n# Lista słowników danych stacji meteo\nstations = [\n    {\n        \"kod_stacji\": \"252190240\",\n        \"nazwa_stacji\": \"TRĘBKI\",\n        \"lon\": \"19.540556\",\n        \"lat\": \"52.320278\",\n        \"temperatura_gruntu\": \"-0.7\",\n        \"temperatura_gruntu_data\": \"2025-05-12 22:50:00\",\n        \"wiatr_kierunek\": \"20\",\n        \"wiatr_kierunek_data\": \"2025-05-12 22:50:00\",\n        \"wiatr_srednia_predkosc\": \"0.7\",\n        \"wiatr_srednia_predkosc_data\": \"2025-05-12 22:50:00\",\n        \"wiatr_predkosc_maksymalna\": \"1.2\",\n        \"wiatr_predkosc_maksymalna_data\": \"2025-05-12 22:50:00\",\n        \"wilgotnosc_wzgledna\": \"72.8\",\n        \"wilgotnosc_wzgledna_data\": \"2025-05-12 22:50:00\",\n        \"wiatr_poryw_10min\": None,\n        \"wiatr_poryw_10min_data\": None,\n        \"opad_10min\": \"0\",\n        \"opad_10min_data\": \"2025-05-12 22:20:00\"\n    }\n]\n\n# Tworzenie mapy\nmapa = folium.Map(location=[52.320278, 19.540556], zoom_start=6)\n\n# Dodawanie punktów stacji na mapę\nfor station in stations:\n    folium.Marker(\n        location=[float(station[\"lat\"]), float(station[\"lon\"])],\n        popup=f'{station[\"nazwa_stacji\"]} ({station[\"kod_stacji\"]})',\n        tooltip=station[\"nazwa_stacji\"]\n    ).add_to(mapa)\n\n# Zapisanie mapy do pliku HTML\nmapa.save(\"mapa_stacji_meteo.html\")\nmapa",
      "metadata": {
        "trusted": true
      },
      "outputs": [],
      "execution_count": null
    },
    {
      "id": "ad58bd65-f165-4f81-bb08-5e3e91f8722b",
      "cell_type": "code",
      "source": "",
      "metadata": {
        "trusted": true
      },
      "outputs": [],
      "execution_count": null
    }
  ]
}