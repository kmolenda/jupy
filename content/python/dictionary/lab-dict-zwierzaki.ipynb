{
  "metadata": {
    "kernelspec": {
      "name": "python",
      "display_name": "Python (Pyodide)",
      "language": "python"
    },
    "language_info": {
      "codemirror_mode": {
        "name": "python",
        "version": 3
      },
      "file_extension": ".py",
      "mimetype": "text/x-python",
      "name": "python",
      "nbconvert_exporter": "python",
      "pygments_lexer": "ipython3",
      "version": "3.8"
    }
  },
  "nbformat_minor": 5,
  "nbformat": 4,
  "cells": [
    {
      "id": "e9c4b355-f270-4045-a018-26dcd6f0451b",
      "cell_type": "markdown",
      "source": "# Ćwiczenie - słownik (zwierzaki)\n\n* Krzysztof Molenda, ver. 2025.05.10\n\nĆwiczenie kształtuje podstawowe umiejętności posługiwania się słownikiem (`dict`) w języku Python.",
      "metadata": {}
    },
    {
      "id": "4fbada3b-c165-4a87-8e46-620c2eb51819",
      "cell_type": "markdown",
      "source": ":::{exercise} Polecenia do ćwiczenia\n:nonumber:\n\nWykonuj odane kroki po kolei, w kolejnych komórkach obliczeniowych notatnika. Eksperymentuj.\n\n1. Za pomocą `dict`, stwórz **co najmniej** 5-elementowy słownik zawierający listę zwierząt (\"kot\", \"pies\", \"krowa”, \"kura\", \"wąż\", ...) i odpowiadającą im liczbę nóg.\n2. Wydrukuj zawartość słownika na konsolę.\n3. Przetestuj, czy zawiera on określony element  (np. `kura`, albo wartość `4`).\n4. Sprawdź, czy w słowniku są zwierzęta z 6 nogami.\n5. Dodaj do słownika zwierzę \"pająk\" z liczbą nóg 6.\n6. Wypisz na konsoli zawartość słownika.\n7. Zmień pająkowi liczbę nóg na 8.\n8. Wypisz na konsoli zwierzęta zapamiętane w słowniku, w kolejności rosnącej (`keys`).\n9. Wypisz na konsoli zbiór nóg zapamiętanych w słowniku (`values`).\n10. Wypisz na konsoli te zapamiętane zwierzęta, które mają 4 nogi.\n11. Wypisz na konsoli sumę nóg zapisanych w słowniku zwierząt.\n12. Spróbuj ponownie dodać do słownika pająka z liczbą nóg 8.\n13. Usuń wpis dotyczący pająka ze słownika.\n14. Wypisz na konsoli zwierzęta oraz liczbę nóg, w kolejności od najmniejszej liczby nóg do największej. W przypadku tej samej liczby nóg wypisz zwierzęta w kolejności rosnącej (porządek leksykograficzny).\n:::",
      "metadata": {}
    },
    {
      "id": "3759c76f-b63f-4b0a-a638-44560e872911",
      "cell_type": "code",
      "source": "",
      "metadata": {
        "trusted": true
      },
      "outputs": [],
      "execution_count": null
    }
  ]
}