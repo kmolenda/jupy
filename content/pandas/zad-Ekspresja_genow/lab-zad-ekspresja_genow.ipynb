{
  "metadata": {
    "kernelspec": {
      "name": "python",
      "display_name": "Python (Pyodide)",
      "language": "python"
    },
    "language_info": {
      "codemirror_mode": {
        "name": "python",
        "version": 3
      },
      "file_extension": ".py",
      "mimetype": "text/x-python",
      "name": "python",
      "nbconvert_exporter": "python",
      "pygments_lexer": "ipython3",
      "version": "3.8"
    }
  },
  "nbformat_minor": 5,
  "nbformat": 4,
  "cells": [
    {
      "id": "b0d0adda-2df0-4f67-ba59-6d799392c323",
      "cell_type": "markdown",
      "source": "# Zadanie - ekspresja genów\n\n* Krzysztof Molenda, 2025-05-03",
      "metadata": {}
    },
    {
      "id": "7abf7e55-a9dd-4df4-bc43-d7452e19387e",
      "cell_type": "markdown",
      "source": "## Temat\n\n:::{pull-quote}\nAnaliza wpływu ekspresji genów i liczby mutacji na odporność komórek nowotworowych na leczenie, z uwzględnieniem typu tkanki.\n:::",
      "metadata": {}
    },
    {
      "id": "81f7586a-fe8d-47ad-8493-31c5c363ff13",
      "cell_type": "markdown",
      "source": "## Dane\n\nDane reprezentują poglądowe, hipotetyczne wyniki badań laboratoryjnych nad komórkami nowotworowymi:\n\n::::{admonition} Przykładowe dane laboratoryjne\n:class: dropdown\n\n| **ID próbki** | **Ekspresja genu** | **Liczba mutacji** | **Odporność na leczenie** | **Typ tkanki** |\n| ------------- | ------------------ | ------------------ | ------------------------- | -------------- |\n| 1             | 2.51               | 5                  | 0.32                      | Płuca          |\n| 2             | 3.12               | 12                 | 0.89                      | Płuca          |\n| 3             | 1.89               | 8                  | 0.56                      | Jelito grube   |\n| 4             | 4.02               | 20                 | 0.95                      | Jelito grube   |\n| 5             | 0.98               | 2                  | 0.12                      | Mózg           |\n| ...           | ...                | ...                | ...                       | ...            |\n| 999           | 3.45               | 15                 | 0.67                      | Płuca          |\n| 1000          | 1.23               | 3                  | 0.21                      | Mózg           |\n\n\n::::\n\n**Opis zmiennych:**\n\n- `Ekspresja genu` - poziom ekspresji danego genu, mierzony jako wartość ciągła (np. transkrypcja RNA).\n- `Liczba mutacji` - liczba mutacji zidentyfikowanych w DNA komórek nowotworowych.\n- `Typ tkanki` - rodzaj tkanki, z której pochodzą komórki nowotworowe (np. \"Płuca\", \"Jelito grube\", \"Mózg\").\n- `Odporność na leczenie` - procent przeżywalności komórek, odsetek komórek nowotworowych, które przeżyły po poddaniu ich działaniu leku\n\n:::{seealso} Dane do obliczeń\nDane do analizy zamieszczone są w pliku `dane_komorki_nowotworowe.csv`. Dane te są hipotetyczne.\n:::",
      "metadata": {}
    },
    {
      "id": "83d7c38a-67d6-44d5-8b5a-8715c5427a40",
      "cell_type": "markdown",
      "source": ":::{seealso} Dodatkowe wyjaśnienia\n:class: dropdown\n\n`Ekspresja genu` - poziom ekspresji danego genu, mierzony jako wartość ciągła (np. transkrypcja RNA).\n\n- Wartości takie jak 2.51, 3.12, 1.89 itd. nie oznaczają bezpośrednio \"ilości\" genu w sensie fizycznym. To względne miary obfitości transkryptów (kopii RNA). Nie możemy powiedzieć, że 3.12 to \"dużo\", a 1.89 to \"mało\" bez odniesienia. \t\n\n* Porównanie między próbkami:\n\t- Jeśli komórki nowotworowe z płuca mają średnią ekspresję genu 3.5, a komórki z mózgu 1.5, sugeruje to, że gen jest bardziej aktywny w komórkach płuc.\n\t- Jeśli ekspresja genu w komórkach opornych na lek wynosi 5.0, a w komórkach wrażliwych 1.0, gen może odgrywać rolę w oporności.\n\n* Znaczenie biologiczne:\n\t- Wysoka ekspresja (w porównaniu):\n\t    - Gen może być \"włączony\" i odgrywać aktywną rolę w komórce nowotworowej.\n\t    - Może to oznaczać zwiększoną produkcję białka, które wpływa na wzrost, przeżycie lub oporność na lek.\n\t- Niska ekspresja (w porównaniu):\n\t    - Gen może być \"wyłączony\" lub mało aktywny.\n\t    - Może to prowadzić do niedoboru białka, które normalnie hamuje wzrost nowotworu.\n\n* Korelacje i modelowanie:\n\t- W analizie danych będziemy szukać korelacji między ekspresją genu a odpornością na leczenie, biorąc pod uwagę typ tkanki.\n\t- Modelowanie statystyczne pomoże nam ocenić, czy ekspresja genu jest niezależnym predyktorem oporności, czy też jej wpływ zależy od innych czynników.\n:::",
      "metadata": {}
    },
    {
      "id": "c8c7af87-2aca-4f90-82bb-72d6f6d58b4a",
      "cell_type": "markdown",
      "source": ":::{hint} Podpowiedzi\nDane zawierają błędy. Musisz je wykryć i usunąć. Nie musisz dbać o każdy wpis - po prostu usuń przypadki z błędami lub zastąp uśrednionymi wartościami. Skorzystaj z funkcji `dropna()` oraz `fillna()`.\n\nReferencje: \n* [Working with missing data - Pandas User Guide](https://pandas.pydata.org/pandas-docs/stable/user_guide/missing_data.html#missing-data)\n* [Data Cleaning and Preparation, at Python for Data Analysis](https://wesmckinney.com/book/data-cleaning)\n:::",
      "metadata": {}
    },
    {
      "id": "63f4cd48-9a8c-44bf-aa4c-d74d6d12f67d",
      "cell_type": "markdown",
      "source": "## Cel\n\nPrzeprowadź analizę danych.\n\nRozważ\n\n* Określenie korelacji między ekspresją genu a odpornością na leczenie.\n* Zbadanie wpływu liczby mutacji na odporność komórek.\n* Analiza różnic w odporności na leczenie w zależności od typu tkanki.\n* Modelowanie odporności na leczenie na podstawie ekspresji genu i liczby mutacji, z uwzględnieniem typu tkanki.\n* Identyfikacja genów, których ekspresja ma największy wpływ na odpowiedź na leczenie.\n",
      "metadata": {}
    },
    {
      "id": "0645ed7c-1d38-4d58-b0b2-604fbd57b970",
      "cell_type": "markdown",
      "source": "## Forma\n\nZadanie wykonaj w Jupyter Notebook, z wykorzystaniem biblioteki Pandas. Możesz skorzystać z niniejszego notatnika.\n\nMożesz, a nawet powinieneś korzystać z pomocy asystenta AI (Copilot, OpenAI, Gemini, ...)\n\nZadając pytanie dla AI musisz być precyzyjny. Zacznij od zbudowania kontekstu. Na przykład:\n\n> Analizuję dane w Jupyter Notebook. Wykorzystuję Pandas, SciPy. Do tworzenia wykresów korzystam z Seaborn. Mam zmienną `dane` typu `DataFrame`. Zmienne: \"lista i opis zmiennych\". \"Teraz właściwa część pytania\"\n\nOczywiście wyniki wygenerowane przez AI mogą nie być poprawne, ale najczęściej wymagają tylko pewnych korekt, aby mogły być uruchomione w Twoim notatniku.",
      "metadata": {}
    },
    {
      "id": "4fdb0d4e-b6a1-468b-80bb-2d0b24952778",
      "cell_type": "markdown",
      "source": "## Obliczenia",
      "metadata": {}
    },
    {
      "id": "870a1532-16d1-466a-9789-7364649a8a36",
      "cell_type": "code",
      "source": "# importowanie być może potrzebnych bibliotek\nimport pandas as pd\nimport numpy as np\nimport matplotlib\nimport matplotlib.pyplot as plt\nimport piplite\nawait piplite.install('seaborn')\nimport seaborn as sns\nfrom scipy import stats",
      "metadata": {
        "trusted": true
      },
      "outputs": [],
      "execution_count": null
    },
    {
      "id": "d65f4493-1e62-47fe-b3e9-335458ee720a",
      "cell_type": "code",
      "source": "# wykonaj obliczenia i wizualizacje",
      "metadata": {
        "trusted": true
      },
      "outputs": [],
      "execution_count": null
    },
    {
      "id": "3cac9ede-fc5c-4aab-9a5d-e352ab2f3702",
      "cell_type": "code",
      "source": "",
      "metadata": {
        "trusted": true
      },
      "outputs": [],
      "execution_count": null
    }
  ]
}