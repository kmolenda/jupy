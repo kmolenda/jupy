{
 "cells": [
  {
   "cell_type": "markdown",
   "id": "4e5da9db",
   "metadata": {},
   "source": [
    "# Statystyczna analiza danych z Pandas. Wynagrodzenia\n",
    "\n",
    "* Krzysztof Molenda, ver. 2025.05.01\n",
    "\n",
    ":::{admonition} Ważne\n",
    ":class: warning\n",
    "\n",
    "Niniejsze ćwiczenie opracowane jest w formie interaktywnego notatnika Jupyter. \n",
    "\n",
    "Należy zapoznawać się z treścią **po kolei**, uruchamiając kolejne komórki z kodem. Wszystkie kroki są szczegółowo wyjaśnione. W niektórych przypadkach pojawią się błędy, które są omawiane w treści ćwiczenia.\n",
    "\n",
    "Zawsze mozna zrestartować jądro Jupyter Notebooka i wyczyścić wszystkie wyniki obliczeń (komenda `Kernel -> Restart & Clear Output`). \n",
    ":::"
   ]
  },
  {
   "cell_type": "markdown",
   "id": "807f159b",
   "metadata": {},
   "source": [
    "## Wprowadzenie\n",
    "\n",
    "Pandas to biblioteka Pythona do analizy danych. Umożliwia łatwe manipulowanie danymi, ich przetwarzanie i wizualizację. W tym ćwiczeniu zapoznamy się z podstawowymi funkcjami biblioteki Pandas oraz z metodami analizy danych. Ćwiczenie obejmuje następujące zagadnienia:\n",
    "\n",
    "* Wczytanie danych z pliku Excel\n",
    "* Wstępna analiza danych\n",
    "* Podstawowe operacje na danych\n",
    "* Wizualizacja danych\n",
    "* Analiza statystyczna danych\n",
    "\n",
    "Ćwiczenie realizujemy wykorzystując środowisko Jupyter Notebook."
   ]
  },
  {
   "cell_type": "markdown",
   "id": "b9d710cd",
   "metadata": {},
   "source": [
    "Podstawowym obiektem w Pandas jest `DataFrame`, który jest dwuwymiarową tabelą danych. `DataFrame` można porównać do arkusza kalkulacyjnego, gdzie kolumny to zmienne, a wiersze to obserwacje. Pandas umożliwia łatwe manipulowanie danymi w `DataFrame`, takie jak filtrowanie, sortowanie, grupowanie i agregowanie danych. Wspiera równie podstawowe obliczenia statystyczne i wizualizację danych."
   ]
  },
  {
   "cell_type": "markdown",
   "id": "52e5999c",
   "metadata": {},
   "source": [
    "## Instalacja\n",
    "\n",
    "Jesli używasz Google Colab, Anaconda, Jupyter Notebook czy JupyterLab/JupyterLite - biblioteka Pandas jest już zainstalowana. W przeciwnym razie, jeśli używasz lokalnej instalacji Pythona, musisz zainstalować Pandas samodzielnie.\n",
    "\n",
    "Aby zainstalować Pandas, należy użyć menedżera pakietów Pythona, np. `pip`. W terminalu należy wpisać:\n",
    "\n",
    "```bash\n",
    "pip install pandas\n",
    "```"
   ]
  },
  {
   "cell_type": "markdown",
   "id": "565a551e",
   "metadata": {},
   "source": [
    "## Konfiguracja\n",
    "Aby używać Pandas w Jupyter Notebook, należy zaimportować bibliotekę. W tym celu należy wpisać następujące polecenie:\n",
    "\n",
    "```python\n",
    "import pandas as pd\n",
    "```"
   ]
  },
  {
   "cell_type": "code",
   "execution_count": null,
   "id": "8beee881",
   "metadata": {},
   "outputs": [],
   "source": [
    "import pandas as pd\n",
    "\n",
    "# wypisuje wersję biblioteki `pandas`\n",
    "print(pd.__version__)"
   ]
  },
  {
   "cell_type": "markdown",
   "id": "ee9d59b4",
   "metadata": {},
   "source": [
    "## Opis problemu\n",
    "\n",
    "W pliku `wynagrodzenia.xlsx`, w arkuszu `Dane` znajdują się dane dotyczące wynagrodzeń pracowników w pewnej firmie. Dane są zanonimizowane i pochodzą sprzed wielu lat, stąd wartości wynagrodzenia mogą być nieaktualne. W pliku znajdują się dane dotyczące 1000 pracowników. \n",
    "\n",
    "W pliku tym mamy następujące kolumny:\n",
    "* `Pracownik` - identyfikator pracownika, napis\n",
    "* `Pensja` - wynagrodzenie pracownika, liczba zmiennoprzecinkowa\n",
    "* `Staż pracy` - liczba lat pracy w firmie, liczba całkowita\n",
    "* `Płeć` - płeć: `M` - mężczyzna, `K` - kobieta, napis\n",
    "\n",
    "Celem ćwiczenia jest przeprowadzenie analizy danych dotyczących wynagrodzeń pracowników. W szczególności zależy nam na uzyskaniu informacji o:\n",
    "\n",
    "* średnim wynagrodzeniu pracowników w firmie\n",
    "* średnim wynagrodzeniu pracowników w zależności od płci, od stażu pracy\n",
    "* rozkładzie wynagrodzeń pracowników (również w zależności od płci i stażu pracy)\n",
    "\n",
    "Chcielibyśmy również uzyskać informacje o ewentualnie istniejących związkach między wynagrodzeniem a płcią oraz stażem pracy. W tym celu przeprowadzimy analizę statystyczną danych, w tym testy statystyczne i wizualizację danych."
   ]
  },
  {
   "cell_type": "markdown",
   "id": "3d5c56ea",
   "metadata": {},
   "source": [
    "## Wczytanie danych z pliku Excel\n",
    "\n",
    "Pandas umożliwia wczytywanie danych z różnych źródeł, w tym z plików Excel, CSV, JSON, baz danych SQL i innych. W naszym przypadku dane znajdują się w pliku Excel, który zawiera arkusz z danymi.\n",
    "\n",
    "Wczytanie danych z pliku Excel do `DataFrame` można wykonać za pomocą funkcji `pd.read_excel()`. Funkcja ta przyjmuje jako argument ścieżkę do pliku Excel oraz opcjonalnie nazwę arkusza, z którego chcemy wczytać dane. W naszym przypadku wczytamy dane z pliku `wynagrodzenia.xlsx`, który znajduje się w tym samym katalogu co nasz notatnik.\n",
    "\n",
    "Do poprawnego działania funkcji `pd.read_excel()` potrzebny jest wcześniej zainstalowany pakiet `openpyxl`. Można go zainstalować w systemie za pomocą polecenia:\n",
    "\n",
    "```bash\n",
    "pip install openpyxl\n",
    "```"
   ]
  },
  {
   "cell_type": "code",
   "execution_count": null,
   "id": "97a99c65",
   "metadata": {},
   "outputs": [],
   "source": [
    "# instalacja openpyxl w środowisku JupyterLite\n",
    "import piplite\n",
    "await piplite.install('openpyxl')"
   ]
  },
  {
   "cell_type": "code",
   "execution_count": null,
   "id": "e7619b36",
   "metadata": {},
   "outputs": [],
   "source": [
    "# instalacja biblioteki openpyxl w innych środowiskach Jupyter\n",
    "# !pip install openpyxl\n",
    "# %pip install openpyxl"
   ]
  },
  {
   "cell_type": "code",
   "execution_count": null,
   "id": "83486a0f",
   "metadata": {},
   "outputs": [],
   "source": [
    "# wczytuje dane z pliku Excel\n",
    "dane = pd.read_excel('wynagrodzenia.xlsx', sheet_name='Dane')"
   ]
  },
  {
   "cell_type": "markdown",
   "id": "65409dc5",
   "metadata": {},
   "source": [
    "Aby potwierdzić załadowanie danych z pliku do `DataFrame`, poleceniem `print()` wypiszemy kilka początkowych i końcowych wierszy wczytanych danych."
   ]
  },
  {
   "cell_type": "code",
   "execution_count": null,
   "id": "c74594ec",
   "metadata": {},
   "outputs": [],
   "source": [
    "print(dane)"
   ]
  },
  {
   "cell_type": "markdown",
   "id": "cf91f333",
   "metadata": {},
   "source": [
    "W przypadku pracy z notatnikiem Jupyter, lepszym rozwiązaniem jest użycie polecenia `display()`, aby wyświetlić dane w formie interaktywnej tabeli.\n",
    "\n",
    "::::{hint}\n",
    ":class: dropdown\n",
    "\n",
    "Pracując z Jupyter Notebook\n",
    "* warto używać polecenia `display()` zamiast `print()`, aby uzyskać lepszą wizualizację danych; funkcja `display()` wykrywa typ przekazanego obiektu i wyświetla go w odpowiedniej, najbardziej czytelnej formie;\n",
    "* zamiast jawnie wywoływać funkcję `display()`, można w ostatniej linii komórki wpisać nazwę zmiennej, aby Jupyter automatycznie wywołał `display()` dla obiektu wskazywanego przez tę zmienną. Na przykład, zamiast \n",
    "    ```python\n",
    "    display(dane)\n",
    "    ```\n",
    "  można wpisać po prostu \n",
    "    ```python\n",
    "    dane\n",
    "    ``` \n",
    "* funkcji `display()` używamy, jeśli w komórce mamy więcej niż jedną instrukcję - i chcemy wymusić wyświetlenie obiektu nie występującego w ostatnim wierszu kodu.\n",
    "::::"
   ]
  },
  {
   "cell_type": "code",
   "execution_count": null,
   "id": "c7a434a5",
   "metadata": {},
   "outputs": [],
   "source": [
    "# jawne wywołanie funkcji `display` z biblioteki IPython\n",
    "display(dane)\n",
    "\n",
    "# niejawne wywołanie funkcji `display`, ostatni obiekt w komórce\n",
    "dane"
   ]
  },
  {
   "cell_type": "markdown",
   "id": "453485ec",
   "metadata": {},
   "source": [
    "W podsumowaniu wyświetlanej tabeli mamy informację, że dane zawierają 1000 wierszy i 4 kolumny. Wiersze odpowiadają pracownikom, a kolumny to zmienne: `Pracownik`, `Pensja`, `Staż pracy` i `Płeć`. Wiersze automatycznie ponumerowane zostały wewnętrznie od `0` do `999`. Ta nienazwana początkowa kolumna to **indeks**, który jest domyślnie generowany przez Pandas. Aby dowiedzieć się więcej o indeksach w naszym DataFrame, można użyć polecenia `dane.index`. W podobny sposób można sprawdzić, jakie są nazwy kolumn wczytanych danych, używając polecenia `dane.columns`. Wartości w kolumnach można sprawdzić za pomocą polecenia `dane.values`. Wartości w kolumnach są przechowywane w formie tablic biblioteki _NumPy._"
   ]
  },
  {
   "cell_type": "code",
   "execution_count": null,
   "id": "5b5606d5",
   "metadata": {},
   "outputs": [],
   "source": [
    "display(dane.index)\n",
    "display(dane.columns)\n",
    "display(dane.values)"
   ]
  },
  {
   "cell_type": "markdown",
   "id": "9c85f837",
   "metadata": {},
   "source": [
    "**Zmiana indeksu tabeli**\n",
    "\n",
    "Indeks można zmienić, np. na kolumnę `Pracownik`, używając polecenia `dane.set_index('Pracownik', inplace = True)`. Wówczas kolumna `Pracownik` stanie się indeksem `DataFrame`, a kolejne kolumny zawierać będą dane dotyczące pracowników."
   ]
  },
  {
   "cell_type": "code",
   "execution_count": null,
   "id": "49f56c4f",
   "metadata": {},
   "outputs": [],
   "source": [
    "dane.set_index('Pracownik', inplace=True)\n",
    "display(dane)\n",
    "display(dane.index)\n",
    "display(dane.columns)"
   ]
  },
  {
   "cell_type": "markdown",
   "id": "290a1da3",
   "metadata": {},
   "source": [
    ":::{important}\n",
    "* Parametr `inplace = True` oznacza, że zmiany zostaną wprowadzone bezpośrednio w DataFrame `dane`. Jeśli nie użyjemy tego argumentu, zmiany zostaną wprowadzone w nowym DataFrame, a oryginalny DataFrame pozostanie bez zmian.\n",
    "* Numeracja wewnętrzna wierszy nadal będzie obowiazywała od `0` do `999`, ale kolumna `Pracownik` stanie się indeksem DataFrame. Numeracja wewnętrzna kolumn zmieni się - kolumną `0` będzie `Pensja`, kolumną `1` - `Staż pracy`, a kolumną `2` - `Płeć`.\n",
    ":::"
   ]
  },
  {
   "cell_type": "markdown",
   "id": "35efabee",
   "metadata": {},
   "source": [
    "## Wstępna analiza i czyszczenie danych\n",
    "Wstępna analiza danych polega na sprawdzeniu, czy dane są poprawne i czy nie zawierają błędów."
   ]
  },
  {
   "cell_type": "markdown",
   "id": "31a8877d",
   "metadata": {},
   "source": [
    "### Dostęp do danych\n",
    "\n"
   ]
  },
  {
   "cell_type": "markdown",
   "id": "e990d50d",
   "metadata": {},
   "source": [
    "Obiekt `DataFrame` można traktować jak tablicę, gdzie kolumny to zmienne, a wiersze to obserwacje. Poniższy rysunek wyjaśnia znaczenie poszczególnych elementów `DataFrame`:"
   ]
  },
  {
   "cell_type": "code",
   "execution_count": null,
   "id": "54d3463e",
   "metadata": {},
   "outputs": [],
   "source": [
    "from IPython.display import Image\n",
    "Image(filename='dataframe-objasnienia.png', width=400, height=400)"
   ]
  },
  {
   "cell_type": "markdown",
   "id": "1f30c07a",
   "metadata": {},
   "source": [
    "Wiersze i kolumny wewnętrznie indeksowane są liczbami od `0`. Czasami, za pośrednictwem tych indeksów możemy uzyskać dostęp do danych. Zdecydowanie lepszym i bezpieczniejszym sposobem jest odwoływanie się do do danych za pomocą nazw kolumn (zmiennych) czy nazw wierszy (przypadków/obserwacji).\n",
    "\n",
    "Generalnie, aby odwołać się do elementu `DataFrame`, używamy operatora nawiasu kwadratowego `[]` - podobnie jak w Pythonie odwoływanie się do elementów słownika (nawiasem mówiąc, `DataFrame` przypomina swoją budową słownik)."
   ]
  },
  {
   "cell_type": "markdown",
   "id": "7e39a63a",
   "metadata": {},
   "source": [
    "#### Odwołania do kolumn\n",
    "\n",
    "Aby odwołać się do konkretnej kolumny, używamy operatora `[]` i podajemy nazwę kolumny w cudzysłowie. Na przykład, aby uzyskać dostęp do kolumny `Pensja`, używamy polecenia `dane['Pensja']`. "
   ]
  },
  {
   "cell_type": "code",
   "execution_count": null,
   "id": "060f847e",
   "metadata": {},
   "outputs": [],
   "source": [
    "dane['Pensja']"
   ]
  },
  {
   "cell_type": "markdown",
   "id": "dac94d6b",
   "metadata": {},
   "source": [
    "Możemy również uzyskać dostęp do kilku kolumn jednocześnie, podając **listę nazw kolumn** (w nawiasach kwadratowych, jak w Pythonie). Na przykład, aby uzyskać dostęp do kolumn `Płeć` i `Pensja`, używamy polecenia `dane[['Płeć', 'Pensja']]` - przekazując listę nazw kolumn w oczekiwanej kolejności."
   ]
  },
  {
   "cell_type": "code",
   "execution_count": null,
   "id": "cfb57f7e",
   "metadata": {},
   "outputs": [],
   "source": [
    "dane[['Płeć', 'Pensja']]"
   ]
  },
  {
   "cell_type": "markdown",
   "id": "266affb2",
   "metadata": {},
   "source": [
    "::::{important}\n",
    "\n",
    "Wynikiem odwołania się do elementu DataFrame za pomocą operatora `[]` jest nowy obiekt (`Series` lub `DataFrame`), który zawiera tylko te dane, do których się odwołaliśmy. Wartości w tym obiekcie są kopiowane z oryginalnego DataFrame. Wszelkie zmiany wprowadzone w tym nowym obiekcie nie wpłyną na oryginalny DataFrame.\n",
    "\n",
    "Jeśli chcemy produkowane dane zapamiętać w nowym obiekcie, zapiszemy je w zmiennej. Na przykład, aby zapisać kolumnę `Pensja` w zmiennej `pensje`, używamy polecenia `pensje = dane['Pensja']`. Wówczas zmienna `pensje` będzie zawierała kopię kolumny `Pensja` z oryginalnego DataFrame.\n",
    "::::"
   ]
  },
  {
   "cell_type": "code",
   "execution_count": null,
   "id": "bd8583f0",
   "metadata": {},
   "outputs": [],
   "source": [
    "pensje = dane['Pensja']\n",
    "pensje"
   ]
  },
  {
   "cell_type": "markdown",
   "id": "23bcc5c1",
   "metadata": {},
   "source": [
    ":::{tip}\n",
    ":class: dropdown\n",
    "\n",
    "Jeśli nazwy kolumn są poprawnymi identyfikatorami Pythona, można uzyskać dostęp do kolumny bez użycia operatora `[]`, a za pomocą operatora wyłuskania `.` \n",
    "\n",
    "Na przykład, aby uzyskać dostęp do kolumny `Pensja`, można użyć polecenia `dane.Pensja`. Podobnie z uzyskaniem dostępu do kilku kolumn jednocześnie - można użyć polecenia `dane[['Płeć', 'Pensja']]` lub `dane.Płeć, dane.Pensja`.\n",
    "\n",
    "Jednakże, jeśli nazwa kolumny zawiera spacje lub inne znaki specjalne, nie można użyć operatora `.` do uzyskania dostępu do kolumny. Na przykład, aby uzyskać dostęp do kolumny `Staż pracy`, nie można użyć polecenia `dane.Staż pracy`, ponieważ zawiera ono spację.\n",
    ":::"
   ]
  },
  {
   "cell_type": "code",
   "execution_count": null,
   "id": "8ea5ad7f",
   "metadata": {},
   "outputs": [],
   "source": [
    "display(dane.Płeć, dane.Pensja)"
   ]
  },
  {
   "cell_type": "markdown",
   "id": "3bdb579f",
   "metadata": {},
   "source": [
    "#### Odwołania `loc` oraz `iloc`\n",
    "\n",
    "Ze względu na to, że `DataFrame` dysponuje wieloma sposobami indeksowania jego danych, wprowadzono uniwersalny sposób odwoływania się do danych w `DataFrame` - za pomocą metody `loc[]` oraz `iloc[]`. \n",
    "\n",
    "* Metoda `loc[]` służy do indeksowania danych na podstawie etykiet (indeksów)\n",
    "* Metoda `iloc[]` służy do indeksowania danych na podstawie pozycji (indeksów liczbowych, wewnętrznych).\n",
    "\n",
    "Zarówno `loc[]`, jak i `iloc[]` można używać do uzyskiwania dostępu do pojedynczych wartości, wierszy, kolumn lub podzbiorów danych w `DataFrame`."
   ]
  },
  {
   "cell_type": "markdown",
   "id": "88f92452",
   "metadata": {},
   "source": [
    "#### Odwołanie do wierszy"
   ]
  },
  {
   "cell_type": "markdown",
   "id": "89caf020",
   "metadata": {},
   "source": [
    "**Odwołania pozycyjne**\n",
    "\n",
    "Aby uzyskać dostęp do konkretnego wiersza, używamy operatora `iloc[]` i podajemy numer wiersza (numeracja wewnętrzna, od `0`). Na przykład, aby uzyskać dostęp do pierwszego wiersza, używamy polecenia `dane.iloc[0]`. Możemy również uzyskać dostęp do kilku wierszy jednocześnie, podając **listę numerów wierszy**. Na przykład, aby uzyskać dostęp do pierwszych pięciu wierszy, używamy polecenia `dane.iloc[[0, 1, 2, 3, 4]]`."
   ]
  },
  {
   "cell_type": "code",
   "execution_count": null,
   "id": "766ccfe1",
   "metadata": {},
   "outputs": [],
   "source": [
    "display(dane.iloc[0])"
   ]
  },
  {
   "cell_type": "code",
   "execution_count": null,
   "id": "b9bf35c1",
   "metadata": {},
   "outputs": [],
   "source": [
    "display(dane.iloc[[0, 2, 4, 6]])"
   ]
  },
  {
   "cell_type": "markdown",
   "id": "746b5655",
   "metadata": {},
   "source": [
    "Nic nie stoi na przeszkodzie, aby używać slicerów. Na przykład, aby uzyskać dostęp do pierwszych pięciu wierszy, można użyć polecenia `dane.iloc[0:5]`. Można również użyć operatora `:` do uzyskania dostępu do wszystkich wierszy (`dane.iloc[:]`) lub do ostatnich dwóch wierszy (`dane.iloc[-2:]`).\n",
    "\n",
    ":::{important}\n",
    "Fragmentacja (ang. _slicing_) w Pandas w nawiasach `[]` **działa dla wierszy**.\n",
    ":::"
   ]
  },
  {
   "cell_type": "code",
   "execution_count": null,
   "id": "5bd9af2b",
   "metadata": {},
   "outputs": [],
   "source": [
    "display(dane.iloc[0:5])\n",
    "display(dane.iloc[-2:])"
   ]
  },
  {
   "cell_type": "markdown",
   "id": "8ca0e4bc",
   "metadata": {},
   "source": [
    "**Odwołania przez nazwy**\n",
    "\n",
    "Drugi wariant, metoda `loc[]`, działa podobnie, ale zamiast numerów wierszy używamy etykiet (indeksów). Na przykład, aby uzyskać dostęp do pierwszego wpisu użyjemy polecenia `dane.loc['P1']`. Możemy również uzyskać dostęp do kilku wierszy jednocześnie, podając **listę etykiet**. Na przykład, aby uzyskać dostęp do co drugiego wiersza od `P1` do `p7`, używamy polecenia `dane.loc[['P1', 'P3', 'P5', 'P7']]` lub z wykorzystaniem slicera `dane.loc['P1':'P7':2]`."
   ]
  },
  {
   "cell_type": "code",
   "execution_count": null,
   "id": "7a8cd4ef",
   "metadata": {},
   "outputs": [],
   "source": [
    "print(\"czy loc['P1'] == iloc[0]?\")\n",
    "display(dane.loc[\"P1\"] == dane.iloc[0])"
   ]
  },
  {
   "cell_type": "code",
   "execution_count": null,
   "id": "1eada8a4",
   "metadata": {},
   "outputs": [],
   "source": [
    "dane.loc[['P1', 'P3', 'P5', 'P7']]"
   ]
  },
  {
   "cell_type": "code",
   "execution_count": null,
   "id": "e9b116a2",
   "metadata": {},
   "outputs": [],
   "source": [
    "dane.loc['P1':'P7':2]"
   ]
  },
  {
   "cell_type": "markdown",
   "id": "3ccdfab5",
   "metadata": {},
   "source": [
    ":::{important}\n",
    "Slicery dla `loc[]` działają od pierwszego do ostatniego wskazanego elementu. Oznacza to, że w przypadku `loc[]` **ostatnia etykieta jest również brana pod uwagę**, podczas gdy w przypadku `iloc[]` ostatnia etykieta nie jest brana pod uwagę (jak w czystym Pythonie).\n",
    ":::"
   ]
  },
  {
   "cell_type": "markdown",
   "id": "9e43f270",
   "metadata": {},
   "source": [
    "#### Odwołania do pojedynczej komórki\n",
    "\n",
    "Aby uzyskać dostęp do konkretnej komórki, używamy operatora `iloc[]` i podajemy numer wiersza oraz numer kolumny. Na przykład, aby uzyskać dostęp do pierwszej komórki w pierwszym wierszu, używamy polecenia `dane.iloc[0, 0]`."
   ]
  },
  {
   "cell_type": "code",
   "execution_count": null,
   "id": "1d3162d2",
   "metadata": {},
   "outputs": [],
   "source": [
    "display(dane.iloc[0,0])"
   ]
  },
  {
   "cell_type": "markdown",
   "id": "4a37c847",
   "metadata": {},
   "source": [
    "Analogicznie, posługując się indeksami, używamy metody `loc[]` podając nazwę wiersza i kolumny. Na przykład, aby uzyskać dostęp do pierwszej komórki w pierwszym wierszu, używamy polecenia `dane.loc['P1', 'Pensja']`."
   ]
  },
  {
   "cell_type": "code",
   "execution_count": null,
   "id": "449cc1d7",
   "metadata": {},
   "outputs": [],
   "source": [
    "dane.loc['P1', 'Pensja']"
   ]
  },
  {
   "cell_type": "markdown",
   "id": "0b663e4a",
   "metadata": {},
   "source": [
    ":::{important}\n",
    "\n",
    "Odwołanie do elementów `DataFrame`, za pomocą indeksów wewnętrznych (liczbowych) oraz etykiet (indeksów) zgłosi bład `IndexError`, `KeyError` lub `TypeError`, jeśli podany indeks lub etykieta nie istnieje. \n",
    "\n",
    "Na przykład, jeśli próbujemy uzyskać dostęp \n",
    "* do wiersza o indeksie `1000`, zgłoszony zostanie błąd `IndexError`,\n",
    "* do wiersza o etykiecie `P1000`, zgłoszony zostanie błąd `KeyError`,\n",
    "* do kolumny o indeksie `4`, zgłoszony zostanie błąd `IndexError`,\n",
    "* do kolumny o nazwie `Pensja1`, zgłoszony zostanie błąd `TypeError`.\n",
    "\n",
    "W takim przypadku należy sprawdzić, czy podany indeks/etykieta istnieje w `DataFrame` - używając polecenia `dane.index` lub `dane.columns`."
   ]
  },
  {
   "cell_type": "code",
   "execution_count": null,
   "id": "848214c6",
   "metadata": {},
   "outputs": [],
   "source": [
    "# dane.iloc[1000, 0]  # niepoprawne, bo nie ma wiersza o indeksie 1000\n",
    "# dane.loc['P1001', 'Pensja']  # niepoprawne, bo nie ma wiersza o indeksie 'P1001'\n",
    "# dane.iloc[0, 4]  # niepoprawne, bo nie ma kolumny o indeksie 4\n",
    "# dane.loc('P1', 'Pensja1')  # niepoprawne, bo nie ma kolumny o nazwie 'Pensja1'"
   ]
  },
  {
   "cell_type": "markdown",
   "id": "b256c7a9",
   "metadata": {},
   "source": [
    ":::{important}\n",
    "Nie wolno mieszać indeksów i etykiet. Na przykład, jeśli próbujemy uzyskać dostęp do wiersza o indeksie `0` i kolumny o nazwie `Pensja` (`dane.iloc[0, 'Pensja']` lub `dane.loc[0,'Pensja']`), zgłoszony zostanie błąd `TypeError`, `ValueError` lub `KeyError`. Należy używać albo indeksów, albo etykiet - nie można ich mieszać.\n",
    ":::"
   ]
  },
  {
   "cell_type": "code",
   "execution_count": null,
   "id": "01490e90",
   "metadata": {},
   "outputs": [],
   "source": [
    "# dane.iloc[0, 'Pensja'] # niepoprawne, bo iloc wymaga indeksu liczbowego, ValueError\n",
    "# dane.loc[0, 'Pensja']  # niepoprawne, bo nie ma wiersza o indeksie/etykiecie `0`, KeyError\n",
    "# dane.loc[\"P1\", 0]  # niepoprawne, bo nie ma kolumny o etykiecie `0`, KeyError"
   ]
  },
  {
   "cell_type": "markdown",
   "id": "981a4f84",
   "metadata": {},
   "source": [
    ":::{tip}\n",
    "Dostep do pojedynczej komórki można również uzyskać za pomocą operatora `at[]` oraz `iat[]`. Na przykład, aby uzyskać dostęp do pierwszej komórki w pierwszym wierszu, użyjemy polecenia `dane.at['P1', 'Pensja']` lub `dane.iat[0, 0]`.\n",
    ":::"
   ]
  },
  {
   "cell_type": "code",
   "execution_count": null,
   "id": "2e79ac4a",
   "metadata": {},
   "outputs": [],
   "source": [
    "display(dane.at['P1', 'Pensja'])\n",
    "display(dane.iat[0, 0])"
   ]
  },
  {
   "cell_type": "markdown",
   "id": "8fe8d7a1",
   "metadata": {},
   "source": [
    "#### Odwołania do podzbiorów danych"
   ]
  },
  {
   "cell_type": "markdown",
   "id": "b8e6c6f6",
   "metadata": {},
   "source": [
    "Aby uzyskać dostęp do podzbioru danych, używamy operatora `iloc[]` i podajemy zakres wierszy oraz kolumn. Na przykład, aby uzyskać dostęp do pięciu wierszy począwszy od wiersza `100` oraz kolumn `Pensja` i `Płeć`, używamy polecenia `dane.iloc[100:105, [1, 3]]`."
   ]
  },
  {
   "cell_type": "code",
   "execution_count": null,
   "id": "f427f614",
   "metadata": {},
   "outputs": [],
   "source": [
    "dane.iloc[100:105, [0, 2]]"
   ]
  },
  {
   "cell_type": "markdown",
   "id": "43192b70",
   "metadata": {},
   "source": [
    "Załóżmy, że chcemy wyświetlić dane dotyczące konkretnych pracowników, których mamy zapamietanych w oddzielnej liście. Wówczas możemy użyć metody `loc[]` i podać tę listę etykiet."
   ]
  },
  {
   "cell_type": "code",
   "execution_count": null,
   "id": "d27cbceb",
   "metadata": {},
   "outputs": [],
   "source": [
    "lista_pracownikow_do_analizy = ['P101', 'P3', 'P25', 'P97']\n",
    "dane.loc[lista_pracownikow_do_analizy, ['Płeć', 'Pensja']]"
   ]
  },
  {
   "cell_type": "markdown",
   "id": "5ea2babd",
   "metadata": {},
   "source": [
    "#### Odwołania - podsumowanie"
   ]
  },
  {
   "cell_type": "markdown",
   "id": "a94e9c61",
   "metadata": {},
   "source": [
    "`DataFrame` można traktować jak tablicę, gdzie kolumny to zmienne, a wiersze to obserwacje. Formalnie, kolumny traktowane są jako serie danych jednego typu, a wiersze jako serie danych różnych typów - w tym celu w Pandas zdefiniowano specjalny typ `Series` jako typ danych jednego wymiaru (jednowymiarowa `DateFrame`).\n",
    "\n",
    "Możemy uzyskać dostęp do danych w `DataFrame` na kilka sposobów:\n",
    "* `dane['Pensja']` - dostęp do kolumny `Pensja` (jako `Series`). Również `dane.Pensja` - dostęp do kolumny `Pensja` (jako `Series`).\n",
    "* `dane[['Pensja', 'Płeć']]` - dostęp do kolumn `Pensja` i `Płeć` (jako `DataFrame`)\n",
    "* `dane.iloc[0]` - dostęp do pierwszego wiersza (jako `Series`)\n",
    "* `dane.iloc[[0, 1, 2]]` - dostęp do pierwszych trzech wierszy (jako `DataFrame`)\n",
    "* `dane.iloc[0:3]` - dostęp do pierwszych trzech wierszy (jako `DataFrame`) - wiersze o indeksach wewnętrznych `0`, `1` i `2`\n",
    "* `dane.iloc[0, 0]` - dostęp do pierwszej komórki (jako `float`)\n",
    "* `dane.iloc[0:3, 0:2]` - dostęp do pierwszych trzech wierszy i pierwszych dwóch kolumn (jako `DataFrame`)\n",
    "* `dane.loc['P1']` - dostęp do wiersza o etykiecie `P1` (jako `Series`)\n",
    "* `dane.loc[['P1', 'P2']]` - dostęp do wierszy o etykietach `P1` i `P2` (jako `DataFrame`)\n",
    "* `dane.loc['P1':'P3']` - dostęp do wierszy o etykietach od `P1` do `P3` włącznie (jako `DataFrame`)\n",
    "* `dane.loc['P1', 'Pensja']` - dostęp do komórki o etykiecie `P1` i kolumnie `Pensja` (jako `float`)\n",
    "* `dane.loc[['P1', 'P2'], ['Pensja', 'Płeć']]` - dostęp do komórek o etykietach `P1` i `P2` oraz kolumnach `Pensja` i `Płeć` (jako `DataFrame`)\n",
    "* `dane.loc['P1':'P3', 'Pensja':'Płeć']` - dostęp do komórek o etykietach od `P1` do `P3` włącznie oraz kolumnach od `Pensja` do `Płeć` włącznie (jako `DataFrame`)\n",
    "\n",
    "Dostep do danych potrzebny jest nam do wyszukiwania informacji jak i ewentualnej ich edycji.\n",
    "\n",
    "W przypadku, gdybyśmy chcieli zmienić wartość w kolumnie `Pensja` dla pracownika o etykiecie `P1`, użyjemy polecenia `dane.loc['P1', 'Pensja'] = 10000`. Wówczas wartość w kolumnie `Pensja` dla pracownika o etykiecie `P1` zostanie zmieniona na `10000`. \n",
    "\n",
    "\n",
    "\n"
   ]
  },
  {
   "cell_type": "markdown",
   "id": "e40e99f9",
   "metadata": {},
   "source": [
    "### Filtrowanie danych\n",
    "\n",
    "Filtrowanie danych polega na wybraniu tylko tych wierszy, które spełniają określone warunki. W Pandas można filtrować dane za pomocą operatorów porównania (`==`, `!=`, `<`, `>`, `<=`, `>=`) oraz operatorów logicznych (`&`, `|`, `~`).\n",
    "\n",
    ":::{important}\n",
    "\n",
    "W Pandas do definiowania filtrowania używamy dedykowanych operatorów logicznych:\n",
    "* `&` - operator AND (i)\n",
    "* `|` - operator OR (lub)\n",
    "* `~` - operator NOT (nie)\n",
    "\n",
    "Przy budowaniu warunków filtrujących **nie używamy** operatorów `and`, `or`, `not` - są to operatory Pythona, które nie działają na obiektach Pandas. Użycie tych operatorów zgłosi błąd `ValueError` lub `TypeError`.\n",
    ":::"
   ]
  },
  {
   "cell_type": "markdown",
   "id": "51f1e2c5",
   "metadata": {},
   "source": [
    "::::{admonition} Przykład\n",
    "\n",
    "Chcesz uzyskać dostęp do wszystkich pracowników którzy sa kobietami i którzy mają wynagrodzenie większe niż `5000`. W tym celu użyjemy operatora `&` oraz operatorów porównania. \n",
    "\n",
    "```python\n",
    "dane[(dane['Płeć'] == 'K') & (dane['Pensja'] > 5000)]\n",
    "```\n",
    "::::"
   ]
  },
  {
   "cell_type": "markdown",
   "id": "43105753",
   "metadata": {},
   "source": [
    "::::{admonition} Przykład\n",
    "\n",
    "Chcesz uzyskać dostęp do wszystkich pracowników, którzy są mężczyznami oraz ich wynagrodzenie mieści się w przedziale `5000` - `10000`. W tym celu użyjemy operatora `|` oraz operatorów porównania.\n",
    "\n",
    "```python\n",
    "dane[(dane['Płeć'] == 'M') | ((dane['Pensja'] >= 5000) & (dane['Pensja'] <= 10000))]\n",
    "```\n",
    "::::"
   ]
  },
  {
   "cell_type": "markdown",
   "id": "dcea866c",
   "metadata": {},
   "source": [
    "**Jak to działa?**\n",
    "\n",
    "W Pandas filtrowanie danych działa na zasadzie maski. Maska to tablica wartości logicznych (`True`/`False`), która wskazuje, które wiersze powinny zostać wybrane. Wartości `True` oznaczają, że dany wiersz spełnia warunek, a wartości `False` oznaczają, że dany wiersz nie spełnia warunku.\n",
    "\n",
    "Maska jest tworzona na podstawie warunków, które definiujemy. Na przykład, jeśli chcemy wybrać tylko te wiersze, w których w kolumnie `Płeć` jest wpisane `K`, używamy następującego polecenia:\n",
    "\n",
    "```python\n",
    "maska = (dane.Płeć == 'K')\n",
    "```\n",
    "\n",
    "Wówczas zmienna `maska` będzie zawierała tablicę wartości logicznych, która wskazuje, które wiersze spełniają warunek.\n",
    "\n",
    "```python\n",
    "maska\n",
    "```\n",
    "    \n",
    "```output\n",
    "0     False\n",
    "1     False\n",
    "...\n",
    "999   True\n",
    "Name: Płeć, dtype: bool\n",
    "```\n",
    "\n",
    "Następnie możemy użyć tej maski do filtrowania danych:\n",
    "\n",
    "```python\n",
    "dane[maska]\n",
    "```\n",
    "\n",
    "Nie musimy jednak tworzyć maski, aby filtrować dane. Możemy od razu użyć warunków w nawiasach kwadratowych:\n",
    "\n",
    "```python\n",
    "dane[dane.Płeć == 'K']\n",
    "```"
   ]
  },
  {
   "cell_type": "code",
   "execution_count": null,
   "id": "2f814ef3",
   "metadata": {},
   "outputs": [],
   "source": [
    "maska = (dane.Płeć == 'K')\n",
    "display(maska)\n",
    "display(dane[maska])"
   ]
  },
  {
   "cell_type": "code",
   "execution_count": null,
   "id": "7f1a5d8b",
   "metadata": {},
   "outputs": [],
   "source": [
    "dane[dane.Płeć == 'K']"
   ]
  },
  {
   "cell_type": "markdown",
   "id": "9fd3c771",
   "metadata": {},
   "source": [
    "Wprowadzając polecenie `dane[dane.Płeć == 'K']`, Pandas automatycznie tworzy maskę na podstawie warunków, które podajemy w nawiasach kwadratowych. Następnie uzywa tej maski do filtrowania danych.\n",
    "\n",
    "Problem może pojawić się w sytuacji, gdy nie można poprawnie wyznaczyć maski. Na przykład chcemy wyznaczyć tych pracowników, których wynagrodzenie jest większe niż `5000`. Filtrujemy dane w następujący sposób:\n",
    "\n",
    "```python\n",
    "dane[dane.Pensja > 5000]\n",
    "```\n",
    "\n",
    "W pierwszej kolejności Pandas tworzy maskę, która wskazuje, które wiersze spełniają podany warunek. \n",
    "\n",
    "* Jeśli w kolumnie `Pensja` znajdują się wartości `NaN`, Pandas nie będzie w stanie poprawnie wyznaczyć maski i zgłosi błąd `ValueError`. W takim przypadku należy najpierw usunąć wartości `NaN` z kolumny `Pensja`, a następnie wykonać filtrację.\n",
    "* Jeśli w kolumnie `Pensja` znajdują się wartości inne niż liczby (na przykład napisy), Pandas również nie będzie w stanie poprawnie wyznaczyć maski i zgłosi błąd `TypeError`. W takim przypadku należy najpierw sprawdzić, czy w kolumnie `Pensja` znajdują się wartości inne niż liczby, a następnie wykonać filtrację."
   ]
  },
  {
   "cell_type": "code",
   "execution_count": null,
   "id": "1ba4d4bf",
   "metadata": {},
   "outputs": [],
   "source": [
    "dane[dane.Pensja > 5000]\n"
   ]
  },
  {
   "cell_type": "markdown",
   "id": "8486240f",
   "metadata": {},
   "source": [
    "Problemy związane z przygotowaniem danych do obliczeń omówione zostaną przy okazji analizy poszczególnych zmiennych."
   ]
  },
  {
   "cell_type": "markdown",
   "id": "ff1153dd",
   "metadata": {},
   "source": [
    "### Typy danych. Czyszczenie danych\n",
    "\n",
    "Każda kolumna w `DataFrame` ma przypisany typ danych.\n",
    "\n",
    "* W naszym przypadku kolumna `Pensja` powinna mieć typ `float` (lub `float64`), ponieważ wynagrodzenie jest liczbą zmiennoprzecinkową. \n",
    "* Kolumna `Staż pracy` powinna mieć typ `int` (lub `int64`), ponieważ staż pracy jest liczbą całkowitą. \n",
    "* Kolumna `Płeć` powinna mieć typ `object`, ponieważ zawiera dane tekstowe (napisy) - `K` płeć żeńska, `M` - płeć męska.\n",
    "* Kolumna indeksu `Pracownik` powinna mieć typ `object`, ponieważ zawiera dane tekstowe (napisy) - identyfikatory pracowników.\n",
    "\n",
    "Typy danych można sprawdzić za pomocą polecenia `dane.dtypes`."
   ]
  },
  {
   "cell_type": "code",
   "execution_count": null,
   "id": "c2695f16",
   "metadata": {},
   "outputs": [],
   "source": [
    "dane.dtypes"
   ]
  },
  {
   "cell_type": "markdown",
   "id": "ba973b66",
   "metadata": {},
   "source": [
    ":::{important}\n",
    "Jeśli kolumna zawiera dane tekstowe, Pandas przypisuje jej typ `object`. Zatem w przypadku, gdy oczekujemy, ze kolumna powinna zawierać liczby całkowite, a Pandas przypisuje jej typ `object`, oznacza to, że kolumna zawiera dane tekstowe. W tej sytuacji należy sprawdzić, czy w kolumnie nie ma błędnych danych (np. liter zamiast liczb).\n",
    ":::"
   ]
  },
  {
   "cell_type": "markdown",
   "id": "6113c34c",
   "metadata": {},
   "source": [
    "W zaimportowanych danych kolumny `Pensja` i `Staż pracy` mają typ `object`, a oczekiwaliśmy liczb. Oznacza to, że zawierają one dane tekstowe że w kolumnach tych mogą znajdować się błędne dane (np. litery zamiast liczb). Należy sprawdzić, czy w kolumnach tych nie ma błędnych danych.\n",
    "\n",
    "Podstawowym poleceniem pozwalającym na całościowy przegląd danych w `DataFrame` jest polecenie `dane.info()`. Polecenie to wyświetla informacje o liczbie wierszy, kolumnach, typach danych oraz liczbie niepustych wartości w każdej kolumnie. \n",
    "\n",
    "Wartości puste są oznaczone jako `NaN` (ang. _Not a Number_) dla typów liczbowych, `Null` dla typów obiektowych i `NaT` (ang. _Not a Time_) dla typów daty i czasu. Wartości puste mogą występować w przypadku, gdy dane są niekompletne lub brakuje ich w źródle danych."
   ]
  },
  {
   "cell_type": "code",
   "execution_count": null,
   "id": "1f85e1f6",
   "metadata": {},
   "outputs": [],
   "source": [
    "dane.info()"
   ]
  },
  {
   "cell_type": "markdown",
   "id": "f2ed9e51",
   "metadata": {},
   "source": [
    "Z powyższego wydruku wynika, że:\n",
    "\n",
    "* zaindeksowane są 1000 wierszy (pd `P1` do `P1000`) i 3 kolumny (`Pensja`, `Staż pracy` i `Płeć`)\n",
    "* kolumna `Pensja` zawiera 998 niepustych wartości, czyli 2 wartości puste (NaN), ale ma typ `object`, co oznacza, że zawiera dane tekstowe (np. litery zamiast liczb)\n",
    "* kolumna `Staż pracy` podobnie, zawiera 998 niepustych wartości, ale ma typ `object`, co oznacza, że zawiera dane tekstowe (np. litery zamiast liczb)\n",
    "* kolumna `Płeć` zawiera 999 niepustych wartości, ma typ `object` zgodnie z oczekiwaniami."
   ]
  },
  {
   "cell_type": "markdown",
   "id": "730488c6",
   "metadata": {},
   "source": [
    "Naszym celem będzie \"naprawienie\" danych - uzupełnienie brakujących wartości oraz zmiana typów danych w kolumnach `Pensja` i `Staż pracy` na odpowiednie."
   ]
  },
  {
   "cell_type": "markdown",
   "id": "e07a278f",
   "metadata": {},
   "source": [
    "#### Kolumna `Pensja`\n",
    "\n",
    "Aby sprawdzić, jakie wartości znajdują się w kolumnie `Pensja`, możemy użyć polecenia `dane['Pensja'].unique()` zwracającego unikalne wartości w tej kolumnie. W naszym przypadku polecenie to nie ma sensu, ponieważ unikalnych wartości jest zbyt wiele."
   ]
  },
  {
   "cell_type": "code",
   "execution_count": null,
   "id": "b2405e46",
   "metadata": {},
   "outputs": [],
   "source": [
    "dane['Pensja'].unique()"
   ]
  },
  {
   "cell_type": "markdown",
   "id": "e610c8f1",
   "metadata": {},
   "source": [
    "Możemy również użyć polecenia `dane['Pensja'].value_counts()`, które zwraca liczbę wystąpień każdej unikalnej wartości w kolumnie `Pensja`. "
   ]
  },
  {
   "cell_type": "code",
   "execution_count": null,
   "id": "915fbbd2",
   "metadata": {},
   "outputs": [],
   "source": [
    "dane['Pensja'].value_counts()"
   ]
  },
  {
   "cell_type": "markdown",
   "id": "c905ef25",
   "metadata": {},
   "source": [
    "W tym przypadku również nie otrzymujemy sensownej odpowiedzi - jest zbyt wiele unikalnych wartości, nie wszystkie mieszczą się na wydruku.\n",
    "\n",
    "Chcemy zawęzić wydruk tylko do tych wartości w kolumnie `Pensja`, które są błędne - brak danych. W tym celu możemy użyć polecenia `maska = dane['Pensja'].isna()`, które zwraca maskę logiczną (True/False) dla każdej wartości w kolumnie `Pensja`. Każdemu wierszowi odpowiada wartość `True`, jeśli wartość w kolumnie `Pensja` jest pusta (`NaN`), a `False`, jeśli wartość jest niepusta.\n",
    "\n",
    "Maskę tę możemy wykorzystać do filtrowania danych w kolumnie `Pensja`."
   ]
  },
  {
   "cell_type": "code",
   "execution_count": null,
   "id": "1433d4e2",
   "metadata": {},
   "outputs": [],
   "source": [
    "maska_brak_danych = dane['Pensja'].isna()\n",
    "display(dane[maska_brak_danych == True])"
   ]
  },
  {
   "cell_type": "markdown",
   "id": "e3b42d78",
   "metadata": {},
   "source": [
    "Zauważamy, że w dwóch przypadkach (`P82` i `P159`) w kolumnie `Pensja` znajdują się wartości `NaN`. Ponadto, dla wiersza `P159`, nie ma żadnych danych (być może pracownik został zwolniony).\n",
    "\n",
    "Podejmujemy decyzje:\n",
    "\n",
    "1. usuwamy wiersz `P159` z DataFrame, ponieważ nie ma żadnych danych dotyczących tego pracownika (wszystkie wartości są puste)\n",
    "2. dla pracownika `P82` uzupełniamy brakującą wartość w kolumnie `Pensja` na `-999`, ponieważ nie możemy ustalić, jakie wynagrodzenie powinien mieć ten pracownik. Umawiamy się, że wartość `-999` oznacza, że nie mamy danych dotyczących tego pracownika. W późniejszych krokach zmienimy tę wartość na bardziej realistyczną (np. średnią pensję lub medianę pensji dla grupy pracowników).\n",
    "3. zmieniamy typ danych w kolumnie `Pensja` z `object` na `float`, aby Pandas mógł poprawnie interpretować dane finansowe w tej kolumnie.\n",
    "\n",
    "```python\n",
    "# usuwamy wiersz P159\n",
    "dane = dane[dane.index != 'P159']\n",
    "# uzupełniamy brakującą wartość w kolumnie Pensja na -999\n",
    "dane.loc['P82', 'Pensja'] = -999\n",
    "# zmieniamy typ danych w kolumnie Pensja na float\n",
    "dane['Pensja'] = dane['Pensja'].astype(float)\n",
    "```"
   ]
  },
  {
   "cell_type": "markdown",
   "id": "ef46b16f",
   "metadata": {},
   "source": [
    "**Ad. 1.** W Pandas, aby usunąć wiersz z DataFrame, można użyć metody `drop()`. Metoda ta przyjmuje jako argument etykietę wiersza, który chcemy usunąć. W naszym przypadku usuwamy wiersz o etykiecie `P159`. Możemy to wykonać na dwa sposoby:\n",
    "\n",
    "* używając metody `drop()` i podając etykietę wiersza, który chcemy usunąć, oraz argument `inplace = True`, aby zmiany zostały wprowadzone bezpośrednio w DataFrame `dane`:\n",
    "\n",
    "    ```python\n",
    "    dane.drop('P159', inplace = True) \n",
    "    ```\n",
    "\n",
    "* lub używając metody `drop()` i przypisując wynik do zmiennej `dane` (nadpisując oryginalny DataFrame):\n",
    "\n",
    "    ```python\n",
    "    dane = dane.drop('P159')\n",
    "    ```\n",
    "\n",
    "::::{note}\n",
    "Polecenie `dane.drop('P159')` nie zmienia oryginalnego DataFrame `dane`, ale zwraca nowy DataFrame bez wiersza o etykiecie `P159`. Aby zmiany zostały wprowadzone w oryginalnym DataFrame, należy użyć argumentu `inplace = True` lub przypisać wynik do nowego DataFrame (np. `dane = dane.drop('P159')`).\n",
    "\n",
    "Ten drugi sposób jest bardziej elastyczny, ponieważ pozwala na utworzenie nowego DataFrame bez zmiany oryginalnego DataFrame. Na przykład możemy utworzyć nowy DataFrame bez wiersza o etykiecie `P159` i przypisać go do zmiennej `dane2`:\n",
    "\n",
    "```python\n",
    "dane2 = dane.drop('P159')\n",
    "```\n",
    "::::\n",
    "\n",
    "Do modyfikowania DataFrame często używamy filtrowania i nadpisania oryginalnego DataFrame wynikiem filtrowania. W naszym przypadku, aby usunąć wiersz o etykiecie `P159`, możemy użyć operatora `!=` do filtrowania danych i usunięcia wiersza o etykiecie `P159`. Wówczas otrzymujemy nowy DataFrame bez tego wiersza:\n",
    "\n",
    "```python\n",
    "dane = dane[dane.index != 'P159']\n",
    "```\n",
    "\n",
    "Sposób ten warto stosować, jeśli mamy wiele wierszy do usunięcia, które można opisać warunkami logicznymi. Na przykład, aby usunąć wiersze dla których `Pensja` jest mniejsza niż `1000` napiszemy:\n",
    "\n",
    "```python\n",
    "dane = dane[dane['Pensja'] < 1000]\n",
    "```"
   ]
  },
  {
   "cell_type": "code",
   "execution_count": null,
   "id": "537b5f47",
   "metadata": {},
   "outputs": [],
   "source": [
    "# usuwamy wiersz o indeksie 'P159' z oryginalnych danych\n",
    "dane.drop('P159', inplace = True)\n",
    "\n",
    "# sprawdzamy, czy wiersz o indeksie 'P159' został usunięty\n",
    "print(dane[dane.index == 'P159'])"
   ]
  },
  {
   "cell_type": "markdown",
   "id": "aa25ca89",
   "metadata": {},
   "source": [
    "**Ad. 2.** Zmiana wartości w DataFrame polega na przypisaniu nowej wartości do konkretnej komórki. W naszym przypadku zmieniamy wartość w kolumnie `Pensja` dla pracownika o etykiecie `P82` na `-999`. Użyjemy metody `loc[]` podając etykietę wiersza oraz nazwę kolumny, do której chcemy przypisać nową wartość:\n",
    "\n",
    "```python\n",
    "dane.loc['P82', 'Pensja'] = -999\n",
    "```"
   ]
  },
  {
   "cell_type": "code",
   "execution_count": null,
   "id": "a2f9959e",
   "metadata": {},
   "outputs": [],
   "source": [
    "dane.loc['P82', 'Pensja'] = -999\n",
    "\n",
    "# sprawdzamy, czy wiersz o indeksie 'P82' został zmieniony\n",
    "print(dane[dane.index == 'P82'])"
   ]
  },
  {
   "cell_type": "markdown",
   "id": "8a748b8f",
   "metadata": {},
   "source": [
    "**Ad. 3.** Zmiana typu danych w kolumnie `Pensja` polega na użyciu metody `astype()`, która zmienia typ danych w kolumnie na podany typ. Aktualnie kolumna `Pensja` ma typ `object`, co oznacza, że zawiera dane tekstowe (np. litery zamiast liczb).\n",
    "\n",
    "W naszym przypadku napiszemy:\n",
    "\n",
    "```python\n",
    "dane['Pensja'] = dane['Pensja'].astype(float)\n",
    "```\n",
    "\n",
    "Powyższy kod zmienia typ danych w kolumnie `Pensja` na `float` a nastepnie podmienia oryginalny DataFrame `dane` nowym DataFrame z kolumną `Pensja` o typie `float`.\n",
    "\n",
    "Operacja konwersji typu danych polega na przeglądnięciu danych w kolumnie i próbie ich konwersji na nowy typ. Jeśli konwersja się powiedzie, kolumna zostanie zmieniona na nowy typ. W przeciwnym razie zgłoszony zostanie błąd `ValueError` lub `TypeError` z dodatkowymi informacjami, które umożliwią Ci ustalenie przyczyny błędu konwersji. Braki danych (`NaN`) są ignorowane, a ich typ pozostaje bez zmian."
   ]
  },
  {
   "cell_type": "code",
   "execution_count": null,
   "id": "77c60ecd",
   "metadata": {},
   "outputs": [],
   "source": [
    "dane['Pensja'] = dane['Pensja'].astype(float)"
   ]
  },
  {
   "cell_type": "markdown",
   "id": "f4234057",
   "metadata": {},
   "source": [
    "Operacja konwersji nie powiodła się - zgłoszony został błąd `ValueError`. Na końcu komunikatu o błędzie wskazana jest przyczyna: \"ValueError: could not convert string to float: '1321.OO'\".\n",
    "\n",
    "Oznacza to, że w kolumnie `Pensja` znajduje się wartość `1321.OO`, która nie może zostać przekonwertowana na typ `float`. Wartość ta zawiera litery `OO` a nie cyfry `00`, które są niepoprawne. Należy je usunąć, aby konwersja się powiodła.\n",
    "\n",
    "Najpierw musimy zlokalizować wiersz, w którym znajduje się ta wartość. Możemy to zrobić za pomocą polecenia `dane[dane['Pensja'] == \"1321.OO\"]`, które zwraca wiersz, w którym znajduje się ta wartość."
   ]
  },
  {
   "cell_type": "code",
   "execution_count": null,
   "id": "e78d3431",
   "metadata": {},
   "outputs": [],
   "source": [
    "dane[dane['Pensja'] == \"1321.OO\"]"
   ]
  },
  {
   "cell_type": "markdown",
   "id": "8910d60f",
   "metadata": {},
   "source": [
    "W wierszu `P996` znajduje się wartość tekstowa `\"1321.OO\"`, która nie może zostać przekonwertowana na typ `float`."
   ]
  },
  {
   "cell_type": "code",
   "execution_count": null,
   "id": "ef5a4c77",
   "metadata": {},
   "outputs": [],
   "source": [
    "x = dane.loc['P996', 'Pensja']\n",
    "display(x, type(x))"
   ]
  },
  {
   "cell_type": "markdown",
   "id": "aa1bcee1",
   "metadata": {},
   "source": [
    "Podmienimy błędną wartość `\"1321.OO\"` na poprawną `1321.00` w kolumnie `Pensja` dla pracownika o etykiecie `P996`. Użyjemy metody `loc[]` podając etykietę wiersza oraz nazwę kolumny, do której chcemy przypisać nową wartość:"
   ]
  },
  {
   "cell_type": "code",
   "execution_count": null,
   "id": "2bebd600",
   "metadata": {},
   "outputs": [],
   "source": [
    "\n",
    "dane.loc['P996', 'Pensja'] = 1321.00\n",
    "display(dane.loc['P996', 'Pensja'], type(dane.loc['P996', 'Pensja']))"
   ]
  },
  {
   "cell_type": "markdown",
   "id": "2292f308",
   "metadata": {},
   "source": [
    "Po wykonaniu tej korekty możemy ponownie przystąpić do konwertowania kolumny `Pensja` na typ `float`."
   ]
  },
  {
   "cell_type": "code",
   "execution_count": null,
   "id": "50dc07eb",
   "metadata": {},
   "outputs": [],
   "source": [
    "dane['Pensja'] = dane['Pensja'].astype(float)"
   ]
  },
  {
   "cell_type": "markdown",
   "id": "899c9204",
   "metadata": {},
   "source": [
    "Polecenie wykonane bez błędów. Uzyskajmy informacje na temat tej kolumny:"
   ]
  },
  {
   "cell_type": "code",
   "execution_count": null,
   "id": "6834082b",
   "metadata": {},
   "outputs": [],
   "source": [
    "display(dane.Pensja.info())"
   ]
  },
  {
   "cell_type": "markdown",
   "id": "1d13a253",
   "metadata": {},
   "source": [
    "Z wydruku wynika, że `Pensja` jest serią danych typu `float64`. Ponadto, kolumna zawiera 999 niepustych wartości (indeksowanych nazwami od `P1` do `P1000`), co oznacza, że wszystkie wartości w tej kolumnie są liczbami zmiennoprzecinkowymi. Wartości puste (`NaN`) zostały usunięte lub uzupełnione.\n",
    "\n",
    "Podstawowe statystyki dla kolumny `Pensja` można uzyskać za pomocą polecenia `dane['Pensja'].describe()`. Polecenie to zwraca podstawowe statystyki dla kolumny `Pensja`, takie jak liczba niepustych wartości, średnia, odchylenie standardowe, minimum, maksimum oraz kwartyle."
   ]
  },
  {
   "cell_type": "code",
   "execution_count": null,
   "id": "75643ae7",
   "metadata": {},
   "outputs": [],
   "source": [
    "display(dane.Pensja.describe())"
   ]
  },
  {
   "cell_type": "markdown",
   "id": "c430cf65",
   "metadata": {},
   "source": [
    "W przypadku wynagrodzenia, lepsza miarą tendencji centralnej jest mediana, ponieważ nie jest ona wrażliwa na wartości odstające (np. bardzo wysokie lub bardzo niskie wynagrodzenia). Mediana jest wartością środkową w zbiorze danych, co oznacza, że połowa wartości jest mniejsza od mediany, a połowa wartości jest większa od mediany. Mediana jest bardziej reprezentatywna dla zbioru danych niż średnia, która może być zniekształcona przez wartości odstające."
   ]
  },
  {
   "cell_type": "code",
   "execution_count": null,
   "id": "ce57d3dc",
   "metadata": {},
   "outputs": [],
   "source": [
    "dane.Pensja.median()"
   ]
  },
  {
   "cell_type": "markdown",
   "id": "f38da7b4",
   "metadata": {},
   "source": [
    "Około połowa pracowników zarabia mniej niż 1191 zł."
   ]
  },
  {
   "cell_type": "markdown",
   "id": "1d7b1982",
   "metadata": {},
   "source": [
    "#### Kolumna `Staż pracy`\n",
    "\n",
    "Procedury są podobne jak w przypadku kolumny `Pensja`. Najpierw sprawdzamy, jakie wartości znajdują się w kolumnie `Staż pracy`, a następnie usuwamy błędne dane i zmieniamy typ danych na `int`.\n"
   ]
  },
  {
   "cell_type": "code",
   "execution_count": null,
   "id": "311692bf",
   "metadata": {},
   "outputs": [],
   "source": [
    "# wyświetlamy kilka początkowych wierszy (głowa) kolumny 'Staż pracy'\n",
    "dane['Staż pracy'].head()"
   ]
  },
  {
   "cell_type": "code",
   "execution_count": null,
   "id": "5247296f",
   "metadata": {},
   "outputs": [],
   "source": [
    "# Ogólne informacje o kolumnie 'Staż pracy'\n",
    "dane['Staż pracy'].info()"
   ]
  },
  {
   "cell_type": "markdown",
   "id": "8f915820",
   "metadata": {},
   "source": [
    ":::{admonition} Objaśnienia\n",
    ":class: dropdown\n",
    "1. 999 przypadków\n",
    "2. 998 przypadków niepustych, w jednym przypadku brak danych\n",
    "3. typ `object`, zatem kolumna zawiera dane liczbowe i tekstowe (np. litery zamiast liczb)\n",
    ":::"
   ]
  },
  {
   "cell_type": "markdown",
   "id": "1a3ef967",
   "metadata": {},
   "source": [
    "W pierwszym kroku wyszukamy błędne dane w kolumnie `Staż pracy`. Skorzystamy z polecenia `dane['Staż pracy'].unique()` oraz `dane['Staż pracy'].value_counts()`."
   ]
  },
  {
   "cell_type": "code",
   "execution_count": null,
   "id": "d3e29a93",
   "metadata": {},
   "outputs": [],
   "source": [
    "display(dane['Staż pracy'].unique())\n",
    "display(dane['Staż pracy'].value_counts())"
   ]
  },
  {
   "cell_type": "markdown",
   "id": "8abf5b1b",
   "metadata": {},
   "source": [
    "Błędy zostały wyjaśnione: mamy braki danych (`nan`) oraz błędne dane (`\"rok\"` zamiast `1` oraz `\"8 lat\"` zamiast `8`).\n",
    "\n",
    "Wyszukamy komórki z błędnymi wpisami i skorygujemy dane:"
   ]
  },
  {
   "cell_type": "code",
   "execution_count": null,
   "id": "807a6cc2",
   "metadata": {},
   "outputs": [],
   "source": [
    "dane[dane['Staż pracy'] == \"rok\"]"
   ]
  },
  {
   "cell_type": "code",
   "execution_count": null,
   "id": "7a9d7b1f",
   "metadata": {},
   "outputs": [],
   "source": [
    "# Zmieniamy wartość w `P994` z \"rok\" na 1\n",
    "dane.loc['P994', 'Staż pracy'] = 1\n",
    "display(dane[dane.index == 'P994'])"
   ]
  },
  {
   "cell_type": "code",
   "execution_count": null,
   "id": "aa7ad822",
   "metadata": {},
   "outputs": [],
   "source": [
    "dane[dane['Staż pracy'] == \"8 lat\"]"
   ]
  },
  {
   "cell_type": "code",
   "execution_count": null,
   "id": "637db75b",
   "metadata": {},
   "outputs": [],
   "source": [
    "dane.loc['P995', 'Staż pracy'] = 8\n",
    "display(dane[dane.index == 'P995'])"
   ]
  },
  {
   "cell_type": "markdown",
   "id": "a3472fc7",
   "metadata": {},
   "source": [
    "Lokalizujemy przypadki z brakiem danych w kolumnie `Staż pracy`:"
   ]
  },
  {
   "cell_type": "code",
   "execution_count": null,
   "id": "b14485fc",
   "metadata": {},
   "outputs": [],
   "source": [
    "dane[dane['Staż pracy'].isna()]"
   ]
  },
  {
   "cell_type": "markdown",
   "id": "4ca0ac9b",
   "metadata": {},
   "source": [
    "Jest tylko jeden przypadek z brakiem danych w kolumnie `Staż pracy` - pracownik o etykiecie `P96`, kobieta, z wynagrodzeniem `992.00`.\n",
    "\n",
    "Musimy podjąć decyzję, czym uzupełnimy brakującą wartość.\n",
    "\n",
    "* Można przyjąć, że w przypadku braku danych w kolumnie `Staż pracy` pracownik nie ma stażu pracy. W takim przypadku można uzupełnić brakującą wartość na `0`. \n",
    "* Można również przyjąć, że pracownik ma staż pracy równy średniej lub medianie stażu pracy dla grupy pracowników o podobnym wynagrodzeniu.\n",
    "\n",
    "Wykonamy ten drugi, trudniejszy krok. W DataFrame odfiltrujemy pracowników, którzy mają wynagrodzenie na poziomie 980 - 1010 zł."
   ]
  },
  {
   "cell_type": "code",
   "execution_count": null,
   "id": "c0f667c9",
   "metadata": {},
   "outputs": [],
   "source": [
    "pensja_maska = (dane['Pensja'] >= 980) & (dane['Pensja'] <= 1010)\n",
    "dane[pensja_maska]"
   ]
  },
  {
   "cell_type": "markdown",
   "id": "44d98088",
   "metadata": {},
   "source": [
    "Jest 39 wierszy spełniających warunek filtrowania. Uzyskajmy bardziej szczegółowe informacje dla tego podzbioru danych."
   ]
  },
  {
   "cell_type": "code",
   "execution_count": null,
   "id": "f095b6bf",
   "metadata": {},
   "outputs": [],
   "source": [
    "dane[pensja_maska]['Staż pracy'].value_counts()"
   ]
  },
  {
   "cell_type": "markdown",
   "id": "1af9d68e",
   "metadata": {},
   "source": []
  },
  {
   "cell_type": "markdown",
   "id": "a8b702d0",
   "metadata": {},
   "source": [
    "W przedziale zarobków (980, 1010) mamy 39 przypadków: jeden brak danych zaś w pozostałych przypadkach staż pracy wynosi `0`. Możemy zatem przyjąć, bez utraty ogólnej wartości, że pracownik o etykiecie `P96` ma staż pracy równy `0`. Uzupełnimy brakującą wartość w kolumnie `Staż pracy` na `0` dla pracownika o etykiecie `P96`. Użyjemy metody `loc[]` podając etykietę wiersza oraz nazwę kolumny, do której chcemy przypisać nową wartość:"
   ]
  },
  {
   "cell_type": "code",
   "execution_count": null,
   "id": "519e71d1",
   "metadata": {},
   "outputs": [],
   "source": [
    "dane.loc['P96', 'Staż pracy'] = 0"
   ]
  },
  {
   "cell_type": "markdown",
   "id": "75162737",
   "metadata": {},
   "source": [
    "teraz możemy przystąpić do konwersji kolumny `Staż pracy` na typ `int`."
   ]
  },
  {
   "cell_type": "code",
   "execution_count": null,
   "id": "9fe8af81",
   "metadata": {},
   "outputs": [],
   "source": [
    "dane['Staż pracy'] = dane['Staż pracy'].astype(int)"
   ]
  },
  {
   "cell_type": "markdown",
   "id": "cfae013c",
   "metadata": {},
   "source": [
    "Pozostaje ogólna weryfikacja kolumny `Staż pracy`:"
   ]
  },
  {
   "cell_type": "code",
   "execution_count": null,
   "id": "4c323eb0",
   "metadata": {},
   "outputs": [],
   "source": [
    "display(dane['Staż pracy'].info())\n",
    "display(dane['Staż pracy'].describe())"
   ]
  },
  {
   "cell_type": "markdown",
   "id": "d3f8accb",
   "metadata": {},
   "source": [
    "#### Kolumna `Płeć`\n",
    "\n",
    "Kolumna `Płeć` zawiera dane tekstowe (napisy) - `K` płeć żeńska, `M` - płeć męska. Kolumna ta ma typ `object`, co oznacza, że zawiera dane tekstowe. "
   ]
  },
  {
   "cell_type": "code",
   "execution_count": null,
   "id": "f36a910b",
   "metadata": {},
   "outputs": [],
   "source": [
    "display(dane['Płeć'].info())\n",
    "display(dane['Płeć'].describe())"
   ]
  },
  {
   "cell_type": "markdown",
   "id": "03f373bf",
   "metadata": {},
   "source": [
    "W kolumnie 'Płeć' nie ma już braków danych. Natomiast są 3 wartości unikalne, a powinny być tylko dwie: `K` lub `M`.\n",
    " \n",
    "Zweryfikujmy, jakie wartości znajdują się w kolumnie `Płeć`. Możemy to zrobić za pomocą polecenia `dane['Płeć'].unique()` oraz `dane['Płeć'].value_counts()`."
   ]
  },
  {
   "cell_type": "code",
   "execution_count": null,
   "id": "5b9c2ae1",
   "metadata": {},
   "outputs": [],
   "source": [
    "display(dane['Płeć'].unique())\n",
    "display(dane['Płeć'].value_counts())"
   ]
  },
  {
   "cell_type": "markdown",
   "id": "2735df88",
   "metadata": {},
   "source": [
    "W jednym przypadku zamiast dużej litery 'K' mamy małą literę 'k'. Możemy to poprawić, zmieniając małą literę 'k' na dużą literę 'K' w kolumnie `Płeć` podobnie jak poprzedni - lokalizując wiersz i wprowadzając do niego wartość poprawną.\n",
    "\n",
    "Możemy również zmienić wszystkie małe litery 'k' na duże litery 'K' w kolumnie `Płeć` za pomocą metody `replace()`. Wówczas wszystkie małe litery 'k' zostaną zamienione na duże litery 'K'."
   ]
  },
  {
   "cell_type": "code",
   "execution_count": null,
   "id": "40b71e81",
   "metadata": {},
   "outputs": [],
   "source": [
    "dane['Płeć'] = dane['Płeć'].replace('k', 'K')\n",
    "display(dane['Płeć'].unique())"
   ]
  },
  {
   "cell_type": "markdown",
   "id": "1aa8e1b9",
   "metadata": {},
   "source": [
    "Kolumna `Płeć` jest zmienną skategoryzowaną, ponieważ zawiera tylko dwie kategorie: `K` i `M`. Możemy zmienić typ danych w kolumnie `Płeć` na typ `category`, co pozwoli na bardziej efektywne przechowywanie danych oraz szybsze operacje na tej kolumnie. W tym celu użyjemy metody `astype()` i podamy typ `category` jako argument.\n",
    "\n",
    "```python\n",
    "dane['Płeć'] = dane['Płeć'].astype('category')\n",
    "```"
   ]
  },
  {
   "cell_type": "code",
   "execution_count": null,
   "id": "2acc3d5b",
   "metadata": {},
   "outputs": [],
   "source": [
    "dane['Płeć'] = dane['Płeć'].astype('category')"
   ]
  },
  {
   "cell_type": "markdown",
   "id": "0555cf23",
   "metadata": {},
   "source": [
    "Pozostaje wykonać podsumowanie danych w kolumnie 'Płeć'."
   ]
  },
  {
   "cell_type": "code",
   "execution_count": null,
   "id": "8144e573",
   "metadata": {},
   "outputs": [],
   "source": [
    "display(dane['Płeć'].info())\n",
    "display(dane['Płeć'].describe())"
   ]
  },
  {
   "cell_type": "markdown",
   "id": "dc680968",
   "metadata": {},
   "source": [
    "#### Podsumowanie przygotowania danych"
   ]
  },
  {
   "cell_type": "code",
   "execution_count": null,
   "id": "b62c71ec",
   "metadata": {},
   "outputs": [],
   "source": [
    "dane.info()"
   ]
  },
  {
   "cell_type": "code",
   "execution_count": null,
   "id": "2c73ec27",
   "metadata": {},
   "outputs": [],
   "source": [
    "dane.describe()"
   ]
  },
  {
   "cell_type": "markdown",
   "id": "50f07a83",
   "metadata": {},
   "source": [
    "W Pandas metoda `describe()` zwraca podstawowe statystyki dla kolumn numerycznych w `DataFrame`. \n",
    "\n",
    "Kolumna `Płeć` nie jest kolumną numeryczną, dlatego nie zostanie uwzględniona w podsumowaniu. Możemy jednak użyć argumentu `include = 'all'`, aby uwzględnić wszystkie kolumny, w tym kolumny tekstowe i skategoryzowane.\n",
    "\n",
    "```python\n",
    "dane.describe(include = 'all')\n",
    "```"
   ]
  },
  {
   "cell_type": "code",
   "execution_count": null,
   "id": "0e2f7374",
   "metadata": {},
   "outputs": [],
   "source": [
    "dane.describe(include='all')"
   ]
  },
  {
   "cell_type": "markdown",
   "id": "12f93448",
   "metadata": {},
   "source": [
    "Wracamy do przypadku, w którym pracownikowi przypisaliśmy pensję `-999`. "
   ]
  },
  {
   "cell_type": "code",
   "execution_count": null,
   "id": "1846e9e4",
   "metadata": {},
   "outputs": [],
   "source": [
    "print(dane[dane['Pensja'] == -999])"
   ]
  },
  {
   "cell_type": "markdown",
   "id": "bb74d6d1",
   "metadata": {},
   "source": [
    "Aby urealnić wynagrodzenie pracownika `P82` odfiltrujmy dane - wybierzmy kobiety o stażu pracy 7 lat:"
   ]
  },
  {
   "cell_type": "code",
   "execution_count": null,
   "id": "c12f5242",
   "metadata": {},
   "outputs": [],
   "source": [
    "dane[(dane['Płeć'] == 'K') & (dane['Staż pracy'] == 7)]"
   ]
  },
  {
   "cell_type": "markdown",
   "id": "d5c1baa6",
   "metadata": {},
   "source": [
    "Odrzućmy wiersz `P82`. Zapamiętajmy wynik w roboczej zmiennej `temp`."
   ]
  },
  {
   "cell_type": "code",
   "execution_count": null,
   "id": "1bc3761c",
   "metadata": {},
   "outputs": [],
   "source": [
    "temp = dane[(dane['Płeć'] == 'K') & (dane['Staż pracy'] == 7) & (dane.index != 'P82')]\n",
    "display(temp)"
   ]
  },
  {
   "cell_type": "markdown",
   "id": "d2e8cba5",
   "metadata": {},
   "source": [
    "Wyznaczmy podstawowe miary statystyczne dla tego podzbioru, dla cechy `Pensja`:"
   ]
  },
  {
   "cell_type": "code",
   "execution_count": null,
   "id": "cf0f4fc5",
   "metadata": {},
   "outputs": [],
   "source": [
    "temp.Pensja.describe()"
   ]
  },
  {
   "cell_type": "code",
   "execution_count": null,
   "id": "78cbaae0",
   "metadata": {},
   "outputs": [],
   "source": [
    "temp.Pensja.median()"
   ]
  },
  {
   "cell_type": "markdown",
   "id": "18382a4d",
   "metadata": {},
   "source": [
    "Wyniki:\n",
    "\n",
    "* minimalne wynagrodzenie: `672`\n",
    "* maksymalne wynagrodzenie: `1357`\n",
    "* średnie wynagrodzenie: `1310.54`\n",
    "* mediana: `1339.50`\n",
    "\n",
    "Możemy przyjąć, bez utraty ogólności, że pracownik `P82` powinien mieć wynagrodzenie równe medianie wynagrodzenia dla grupy pracowników o stażu pracy 7 lat. Wówczas zmieniamy wartość w kolumnie `Pensja` dla pracownika o etykiecie `P82` na `1339.50`. Użyjemy metody `loc[]` podając etykietę wiersza oraz nazwę kolumny, do której chcemy przypisać nową wartość:"
   ]
  },
  {
   "cell_type": "code",
   "execution_count": null,
   "id": "d97218c8",
   "metadata": {},
   "outputs": [],
   "source": [
    "dane.loc['P82', 'Pensja'] = 1339.50\n",
    "display(dane[dane.index == 'P82'])"
   ]
  },
  {
   "cell_type": "markdown",
   "id": "b1402f62",
   "metadata": {},
   "source": [
    "Na wszelki wypadek dane po korektach możemy zapisać do pliku w formacie `CSV`. Wykorzystamy do tego metodę `to_csv()`, która zapisuje dane do pliku w formacie `CSV`."
   ]
  },
  {
   "cell_type": "code",
   "execution_count": null,
   "id": "767cd7e8",
   "metadata": {},
   "outputs": [],
   "source": [
    "dane.to_csv('wynagrodzenia-po-korekcie.csv', sep = ';', index = True, encoding = 'utf-8')"
   ]
  },
  {
   "cell_type": "markdown",
   "id": "12805fb3",
   "metadata": {},
   "source": [
    "Podglądnijmy plik `wynagrodzenia-po-korekcie.csv` w katalogu roboczym (na przykład za pomocą Excela lub innego edytora). \n",
    "\n",
    "Z poziomu kodu Pythona odczytać możemy tylko kilka pierwszych linii pliku za pomocą kodu:"
   ]
  },
  {
   "cell_type": "code",
   "execution_count": null,
   "id": "29eac3d3",
   "metadata": {},
   "outputs": [],
   "source": [
    "import os\n",
    "\n",
    "# Sprawdzamy, czy plik został zapisany\n",
    "print(os.path.isfile('wynagrodzenia-po-korekcie.csv'))\n",
    "# Wyświetlamy 5 pierwszych linii pliku\n",
    "with open('wynagrodzenia-po-korekcie.csv', 'r', encoding='utf-8') as f:\n",
    "    for i in range(5):\n",
    "        print(f.readline())"
   ]
  },
  {
   "cell_type": "markdown",
   "id": "3c868e1a",
   "metadata": {},
   "source": [
    "Możemy również załadować cały plik do DataFrame `dane1` i sprawdzić, czy wszystko się zgadza (nie jest to zalecane, ponieważ plik może być bardzo duży i zajmować dużo pamięci):"
   ]
  },
  {
   "cell_type": "code",
   "execution_count": null,
   "id": "cbb400ca",
   "metadata": {},
   "outputs": [],
   "source": [
    "dane1 = pd.read_csv('wynagrodzenia-po-korekcie.csv', sep = ';', index_col = 0)\n",
    "dane1"
   ]
  },
  {
   "cell_type": "markdown",
   "id": "e10e0b14",
   "metadata": {},
   "source": [
    "## Statyski opisowe i wizualizacja danych"
   ]
  },
  {
   "cell_type": "markdown",
   "id": "b7c44bb0",
   "metadata": {},
   "source": [
    "Dane składają się z 3 cech (zmiennych) statystycznych:\n",
    "\n",
    "* `Pensja` - zmienna ilościowa, ciągła\n",
    "* `Staż pracy` - zmienna ilościowa, skokowa\n",
    "* `Płeć` - zmienna kategoryczna\n",
    "\n",
    "W każdym przypadku inaczej będziemy analizować dane. W przypadku zmiennych ilościowych, możemy użyć podstawowych miar statystycznych, takich jak średnia, mediana, odchylenie standardowe, minimum i maksimum. W przypadku zmiennych kategorycznych, możemy użyć liczby wystąpień każdej kategorii.\n",
    "Wizualizacja danych polega na przedstawieniu danych w formie wykresów, tabel lub innych form graficznych. \n",
    "\n",
    "Wizualizacja danych pozwala na lepsze zrozumienie danych oraz ich interpretację. W Pandas możemy używać różnych bibliotek do wizualizacji danych, takich jak `matplotlib`, `seaborn` czy `plotly`.\n",
    "\n",
    "* Biblioteka *seaborn* jest zbudowana na bazie biblioteki *matplotlib* i pozwala na łatwe tworzenie wykresów oraz ich dostosowywanie. Biblioteka ta jest bardziej rozbudowana i oferuje więcej możliwości niż matplotlib. Generuje ładniejsze wykresy.\n",
    "\n",
    "* Biblioteka *plotly* pozwala na tworzenie interaktywnych wykresów, które można łatwo udostępniać w Internecie. Biblioteka ta jest bardziej rozbudowana i oferuje więcej możliwości niż matplotlib i seaborn."
   ]
  },
  {
   "cell_type": "code",
   "execution_count": null,
   "id": "0343a5bb",
   "metadata": {},
   "outputs": [],
   "source": [
    "# import bibliotek graficznych\n",
    "import matplotlib.pyplot as plt"
   ]
  },
  {
   "cell_type": "code",
   "execution_count": null,
   "id": "8eca70f5",
   "metadata": {},
   "outputs": [],
   "source": [
    "# instalacja matplotlib w środowisku JupyterLite\n",
    "import piplite\n",
    "await piplite.install('seaborn')"
   ]
  },
  {
   "cell_type": "code",
   "execution_count": null,
   "id": "0ab37126",
   "metadata": {},
   "outputs": [],
   "source": [
    "# instalacja matplotlib w innych środowiskach Jupyter\n",
    "!pip install seaborn\n",
    "import seaborn as sns"
   ]
  },
  {
   "cell_type": "markdown",
   "id": "d53d4986",
   "metadata": {},
   "source": [
    "### Zmienna `Pensja`"
   ]
  },
  {
   "cell_type": "markdown",
   "id": "d2269ba6",
   "metadata": {},
   "source": [
    "Podstawowe miary statystyczne dla zmiennej `Pensja` można uzyskać za pomocą polecenia `dane['Pensja'].describe()`. Medianę można uzyskać za pomocą polecenia `dane['Pensja'].median()`. Możemy również użyć metody `quantile()`, aby uzyskać kwartyle dla zmiennej `Pensja` (`dane['Pensja'].quantile([0.25, 0.5, 0.75])`). Kwartyle to wartości, które dzielą zbiór danych na cztery równe części. Pierwszy kwartyl (Q1) to wartość, poniżej której znajduje się 25% danych, drugi kwartyl (Q2) to mediana (50% danych), a trzeci kwartyl (Q3) to wartość, poniżej której znajduje się 75% danych."
   ]
  },
  {
   "cell_type": "code",
   "execution_count": null,
   "id": "071e54a2",
   "metadata": {},
   "outputs": [],
   "source": [
    "display(dane.Pensja.describe())\n",
    "display(dane.Pensja.median())"
   ]
  },
  {
   "cell_type": "markdown",
   "id": "ef2035fd",
   "metadata": {},
   "source": [
    "Standardowym sposobem wizualizacji miar statystycznych jest wykres pudełkowy (ang. _box plot_). \n",
    "\n",
    "Wykres pudełkowy przedstawia rozkład danych oraz wartości odstające. Składa się z prostokąta (pudełka), który przedstawia rozkład danych, oraz linii (wąsów), które przedstawiają wartości odstające. Wartości odstające to wartości, które są znacznie większe lub mniejsze od pozostałych wartości w zbiorze danych. Wartości odstające są oznaczone jako kropki na wykresie pudełkowym.\n",
    "\n",
    "Szczegółowo:\n",
    "\n",
    "- **Pudełko (skrzynka):**\n",
    "  - *Dolna krawędź* – pierwszy kwartyl (Q1), czyli wartość, poniżej której znajduje się 25% danych.\n",
    "  - *Górna krawędź* – trzeci kwartyl (Q3), czyli wartość, poniżej której znajduje się 75% danych.\n",
    "  - *Szerokość pudełka* – rozstęp międzykwartylowy (IQR = Q3 – Q1), czyli zakres, w którym znajduje się połowa danych.\n",
    "  - *Linia wewnątrz pudełka* – mediana (Q2), czyli wartość środkowa, dzieląca dane na dwie równe części.\n",
    "\n",
    "- **Wąsy (odcinki):**\n",
    "  - *Dolny wąs* – prowadzi od dolnej krawędzi pudełka do wartości minimalnej w zbiorze (lub do dolnej granicy przedziału, jeśli występują wartości odstające).\n",
    "  - *Górny wąs* – prowadzi od górnej krawędzi pudełka do wartości maksymalnej (lub do górnej granicy przedziału).\n",
    "  - W praktyce często przyjmuje się, że wąsy kończą się na wartościach Q1 – 1,5 × IQR (dolny) oraz Q3 + 1,5 × IQR (górny). Wszystko poza tym zakresem traktuje się jako wartości odstające.\n",
    "\n",
    "- **Wartości odstające (outliers):**\n",
    "  - Punkty (np. kropki) poza wąsami – to obserwacje znacząco odbiegające od reszty danych, które mogą wpływać na interpretację rozkładu.\n",
    "\n",
    "- Interpretacja wykresu pudełkowego\n",
    "    - **Położenie** – gdzie leży większość obserwacji (np. czy są skupione nisko czy wysoko).\n",
    "    - **Rozproszenie** – jak szeroko rozłożone są dane (długość pudełka i wąsów).\n",
    "    - **Kształt rozkładu** – czy rozkład jest symetryczny (mediana na środku pudełka, wąsy równej długości), czy skośny (mediana bliżej jednego kwartyla, wąsy różnej długości).\n",
    "    - **Wartości odstające** – czy występują obserwacje znacznie odbiegające od reszty.\n",
    "\n",
    "Referencje: https://bigglo.pl/blog/kompendium-wykresow/"
   ]
  },
  {
   "cell_type": "code",
   "execution_count": null,
   "id": "06c43702",
   "metadata": {},
   "outputs": [],
   "source": [
    "# tworzenie wykresu pudełkowego przy uzyciu matplotlib oraz seaborn\n",
    "plt.figure() # tworzenie nowej figury\n",
    "dane.boxplot(column = 'Pensja') # boxplot z sns\n",
    "plt.ylabel('Pensja')\n",
    "plt.title('Wykres pudełkowy dla zmiennej Pensja')\n",
    "plt.show()"
   ]
  },
  {
   "cell_type": "markdown",
   "id": "aa758857",
   "metadata": {},
   "source": [
    "Rozkład zmiennej `Pensja` jest symetryczny, ponieważ mediana znajduje się w środku pudełka, a wąsy są równej długości. Wartości odstające są oznaczone jako kropki na wykresie pudełkowym. Wartości te są znacznie większe od pozostałych wartości w zbiorze danych. Wartości odstające mogą wpływać na interpretację rozkładu, dlatego warto je zbadać."
   ]
  },
  {
   "cell_type": "code",
   "execution_count": null,
   "id": "90123f77",
   "metadata": {},
   "outputs": [],
   "source": [
    "# Ćwiczenie: wypisanie danych dla dolnych wartości odstających\n",
    "# podpowiedzi: użyj funkcji `quantile` oraz `IQR = Q3 - Q1`\n",
    "# wzory podane w notatkach: IQR, Q1 - 1.5*IQR\n",
    "# Q1 = dane['Pensja'].quantile(0.25)\n"
   ]
  },
  {
   "cell_type": "code",
   "execution_count": null,
   "id": "9fecef38",
   "metadata": {},
   "outputs": [],
   "source": [
    "# Ćwiczenie: wypisanie danych dla górnych wartości odstających\n",
    "# podpowiedzi: użyj funkcji `quantile` oraz `IQR = Q3 - Q1`\n",
    "# wzory podane w notatkach: IQR, Q3 + 1.5*IQR\n",
    "# Q1 = dane['Pensja'].quantile(0.75)"
   ]
  },
  {
   "cell_type": "markdown",
   "id": "ed752b31",
   "metadata": {},
   "source": [
    "Lepszą wizualizacją rozkładu zmiennej `Pensja` jest histogram. Histogram przedstawia rozkład danych w postaci słupków, gdzie wysokość słupka odpowiada liczbie wystąpień danej wartości w zbiorze danych.\n",
    "\n",
    "Przy budowie histogramu należy określić liczbę przedziałów (ang. _bins_), na które zostanie podzielony zakres wartości zmiennej `Pensja`. Liczba przedziałów powinna być dostosowana do rozkładu danych. Zbyt mała liczba przedziałów może prowadzić do utraty informacji, a zbyt duża liczba przedziałów może prowadzić do nadmiernego szczegółowego przedstawienia danych. Najczęściej oblicza sie liczbę przedziałów jako pierwiastek kwadratowy z liczby obserwacji w zbiorze danych. W naszym przypadku mamy 999 obserwacji, więc liczba przedziałów powinna wynosić około 31 (pierwiastek kwadratowy z 999). Możemy również użyć reguły Sturgesa, która sugeruje, że liczba przedziałów powinna wynosić `1 + log2(n)`, gdzie `n` to liczba obserwacji. W naszym przypadku liczba przedziałów powinna wynosić około 10.\n",
    "\n",
    "W `sns.histplot()` możemy określić liczbę przedziałów za pomocą argumentu `bins`. Parametr `kde` odpowiada za dodanie krzywej gęstości rozkładu (ang. _kernel density estimate_) do histogramu."
   ]
  },
  {
   "cell_type": "code",
   "execution_count": null,
   "id": "ca772474",
   "metadata": {},
   "outputs": [],
   "source": [
    "# histogram z wykorzystaniem matplotlib i sns\n",
    "plt.figure() # tworzenie nowej figury\n",
    "sns.histplot(dane['Pensja'], bins=30, kde=True) # histogram z sns\n",
    "plt.ylabel('Liczba pracowników')\n",
    "plt.title('Histogram dla zmiennej Pensja')\n",
    "plt.show()"
   ]
  },
  {
   "cell_type": "code",
   "execution_count": null,
   "id": "468244dc",
   "metadata": {},
   "outputs": [],
   "source": [
    "# histogram z wykorzystaniem matplotlib\n",
    "plt.figure()\n",
    "plt.hist(dane['Pensja'], bins=10) # histogram z matplotlib\n",
    "plt.ylabel('Liczba pracowników')\n",
    "plt.title('Histogram dla zmiennej Pensja')\n",
    "plt.show()"
   ]
  },
  {
   "cell_type": "markdown",
   "id": "53e8a2ea",
   "metadata": {},
   "source": [
    "Numeryczne opracowanie histogramu (czyli tabela częstości) w Pandas mozna wykonać za pomocą funkcji `cut()` oraz `value_counts()`. Funkcja `cut()` dzieli dane na przedziały (ang. _bins_), a metoda `value_counts()` zlicza liczbę wystąpień w każdym przedziale. \n",
    "\n",
    "Konieczne jest również posortowanie wyników w kolejności rosnącej za pomocą metody `sort_index()`. Użycie `reset_index()` zamieni wynik na DataFrame."
   ]
  },
  {
   "cell_type": "code",
   "execution_count": null,
   "id": "79410e93",
   "metadata": {},
   "outputs": [],
   "source": [
    "bins = pd.cut(dane['Pensja'], bins=10)\n",
    "histogram = bins.value_counts().sort_index()\n",
    "print(histogram)"
   ]
  },
  {
   "cell_type": "markdown",
   "id": "ae705c8e",
   "metadata": {},
   "source": [
    "Można dostarczyć własne przedziały do funkcji `cut()`, aby dostosować histogram do rozkładu danych. Punkty graniczne opisane są w formie listy. Możemy również użyć argumentu `include_lowest = True`, aby uwzględnić dolną granicę przedziału w histogramie."
   ]
  },
  {
   "cell_type": "code",
   "execution_count": null,
   "id": "8677d872",
   "metadata": {},
   "outputs": [],
   "source": [
    "bins1 = [0, 500, 700, 900, 1100, 1300, 1500, 1700, 1900, 2100]\n",
    "histogram1 = pd.cut(dane['Pensja'], bins1, include_lowest = True).value_counts().sort_index().reset_index()\n",
    "histogram1.columns = ['Przedziały', 'Liczba pracowników']\n",
    "display(histogram1)"
   ]
  },
  {
   "cell_type": "markdown",
   "id": "46bd2f07",
   "metadata": {},
   "source": [
    "### Zmienna `Staż pracy`\n",
    "\n",
    "Podstawowe miary statystyczne dla zmiennej `Staż pracy` można uzyskać za pomocą polecenia `dane['Staż pracy'].describe()`. Medianę można uzyskać za pomocą polecenia `dane['Staż pracy'].median()`. \n",
    "\n",
    "W przypadku zmiennej skokowej można również określić rozkład przypadków (`dane['Staż pracy'].value_counts()`)."
   ]
  },
  {
   "cell_type": "code",
   "execution_count": null,
   "id": "ac642ae6",
   "metadata": {},
   "outputs": [],
   "source": [
    "print(dane['Staż pracy'].describe())\n",
    "print(\"mediana =\", dane['Staż pracy'].median())\n",
    "print(dane['Staż pracy'].value_counts())\n"
   ]
  },
  {
   "cell_type": "markdown",
   "id": "cdd065a4",
   "metadata": {},
   "source": [
    "Narysujmy *box-plot* dla zmiennej `Staż pracy`:\n"
   ]
  },
  {
   "cell_type": "code",
   "execution_count": null,
   "id": "dc408738",
   "metadata": {},
   "outputs": [],
   "source": [
    "# box-plot dla zmiennej 'Staż pracy'\n",
    "plt.figure() # tworzenie nowej figury\n",
    "sns.boxplot(x = 'Staż pracy', data = dane) # boxplot z sns\n",
    "plt.ylabel('Liczba pracowników')\n",
    "plt.title('Wykres pudełkowy dla zmiennej Staż pracy')\n",
    "plt.show()"
   ]
  },
  {
   "cell_type": "markdown",
   "id": "d67d4575",
   "metadata": {},
   "source": [
    "Interpretacja: rozkład jest niesymetryczny, przesuniety w lewo."
   ]
  },
  {
   "cell_type": "markdown",
   "id": "2d35af1d",
   "metadata": {},
   "source": [
    "Utwórzmy histogram dla zmiennej `Staż pracy`:"
   ]
  },
  {
   "cell_type": "code",
   "execution_count": null,
   "id": "b4955795",
   "metadata": {},
   "outputs": [],
   "source": [
    "# histogram dla zmiennej 'Staż pracy'\n",
    "plt.figure() # tworzenie nowej figury\n",
    "sns.histplot(dane['Staż pracy'], bins=10) # histogram z sns\n",
    "plt.ylabel('Liczba pracowników')\n",
    "plt.title('Histogram dla zmiennej Staż pracy')\n",
    "plt.show()"
   ]
  },
  {
   "cell_type": "code",
   "execution_count": null,
   "id": "217e7bbd",
   "metadata": {},
   "outputs": [],
   "source": [
    "# histogram dla zmiennej 'Staż pracy'\n",
    "plt.figure() # tworzenie nowej figury\n",
    "sns.histplot(dane['Staż pracy'], bins=20)\n",
    "plt.ylabel('Liczba pracowników')\n",
    "plt.title('Histogram dla zmiennej Staż pracy')\n",
    "plt.show()"
   ]
  },
  {
   "cell_type": "code",
   "execution_count": null,
   "id": "00dffd05",
   "metadata": {},
   "outputs": [],
   "source": [
    "# histogram dla zmiennej 'Staż pracy'\n",
    "plt.figure() # tworzenie nowej figury\n",
    "lata_pracy = [0, 5, 10, 15, 20, 25]\n",
    "sns.histplot(dane['Staż pracy'], bins=lata_pracy)\n",
    "plt.ylabel('Liczba pracowników')\n",
    "plt.title('Histogram dla zmiennej Staż pracy')\n",
    "plt.show()"
   ]
  },
  {
   "cell_type": "markdown",
   "id": "e062ed44",
   "metadata": {},
   "source": [
    "### Zmienna `Płeć`\n",
    "\n",
    "Podstawowe miary statystyczne dla zmiennej `Płeć` można uzyskać za pomocą polecenia `dane['Płeć'].describe()`. Możemy również użyć metody `value_counts()`, aby uzyskać liczbę wystąpień każdej kategorii w kolumnie `Płeć`."
   ]
  },
  {
   "cell_type": "code",
   "execution_count": null,
   "id": "5fbb1090",
   "metadata": {},
   "outputs": [],
   "source": [
    "display(dane['Płeć'].describe())\n",
    "display(dane['Płeć'].value_counts())"
   ]
  },
  {
   "cell_type": "markdown",
   "id": "1dfe2e52",
   "metadata": {},
   "source": [
    "Dane możemy przedstawić w formie tabeli (nowego DataFrame), uwzględniając procentowy udział."
   ]
  },
  {
   "cell_type": "code",
   "execution_count": null,
   "id": "04609260",
   "metadata": {},
   "outputs": [],
   "source": [
    "statystyki_plec = dane['Płeć'].value_counts().reset_index()\n",
    "statystyki_plec.columns = ['Płeć', 'Liczba']\n",
    "statystyki_plec['Procent (%)'] = (statystyki_plec['Liczba'] / len(dane) * 100).round(2)\n",
    "display(statystyki_plec)"
   ]
  },
  {
   "cell_type": "markdown",
   "id": "f0e96914",
   "metadata": {},
   "source": [
    "Sensownym wykresem dla tego typu informacji jest wykres kołowy (ang. _pie chart_) lub wykres słupkowy (ang. _bar chart_). "
   ]
  },
  {
   "cell_type": "code",
   "execution_count": null,
   "id": "202ddb36",
   "metadata": {},
   "outputs": [],
   "source": [
    "# wykres słupkowy z pandas\n",
    "plt.figure() # tworzenie nowej figury\n",
    "dane['Płeć'].value_counts().plot(kind='bar')\n",
    "plt.title('Liczebność płci')\n",
    "plt.ylabel('Liczba')\n",
    "plt.show()"
   ]
  },
  {
   "cell_type": "code",
   "execution_count": null,
   "id": "e8958a42",
   "metadata": {},
   "outputs": [],
   "source": [
    "# wykres słupkowy z Seaborn\n",
    "\n",
    "plt.figure() # tworzenie nowej figury\n",
    "sns.countplot(x='Płeć', data=dane) # wykres słupkowy z sns\n",
    "plt.title('Liczebność płci')\n",
    "plt.ylabel('Liczba')\n",
    "plt.show()"
   ]
  },
  {
   "cell_type": "code",
   "execution_count": null,
   "id": "559d5f47",
   "metadata": {},
   "outputs": [],
   "source": [
    "# wykres kołowy\n",
    "\n",
    "plt.figure() # tworzenie nowej figury\n",
    "dane['Płeć'].value_counts().plot(kind='pie', autopct='%1.1f%%') # wykres kołowy z pandas\n",
    "plt.title('Liczebność płci')\n",
    "plt.ylabel('') # usunięcie etykiety osi y\n",
    "plt.show()"
   ]
  },
  {
   "cell_type": "markdown",
   "id": "1de05a2f",
   "metadata": {},
   "source": [
    "Najbardziej czytelny dla zmiennej kategorycznej jest wykres słupkowy (bar/countplot). Wykres kołowy (pie) dobrze pokazuje udział procentowy."
   ]
  },
  {
   "cell_type": "markdown",
   "id": "7b774f9d",
   "metadata": {},
   "source": [
    "## Związki między danymi"
   ]
  },
  {
   "cell_type": "markdown",
   "id": "a3237859",
   "metadata": {},
   "source": [
    "Analizując dane zawierające **pensję**, **staż pracy** i **płeć**, możemy formułować różnorodne pytania badawcze, które pozwolą lepiej zrozumieć zależności, rozkłady oraz ewentualne nierówności w zbiorze danych. Oto przykładowe pytania:\n",
    "\n",
    ":::{admonition} Pytania dotyczące rozkładu i statystyk opisowych\n",
    "\n",
    "1. Jak rozkładają się pensje w badanej grupie?\n",
    "2. Jaka jest średnia i mediana pensji oraz stażu pracy?\n",
    "3. Jak wygląda rozkład stażu pracy wśród badanych?\n",
    "4. Jakie są wartości minimalne i maksymalne pensji oraz stażu pracy?\n",
    "5. Jaki jest udział kobiet i mężczyzn w badanej grupie?\n",
    "\n",
    "Ten zakres pytań został już omówiony w poprzedniej sekcji. jednakże odpowiedzi na te pytania stanowią punkt wyjścia do dalszej analizy i interpretacji danych.\n",
    ":::\n",
    "\n",
    ":::{admonition} Pytania dotyczące zależności między zmiennymi\n",
    "\n",
    "6. Czy istnieje związek między stażem pracy a wysokością pensji?\n",
    "7. Czy osoby z dłuższym stażem pracy zarabiają więcej?\n",
    "8. Czy pensje kobiet i mężczyzn różnią się istotnie?\n",
    "9. Czy luka płacowa (różnica w średnich pensjach kobiet i mężczyzn) jest widoczna w tych danych?\n",
    "10. Czy różnice w pensjach są związane z różnicami w stażu pracy między płciami?\n",
    ":::\n",
    "\n",
    "\n",
    ":::{admonition} Pytania dotyczące segmentacji i grupowania\n",
    "\n",
    "11. Jak rozkładają się pensje w grupach o różnym stażu pracy?\n",
    "12. Czy istnieją grupy o szczególnie wysokich lub niskich pensjach?\n",
    "13. Jak wygląda rozkład płci w różnych przedziałach stażu pracy?\n",
    "14. Czy wśród osób z długim stażem pracy przeważają kobiety czy mężczyźni?\n",
    ":::\n",
    "\n",
    "\n",
    ":::{admonition} Pytania dotyczące nietypowych obserwacji\n",
    "\n",
    "15. Czy w danych występują osoby o wyjątkowo wysokich lub niskich pensjach?\n",
    "16. Czy są osoby o bardzo długim lub bardzo krótkim stażu pracy?\n",
    "17. Czy wartości odstające wpływają na wyniki analizy?\n",
    ":::\n",
    "\n",
    "\n",
    "I na koniec pytania niestatystyczne, motywujące do podjęcia określonych działań.\n",
    "\n",
    ":::{admonition} Pytania dotyczące analizy porównawczej\n",
    "\n",
    "18. Jakie działania można podjąć, aby zmniejszyć ewentualną lukę płacową?\n",
    "19. Czy wyniki sugerują potrzebę zmian w polityce płacowej firmy?\n",
    "20. Czy istnieje potrzeba wprowadzenia programów wspierających równość płci w miejscu pracy?\n",
    ":::\n",
    "\n",
    "Na część z tych pytań odpowiedzieliśmy w poprzednich sekcjach. Na przykład rozkład płci jest mniej więcej równy, nie można mówić o dyskryminacji ze względu na płeć."
   ]
  },
  {
   "cell_type": "markdown",
   "id": "d7e9e572",
   "metadata": {},
   "source": [
    "### Płeć i staż pracy\n",
    "\n",
    "Postawmy sobie pytanie: **Czy kobiety mają dłuższy staż pracy niż mężczyźni?**\n",
    "\n",
    "Aby odpowiedzieć na to pytanie, musimy porównać średni staż pracy kobiet i mężczyzn. Możemy to zrobić za pomocą metody `groupby()` w Pandas, która pozwala na grupowanie danych według określonej kolumny (w tym przypadku `Płeć`) i obliczanie statystyk dla każdej grupy.\n",
    "\n",
    "> **Uwaga**: w przypadku kolumny `Płeć` mamy do czynienia z danymi kategorycznymi, dlatego możemy użyć metody `groupby()` i podać kolumnę `Płeć` jako argument. Obecnie konieczne jest podanie argumentu `observed = True`, którym przekazujemy informację, że chcemy uwzględnić tylko te kategorie, które występują w danych. Nie podając tego argumentu, otrzymamy ostrzeżenia."
   ]
  },
  {
   "cell_type": "code",
   "execution_count": null,
   "id": "92e891cd",
   "metadata": {},
   "outputs": [],
   "source": [
    "sredni_staz = dane.groupby('Płeć', observed=True)['Staż pracy'].mean()\n",
    "print(sredni_staz)\n",
    "mediana_staz = dane.groupby('Płeć', observed=True)['Staż pracy'].median()\n",
    "print(mediana_staz)"
   ]
  },
  {
   "cell_type": "markdown",
   "id": "d4ced5ff",
   "metadata": {},
   "source": [
    "Mozna połączyć kilka obliczeń w jednym poleceniu. W naszym przypadku możemy użyć metody `groupby()` i podać kolumnę `Płeć` jako argument, a następnie użyć metody `agg()` do obliczenia średniego stażu pracy i mediany dla każdej grupy. Możemy również użyć metody `reset_index()`, aby przekształcić wynik na DataFrame."
   ]
  },
  {
   "cell_type": "code",
   "execution_count": null,
   "id": "c5c6eac5",
   "metadata": {},
   "outputs": [],
   "source": [
    "dane.groupby('Płeć', observed = True)['Staż pracy'].agg(['mean', 'median']).reset_index()"
   ]
  },
  {
   "cell_type": "markdown",
   "id": "258fa2b9",
   "metadata": {},
   "source": [
    "Wygodniejszym sposobem obserwacji różnic w stażu pracy między kobietami i mężczyznami jest wykres pudełkowy (ang. _box plot_). Przygotujemy go dla obu kategorii."
   ]
  },
  {
   "cell_type": "code",
   "execution_count": null,
   "id": "369478cd",
   "metadata": {},
   "outputs": [],
   "source": [
    "plt.figure(figsize=(8,6))\n",
    "sns.boxplot(x='Płeć', y='Staż pracy', data=dane)\n",
    "plt.title('Box-plot stażu pracy w podziale na płeć')\n",
    "plt.ylabel('Staż pracy (lata)')\n",
    "plt.show()"
   ]
  },
  {
   "cell_type": "markdown",
   "id": "99d32aa1",
   "metadata": {},
   "source": [
    "Dopiero z tego wykresu widać, jak bardzo podobne są rozkłady obu grup. Te same median, takie same odchylenia ćwiartkowe, podobne wartości odstające. Można zatem przyjąć, że nie ma różnic w stażu pracy między kobietami i mężczyznami.\n",
    "\n",
    "> Jedna kobieta wyraźnie wybija się w stażu pracy (prawie 25 lat)."
   ]
  },
  {
   "cell_type": "markdown",
   "id": "7372bf77",
   "metadata": {},
   "source": [
    "Zbudujmy tabelę krzyżową dla zmiennej `Płeć` i `Staż pracy`. Tabela krzyżowa przedstawia liczby wystąpień dla każdej kombinacji kategorii w dwóch zmiennych. Możemy użyć metody `pd.crosstab()` do utworzenia tabeli krzyżowej.\n",
    "\n",
    "Tabela krzyżowa przedstawia liczbę wystąpień dla każdej kombinacji kategorii w dwóch zmiennych. Możemy użyć metody `pd.crosstab()` do jej utworzenia."
   ]
  },
  {
   "cell_type": "code",
   "execution_count": null,
   "id": "4057ce7b",
   "metadata": {},
   "outputs": [],
   "source": [
    "pd.crosstab(dane['Staż pracy'], dane['Płeć'], margins=True, margins_name=\"Suma\").style.background_gradient(cmap='Blues', low=0, high=1)"
   ]
  },
  {
   "cell_type": "markdown",
   "id": "a76c476b",
   "metadata": {},
   "source": [
    "Na pierwszy rzut oka nie dostrzegamy znaczących różnic w liczbie kobiet i mężczyzn w różnych przedziałach stażu pracy. Możemy jednak obliczyć procentowy udział kobiet i mężczyzn w każdym przedziale stażu pracy, aby lepiej zobrazować różnice. Ponownie użyjemy metody `pd.crosstab()`, ale tym razem dodamy argument `normalize = 'index'`, aby obliczyć procentowy udział kobiet i mężczyzn w każdym przedziale stażu pracy (względem wiersza)."
   ]
  },
  {
   "cell_type": "code",
   "execution_count": null,
   "id": "80127c02",
   "metadata": {},
   "outputs": [],
   "source": [
    "(pd.crosstab(dane['Staż pracy'], dane['Płeć'], normalize = 'index') * 100).round(2)"
   ]
  },
  {
   "cell_type": "markdown",
   "id": "802c2939",
   "metadata": {},
   "source": [
    "Wygodnym sposobem wizualizacji tych danych będzie wykres słupkowy (*barplot*).\n",
    "\n",
    "Możemy użyć metody `plot()` z argumentem `kind = 'bar'`, aby utworzyć wykres słupkowy. Wartości na osi X będą odpowiadały przedziałom stażu pracy, a wartości na osi Y będą odpowiadały procentowemu udziałowi kobiet i mężczyzn w każdym przedziale stażu pracy."
   ]
  },
  {
   "cell_type": "code",
   "execution_count": null,
   "id": "49c47ede",
   "metadata": {},
   "outputs": [],
   "source": [
    "# barplot - liczba kobiet/mężczyzn w podziale na staż pracy\n",
    "plt.figure(figsize=(10,6))\n",
    "sns.countplot(x='Staż pracy', hue='Płeć', data=dane)\n",
    "plt.title('Liczebność płci w podziale na staż pracy')\n",
    "plt.ylabel('Liczba pracowników')\n",
    "plt.show()"
   ]
  },
  {
   "cell_type": "markdown",
   "id": "a778996a",
   "metadata": {},
   "source": [
    "Jak to działa?\n",
    "* `x='Staż pracy'` – na osi X będą kolejne lata stażu pracy,\n",
    "* `hue='Płeć'` – dla każdego roku pojawią się słupki w różnych kolorach dla kobiet i mężczyzn,\n",
    "* `countplot` automatycznie zlicza liczbę obserwacji w każdej kategorii"
   ]
  },
  {
   "cell_type": "code",
   "execution_count": null,
   "id": "5764a060",
   "metadata": {},
   "outputs": [],
   "source": [
    "# barplot - liczba kobiet/mężczyzn w podziale na staż pracy - słupki poziome\n",
    "plt.figure(figsize=(10,6))\n",
    "sns.countplot(y='Staż pracy', hue='Płeć', data=dane)\n",
    "plt.title('Liczebność płci w podziale na staż pracy')\n",
    "plt.xlabel('Liczba pracowników')\n",
    "plt.ylabel('Staż pracy (lata)')\n",
    "plt.show()"
   ]
  },
  {
   "cell_type": "markdown",
   "id": "756d0a52",
   "metadata": {},
   "source": [
    ":::{admonition} Zaawansowane: test t-Studenta\n",
    ":class: dropdown\n",
    "\n",
    "Formalny dowód braku różnic w stażu pracy między kobietami i mężczyznami można przeprowadzić za pomocą testu t-Studenta. Test t-Studenta jest testem statystycznym, który pozwala na porównanie średnich dwóch grup. Test zakłada, że dane są rozkładem normalnym i mają tę samą wariancję. Test t-Studenta jest stosowany w przypadku, gdy mamy do czynienia z dwiema grupami niezależnymi (w naszym przypadku kobiety i mężczyźni) i chcemy porównać ich średnie.\n",
    "\n",
    "W naszym przypadku porównujemy średni staż pracy kobiet i mężczyzn.\n",
    "\n",
    "```python\n",
    "from scipy import stats\n",
    "\n",
    "staz_kobiety = dane[dane['Płeć'] == 'K']['Staż pracy']\n",
    "staz_mezczyzni = dane[dane['Płeć'] == 'M']['Staż pracy']\n",
    "\n",
    "t_stat, p_value = stats.ttest_ind(staz_kobiety, staz_mezczyzni, equal_var=False)\n",
    "print(f\"Statystyka t: {t_stat}, wartość p: {p_value}\")\n",
    "```\n",
    "\n",
    "Interpretacja:\n",
    "\n",
    "* Jeśli p-value < 0.05 – różnice między stażem pracy kobiet i mężczyzn są istotne statystycznie.\n",
    "* Jeśli p-value ≥ 0.05 – nie ma podstaw do uznania różnic za istotne."
   ]
  },
  {
   "cell_type": "code",
   "execution_count": null,
   "id": "c2d37c14",
   "metadata": {
    "outputs_hidden": true,
    "source_hidden": true
   },
   "outputs": [],
   "source": [
    "from scipy import stats\n",
    "\n",
    "staz_kobiety = dane[dane['Płeć'] == 'K']['Staż pracy']\n",
    "staz_mezczyzni = dane[dane['Płeć'] == 'M']['Staż pracy']\n",
    "\n",
    "t_stat, p_value = stats.ttest_ind(staz_kobiety, staz_mezczyzni, equal_var=False)\n",
    "print(f\"Statystyka t: {t_stat}, wartość p: {p_value}\")"
   ]
  },
  {
   "cell_type": "markdown",
   "id": "178bc9d7",
   "metadata": {},
   "source": [
    "### Pensja i płeć\n",
    "\n",
    "Postawmy sobie pytanie: **Czy kobiety zarabiają mniej niż mężczyźni?**\n",
    "\n",
    "Aby odpowiedzieć na to pytanie, musimy porównać średnie pensje kobiet i mężczyzn (a może lepiej - mediany). Możemy to zrobić za pomocą metody `groupby()` w Pandas oraz zwizualizować za pomocą wykresu pudełkowego (ang. _box plot_).\n"
   ]
  },
  {
   "cell_type": "code",
   "execution_count": null,
   "id": "8146e140",
   "metadata": {},
   "outputs": [],
   "source": [
    "# średnie pensje i mediany w podziale na płeć\n",
    "dane.groupby('Płeć', observed=True)['Pensja'].agg(['mean', 'median']).reset_index().round(2)"
   ]
  },
  {
   "cell_type": "code",
   "execution_count": null,
   "id": "6512fb38",
   "metadata": {},
   "outputs": [],
   "source": [
    "# wykres pudełkowy dla pensji w podziale na płeć\n",
    "plt.figure(figsize=(8,6))\n",
    "sns.boxplot(x='Płeć', y='Pensja', data=dane)\n",
    "plt.title('Wykres pudełkowy dla pensji w podziale na płeć')\n",
    "plt.ylabel('Pensja (zł)')\n",
    "plt.show()"
   ]
  },
  {
   "cell_type": "markdown",
   "id": "4a35f382",
   "metadata": {},
   "source": [
    "Interpretacja: nie widzimy wyraźnych różnic w pensjach kobiet i mężczyzn. Wartości median są podobne, a wartości odstające są podobne. Możemy zatem przyjąć, że nie ma różnic w pensjach między kobietami i mężczyznami."
   ]
  },
  {
   "cell_type": "markdown",
   "id": "d2b3a6d8",
   "metadata": {},
   "source": [
    ":::{admonition} Zaawansowane: test t-Studenta\n",
    ":class: dropdown\n",
    "\n",
    "Formalny dowód braku różnic w pensjach między kobietami i mężczyznami można przeprowadzić za pomocą testu t-Studenta. Test t-Studenta jest testem statystycznym, który pozwala na porównanie średnich dwóch grup. Test zakłada, że dane są rozkładem normalnym i mają tę samą wariancję. Test t-Studenta jest stosowany w przypadku, gdy mamy do czynienia z dwiema grupami niezależnymi (w naszym przypadku kobiety i mężczyźni) i chcemy porównać ich średnie.\n",
    "W naszym przypadku porównujemy średnie pensje kobiet i mężczyzn.\n",
    "\n",
    "```python\n",
    "from scipy import stats\n",
    "pensja_kobiety = dane[dane['Płeć'] == 'K']['Pensja']\n",
    "pensja_mezczyzni = dane[dane['Płeć'] == 'M']['Pensja']\n",
    "t_stat, p_value = stats.ttest_ind(pensja_kobiety, pensja_mezczyzni, equal_var=False)\n",
    "print(f\"Statystyka t: {t_stat}, wartość p: {p_value}\")\n",
    "```\n",
    "\n",
    "Interpretacja:\n",
    "* Jeśli p-value < 0.05 – różnice między pensjami kobiet i mężczyzn są istotne statystycznie.\n",
    "* Jeśli p-value ≥ 0.05 – nie ma podstaw do uznania różnic za istotne."
   ]
  },
  {
   "cell_type": "code",
   "execution_count": null,
   "id": "54abce88",
   "metadata": {},
   "outputs": [],
   "source": [
    "from scipy import stats\n",
    "pensja_kobiety = dane[dane['Płeć'] == 'K']['Pensja']\n",
    "pensja_mezczyzni = dane[dane['Płeć'] == 'M']['Pensja']\n",
    "t_stat, p_value = stats.ttest_ind(pensja_kobiety, pensja_mezczyzni, equal_var=False)\n",
    "print(f\"Statystyka t: {t_stat}, wartość p: {p_value}\")"
   ]
  },
  {
   "cell_type": "markdown",
   "id": "e94c50f3",
   "metadata": {},
   "source": [
    "### Pensja i staż pracy\n",
    "\n",
    "Postawmy sobie pytanie: **Czy osoby z dłuższym stażem pracy zarabiają więcej?**\n",
    "\n",
    "Aby odpowiedzieć na to pytanie, musimy porównać średnie pensje osób z różnym stażem pracy. Możemy to zrobić za pomocą metody `groupby()` w Pandas."
   ]
  },
  {
   "cell_type": "code",
   "execution_count": null,
   "id": "41c21bd2",
   "metadata": {},
   "outputs": [],
   "source": [
    "# średnie pensje i mediany w podziale na staż pracy\n",
    "dane.groupby('Staż pracy', observed=True)['Pensja'].agg(['mean', 'median']).reset_index().round(2)"
   ]
  },
  {
   "cell_type": "markdown",
   "id": "2f7274eb",
   "metadata": {},
   "source": [
    "Trochę zbyt dużo danych. Możemy zgrupować dane w przedziały (np. 0-3, 3-5, 5-10, 10-15, 15-20, 20+). Możemy to zrobić za pomocą funkcji `cut()` w Pandas. Funkcja `cut()` dzieli dane na przedziały (ang. _bins_), a następnie możemy użyć metody `groupby()` do obliczenia średnich pensji dla każdego przedziału."
   ]
  },
  {
   "cell_type": "code",
   "execution_count": null,
   "id": "1b02b9cc",
   "metadata": {},
   "outputs": [],
   "source": [
    "# średnie pensje i mediany w podziale na staż pracy\n",
    "# dla podziału: 0-3, 3-5, 5-10, 10-15, 15-20, 20+\n",
    "podzial=[-1, 3, 5, 10, 15, 20, 100]\n",
    "etykiety = ['0-3', '3-5', '5-10', '10-15', '15-20', '20+']\n",
    "\n",
    "staz_kategorie = pd.cut(dane['Staż pracy'], bins=podzial, labels=etykiety)\n",
    "display(staz_kategorie.value_counts())\n",
    "\n",
    "# dodanie kolumny 'Staż kategorie' do danych\n",
    "dane['Staż kategorie'] = staz_kategorie\n",
    "display(dane.head())\n",
    "\n",
    "# średnie pensje i mediany w podziale na staż pracy\n",
    "dane.groupby('Staż kategorie', observed=True)['Pensja'].agg(['mean', 'median']).reset_index().round(2)"
   ]
  },
  {
   "cell_type": "code",
   "execution_count": null,
   "id": "2de06d49",
   "metadata": {},
   "outputs": [],
   "source": [
    "# wykres słupkowy - średnia pensja w podziale na kategorie stażu pracy\n",
    "import numpy as np\n",
    "plt.figure(figsize=(10,6))\n",
    "sns.barplot(x='Staż kategorie', y='Pensja', data=dane, estimator=np.mean)\n",
    "plt.title('Średnia pensja w podziale na staż pracy')\n",
    "plt.ylabel('Średnia pensja (zł)')\n",
    "plt.xlabel('Staż pracy (lata)')\n",
    "plt.show()"
   ]
  },
  {
   "cell_type": "markdown",
   "id": "de68b245",
   "metadata": {},
   "source": [
    "Do obserwacji związków między zmiennymi ilościowymi najczęściej uzywamy wykresu typu *scatter plot* (wykres punktowy). Wykres punktowy przedstawia dane w postaci punktów, gdzie każdy punkt odpowiada jednej obserwacji. Na osi X znajdują się wartości jednej zmiennej, a na osi Y wartości drugiej zmiennej. Wykres punktowy pozwala na zobrazowanie zależności między dwiema zmiennymi ilościowymi."
   ]
  },
  {
   "cell_type": "code",
   "execution_count": null,
   "id": "cd23d2d7",
   "metadata": {},
   "outputs": [],
   "source": [
    "# wykres rozrzutu dla pensji i stażu pracy\n",
    "plt.figure(figsize=(8,6))\n",
    "sns.scatterplot(x='Staż pracy', y='Pensja', data=dane)\n",
    "plt.title('Wykres rozrzutu dla pensji i stażu pracy')\n",
    "plt.xlabel('Staż pracy (lata)')\n",
    "plt.ylabel('Pensja (zł)')\n",
    "plt.show()"
   ]
  },
  {
   "cell_type": "markdown",
   "id": "7e9d4ff1",
   "metadata": {},
   "source": [
    "Zależność jest co najmniej dziwna. Jest grupa pracowników, dla których wraz ze zwiekszaniem stażu pracy pensja rośnie. Ale jest również grupa pracowników, dla których pensja maleje wraz ze wzrostem stażu pracy. Możemy to zobaczyć na wykresie punktowym. Raczej oczekiwalibyśmy \"chmury punktów\" w kształcie elipsy, a nie \"chmury punktów\" w kształcie litery V.\n",
    "\n",
    "Zależność ta nie została przez nas odkryta wcześniej, ponieważ wcześniejsze analizy dotyczyły wskaźników zagregowanych.\n",
    "\n",
    "Podejrzenie: może płeć wpływa na pensję? W takim przypadku możemy użyć wykresu punktowego z podziałem na płeć. Możemy to zrobić za pomocą argumentu `hue` w funkcji `sns.scatterplot()`. Argument `hue` pozwala na podział danych na kategorie (w naszym przypadku płeć) i oznaczenie ich różnymi kolorami."
   ]
  },
  {
   "cell_type": "code",
   "execution_count": null,
   "id": "0b803bc7",
   "metadata": {},
   "outputs": [],
   "source": [
    "# wykres rozrzutu dla pensji i stażu pracy z podziałem na płeć\n",
    "plt.figure(figsize=(8,6))\n",
    "sns.scatterplot(x='Staż pracy', y='Pensja', hue='Płeć', data=dane)\n",
    "plt.title('Wykres rozrzutu dla pensji i stażu pracy z podziałem na płeć')\n",
    "plt.xlabel('Staż pracy (lata)')\n",
    "plt.ylabel('Pensja (zł)')\n",
    "plt.show()"
   ]
  },
  {
   "cell_type": "markdown",
   "id": "52e0b58e",
   "metadata": {},
   "source": [
    "Hipoteza, że płeć i staż pracy wpływa na wzrost lub spadek pensji wydaje się być fałszywa. Musi być inny czynnik, który wpływa na tego typu zmienność. Możemy to zbadać, dodając do wykresu linię regresji. Linia regresji pokazuje zależność między dwiema zmiennymi ilościowymi. Możemy to zrobić za pomocą argumentu `regplot` w funkcji `sns.scatterplot()`. Argument `regplot` pozwala na dodanie linii regresji do wykresu punktowego."
   ]
  },
  {
   "cell_type": "code",
   "execution_count": null,
   "id": "44b1bd30",
   "metadata": {},
   "outputs": [],
   "source": [
    "# linia regresji dla pensji i stażu pracy z podziałem na płeć\n",
    "plt.figure(figsize=(8,6))\n",
    "sns.lmplot(x='Staż pracy', y='Pensja', hue='Płeć', data=dane, height=6, aspect=1.5)\n",
    "plt.title('Linia regresji dla pensji i stażu pracy z podziałem na płeć')\n",
    "plt.xlabel('Staż pracy (lata)')\n",
    "plt.ylabel('Pensja (zł)')\n",
    "plt.show()"
   ]
  },
  {
   "cell_type": "markdown",
   "id": "f1aca684",
   "metadata": {},
   "source": [
    "Zbadajmy istnienie korelacji między zmiennymi `Pensja` i `Staż pracy`. Możemy to zrobić za pomocą współczynnika korelacji Pearsona. Współczynnik korelacji Pearsona mierzy siłę i kierunek liniowej zależności między dwiema zmiennymi ilościowymi. Wartość współczynnika korelacji Pearsona mieści się w przedziale od -1 do 1. Wartość -1 oznacza, że istnieje silna ujemna korelacja między zmiennymi, wartość 1 oznacza, że istnieje silna dodatnia korelacja między zmiennymi, a wartość 0 oznacza brak korelacji.\n",
    "\n",
    "Najwygodniej jest użyć metody `corr()` w Pandas, która oblicza współczynnik korelacji Pearsona dla wszystkich par zmiennych w DataFrame. Możemy również użyć metody `corr()` z argumentem `method = 'pearson'`, aby obliczyć współczynnik korelacji Pearsona dla dwóch zmiennych.\n",
    "\n",
    "```python\n",
    "from scipy.stats import pearsonr\n",
    "corr, p_value = pearsonr(dane['Pensja'], dane['Staż pracy'])\n",
    "print(f\"Współczynnik korelacji Pearsona: {corr}, wartość p: {p_value}\")\n",
    "```\n",
    "Interpretacja:\n",
    "* Jeśli p-value < 0.05 – istnieje istotna korelacja między zmiennymi.\n",
    "* Jeśli p-value ≥ 0.05 – nie ma podstaw do uznania korelacji za istotną."
   ]
  },
  {
   "cell_type": "code",
   "execution_count": null,
   "id": "0e3182d1",
   "metadata": {},
   "outputs": [],
   "source": [
    "from scipy.stats import pearsonr\n",
    "corr, p_value = pearsonr(dane['Pensja'], dane['Staż pracy'])\n",
    "print(f\"Współczynnik korelacji Pearsona: {corr:.2f}, wartość p: {p_value:.4f}\")"
   ]
  },
  {
   "cell_type": "markdown",
   "id": "fe5a67e1",
   "metadata": {},
   "source": [
    "**Interpretacja**: Współczynnik korelacji Pearsona wynosi 0.83, co oznacza, że `pensja` i `Staż pracy` są silnie skorelowane. Wartość p wynosi 0.000, co oznacza, że wynik jest istotny statystycznie (nie jest przypadkowy). Możemy zatem przyjąć, że osoby z dłuższym stażem pracy zarabiają więcej."
   ]
  },
  {
   "cell_type": "markdown",
   "id": "4253dfb8",
   "metadata": {},
   "source": [
    "Możemy utworzyć macierz korelacji w podziale na płeć. Możemy to zrobić za pomocą metody `groupby()` w Pandas oraz metody `corr()` do obliczenia macierzy korelacji dla każdej grupy. Możemy również użyć metody `reset_index()`, aby przekształcić wynik na DataFrame.\n",
    "\n",
    "```python\n",
    "from scipy.stats import pearsonr\n",
    "pensja_kobiety = dane[dane['Płeć'] == 'K']['Pensja']\n",
    "pensja_mezczyzni = dane[dane['Płeć'] == 'M']['Pensja']\n",
    "staz_kobiety = dane[dane['Płeć'] == 'K']['Staż pracy']\n",
    "staz_mezczyzni = dane[dane['Płeć'] == 'M']['Staż pracy']\n",
    "corr_kobiety, p_value_kobiety = pearsonr(pensja_kobiety, staz_kobiety)\n",
    "corr_mezczyzni, p_value_mezczyzni = pearsonr(pensja_mezczyzni, staz_mezczyzni)\n",
    "print(f\"Współczynnik korelacji Pearsona dla kobiet: {corr_kobiety}, wartość p: {p_value_kobiety}\")\n",
    "print(f\"Współczynnik korelacji Pearsona dla mężczyzn: {corr_mezczyzni}, wartość p: {p_value_mezczyzni}\")\n",
    "```"
   ]
  },
  {
   "cell_type": "code",
   "execution_count": null,
   "id": "2e0987b4",
   "metadata": {},
   "outputs": [],
   "source": [
    "from scipy.stats import pearsonr\n",
    "pensja_kobiety = dane[dane['Płeć'] == 'K']['Pensja']\n",
    "pensja_mezczyzni = dane[dane['Płeć'] == 'M']['Pensja']\n",
    "staz_kobiety = dane[dane['Płeć'] == 'K']['Staż pracy']\n",
    "staz_mezczyzni = dane[dane['Płeć'] == 'M']['Staż pracy']\n",
    "corr_kobiety, p_value_kobiety = pearsonr(pensja_kobiety, staz_kobiety)\n",
    "corr_mezczyzni, p_value_mezczyzni = pearsonr(pensja_mezczyzni, staz_mezczyzni)\n",
    "print(f\"Współczynnik korelacji Pearsona dla kobiet: {corr_kobiety:.2f}, wartość p: {p_value_kobiety:.4f}\")\n",
    "print(f\"Współczynnik korelacji Pearsona dla mężczyzn: {corr_mezczyzni:.2f}, wartość p: {p_value_mezczyzni:.4f}\")"
   ]
  },
  {
   "cell_type": "markdown",
   "id": "df307d7f",
   "metadata": {},
   "source": [
    "Macierz korelacji można przedstawić graficznie za pomocą wykresu cieplnego (ang. _heatmap_). Wykres cieplny przedstawia macierz korelacji w postaci kolorów, gdzie kolor odpowiada wartości współczynnika korelacji. Możemy użyć funkcji `sns.heatmap()` do utworzenia wykresu cieplnego."
   ]
  },
  {
   "cell_type": "code",
   "execution_count": null,
   "id": "be4824d3",
   "metadata": {},
   "outputs": [],
   "source": [
    "# heatmap - macierz korelacji dla Pensja i Staż pracy\n",
    "plt.figure(figsize=(8,6))\n",
    "sns.heatmap(dane[['Pensja', 'Staż pracy']].corr(), annot=True, cmap='coolwarm')\n",
    "plt.title('Macierz korelacji dla Pensja i Staż pracy')\n",
    "plt.show()"
   ]
  },
  {
   "cell_type": "code",
   "execution_count": null,
   "id": "eef41e6e",
   "metadata": {},
   "outputs": [],
   "source": [
    "# heatmap - macierz korelacji dla Pensja i Staż pracy - w podziale na płeć\n",
    "# subplots\n",
    "fig, axes = plt.subplots(1, 2, figsize=(16, 6))\n",
    "# heatmap dla kobiet\n",
    "sns.heatmap(dane[dane['Płeć'] == 'K'][['Pensja', 'Staż pracy']].corr(), annot=True, cmap='coolwarm', ax=axes[0])\n",
    "axes[0].set_title('Macierz korelacji dla kobiet')\n",
    "# heatmap dla mężczyzn\n",
    "sns.heatmap(dane[dane['Płeć'] == 'M'][['Pensja', 'Staż pracy']].corr(), annot=True, cmap='coolwarm', ax=axes[1])\n",
    "axes[1].set_title('Macierz korelacji dla mężczyzn')\n",
    "plt.show()"
   ]
  },
  {
   "cell_type": "markdown",
   "id": "55f2d1cd",
   "metadata": {},
   "source": [
    "Równanie linii regresji możemy wyznaczyć za pomocą metody `stats.linregress()` z biblioteki `scipy`. Metoda ta zwraca współczynniki regresji, które możemy wykorzystać do obliczenia wartości linii regresji."
   ]
  },
  {
   "cell_type": "code",
   "execution_count": null,
   "id": "741bb382",
   "metadata": {},
   "outputs": [],
   "source": [
    "# równanie linii regresji, na wykresie scatterplot\n",
    "import numpy as np\n",
    "import scipy.stats as stats\n",
    "\n",
    "x = dane['Staż pracy']\n",
    "y = dane['Pensja']\n",
    "a, b, r_value, p_value, std_err = stats.linregress(x, y)\n",
    "print(f\"Równanie linii regresji: y = {a:.2f}x + {b:.2f}\")\n",
    "print(f\"Współczynnik korelacji: {r_value:.2f}, wartość p: {p_value:.4f}\")\n",
    "\n",
    "plt.figure(figsize=(8,6))\n",
    "sns.scatterplot(x='Staż pracy', y='Pensja', data=dane)\n",
    "sns.regplot(x=x, y=y, line_kws={'label': f'y = {a:.2f} + {b:.2f}x'}, color=\"blue\")\n",
    "plt.title('Wykres rozrzutu dla pensji i stażu pracy z linią regresji')\n",
    "plt.xlabel('Staż pracy (lata)')\n",
    "plt.ylabel('Pensja (zł)')\n",
    "plt.legend()\n",
    "plt.show()"
   ]
  },
  {
   "cell_type": "code",
   "execution_count": null,
   "id": "f4833103",
   "metadata": {},
   "outputs": [],
   "source": [
    "# równanie regresji dla pensji i stażu pracy z podziałem na płeć\n",
    "import numpy as np\n",
    "import scipy.stats as stats\n",
    "\n",
    "# regresja dla kobiet\n",
    "x_k = dane[dane['Płeć'] == 'K']['Staż pracy']\n",
    "y_k = dane[dane['Płeć'] == 'K']['Pensja']\n",
    "a_k, b_k, r_value_k, p_value_k, std_err_k = stats.linregress(x_k, y_k)\n",
    "print(f\"Równanie regresji dla kobiet: y = {a_k:.2f} * x + {b_k:.2f}\")\n",
    "print(f\"Współczynnik korelacji dla kobiet: {r_value_k:.2f}\")\n",
    "print(f\"Wartość p dla kobiet: {p_value_k:.2f}\")\n"
   ]
  },
  {
   "cell_type": "code",
   "execution_count": null,
   "id": "7d176176",
   "metadata": {},
   "outputs": [],
   "source": [
    "# regresja dla mężczyzn\n",
    "x_m = dane[dane['Płeć'] == 'M']['Staż pracy']\n",
    "y_m = dane[dane['Płeć'] == 'M']['Pensja']\n",
    "a_m, b_m, r_value_m, p_value_m, std_err_m = stats.linregress(x_m, y_m)\n",
    "print(f\"Równanie regresji dla mężczyzn: y = {a_m:.2f} * x + {b_m:.2f}\")\n",
    "print(f\"Współczynnik korelacji dla mężczyzn: {r_value_m:.2f}\")\n",
    "print(f\"Wartość p dla mężczyzn: {p_value_m:.2f}\")"
   ]
  },
  {
   "cell_type": "markdown",
   "id": "7b3c7f7b",
   "metadata": {},
   "source": [
    "Analiza wykazuje, że pensja i staż pracy są silnie skorelowane. Równanie regresji dla wszystkich pracowników, ale również dla kobiet i mężczyzn jest podobne. Możemy zatem przyjąć, że osoby z dłuższym stażem pracy zarabiają więcej.\n",
    "\n",
    "W przybliżeniu trend wzrostowy zarobków można zapisać jako:\n",
    "\n",
    "$$wynagrodzenie = 1000 + 45 \\cdot staż$$"
   ]
  },
  {
   "cell_type": "markdown",
   "id": "cd0ad5ce",
   "metadata": {},
   "source": [
    "Kształt litery V na wykresie punktowym sugeruje, że istnieje inny czynnik, który wpływa na pensję lub dane są silnie nieliniowe lub ten trend malejący powodują dane odstające.\n",
    "\n",
    "Znając równanie regresji możemy poszukać tych wartości, budując warunek filtrujący: jeśli pensja odbiega od wartości przewidywanej o więcej niż odchylenie standardowe, to uznajemy ją za wartość odstającą (formalnie, przyjmuje się częściej 2 a nawet 3 odchylenia standardowe)."
   ]
  },
  {
   "cell_type": "code",
   "execution_count": null,
   "id": "7f5d7cff",
   "metadata": {},
   "outputs": [],
   "source": [
    "# wartości odstające od linii regresji dla pensji i stażu pracy\n",
    "import numpy as np\n",
    "import scipy.stats as stats\n",
    "\n",
    "x = dane['Staż pracy']\n",
    "y = dane['Pensja']\n",
    "a, b, _, _, _ = stats.linregress(x, y)\n",
    "std_err = dane.Pensja.std()\n",
    "print(\"odchylenie standardowe dla Pensja = \", std_err)\n",
    "\n",
    "# obliczamy wartości prognozowane\n",
    "y_pred = a * x + b\n",
    "# obliczamy reszty\n",
    "residuals = y - y_pred\n",
    "# obliczamy wartości odstające\n",
    "outliers = np.abs(residuals) >  std_err\n",
    "# dodajemy kolumnę 'Outliers' do danych\n",
    "dane['Outliers'] = outliers\n",
    "# wyświetlamy dane z wartościami odstającymi\n",
    "display(dane[dane['Outliers'] == True])\n",
    "\n",
    "# rysujemy wykres rozrzutu dla pensji i stażu pracy z wartościami odstającymi\n",
    "plt.figure(figsize=(8,6))\n",
    "sns.regplot(x=x, y=y, line_kws={'label': f'y = {a:.2f} + {b:.2f}x'})\n",
    "sns.scatterplot(x='Staż pracy', y='Pensja', data=dane, hue='Outliers')\n",
    "plt.title('Wykres rozrzutu dla pensji i stażu pracy z wartościami odstającymi')\n",
    "plt.xlabel('Staż pracy (lata)')\n",
    "plt.ylabel('Pensja (zł)')\n",
    "plt.show()\n"
   ]
  },
  {
   "cell_type": "markdown",
   "id": "5cc0d70f",
   "metadata": {},
   "source": [
    "Danych odstających jest niewiele (ok 50) w porównaniu do prawie 1000 wszystkich wartości. Rozumiemy zatem, dlaczego nie wpływają decydująco na wyniki naszych analiz.\n",
    "\n",
    "Formalnie - aby analizować związek między pensją a stażem pracy, powinniśmy usunąć te dane odstające i powtórzyć obliczenia."
   ]
  },
  {
   "cell_type": "markdown",
   "id": "55258e32",
   "metadata": {},
   "source": [
    ":::{admonition} Kształt litery V\n",
    ":class: dropdown\n",
    "\n",
    "Chmura punktów w kształcie litery **V** na wykresie scatterplot (zamiast elipsy lub prostokąta) oznacza, że istnieje **nieliniowy związek** między zmiennymi, **bądź też** występują **specyficzne wzorce w danych**, które nie wynikają z prostego, liniowego trendu. Oto możliwe przyczyny i wyjaśnienia:\n",
    "\n",
    "1. Nieliniowa zależność\n",
    "    Najczęstszy powód – **zmienne nie są liniowo skorelowane**. Może to oznaczać, że:\n",
    "    - **Pensja rośnie wraz ze stażem tylko do pewnego momentu, a potem przestaje rosnąć lub nawet maleje** (np. osoby z bardzo długim stażem mogą przechodzić na emeryturę, zmieniać branżę lub mieć niższe wynagrodzenia z innych przyczyn).\n",
    "    - **Istnieją dwie odrębne ścieżki kariery** (np. jedna grupa osób szybko awansuje i zarabia dużo, a druga pozostaje na niskich pensjach mimo stażu).\n",
    "\n",
    "2. Wartości odstające lub grupy\n",
    "    - **Wartości odstające** (outliers) – osoby o bardzo dużym stażu i niskiej pensji lub bardzo krótkim stażu i wysokiej pensji mogą „rozciągać” chmurę punktów w kształt litery V.\n",
    "    - **Grupy w danych** – jeśli w zbiorze są dwie lub więcej grup o różnych zasadach wynagradzania (np. różne branże, stanowiska), mogą one tworzyć osobne „ramiona” litery V.\n",
    "\n",
    "3. Zjawiska społeczne lub zawodowe\n",
    "    - **Zmiany w polityce płacowej** – np. nowe stanowiska są lepiej wynagradzane, a starsze mniej.\n",
    "    - **Awans i stagnacja** – osoby z krótkim stażem szybko awansują, a z długim – już nie.\n",
    "    - **Przejście na emeryturę** – osoby z bardzo długim stażem mogą mieć niższe pensje (np. część etatu, mniej odpowiedzialności).\n",
    "\n",
    "4. Problemy z danymi\n",
    "    - **Błędy w danych** – np. błędnie wprowadzone wartości stażu lub pensji.\n",
    "    - **Brak danych** – jeśli brakuje obserwacji w pewnych przedziałach, kształt chmury może być zniekształcony.\n",
    ":::"
   ]
  },
  {
   "cell_type": "markdown",
   "id": "711faf60",
   "metadata": {},
   "source": [
    "## Podsumowanie"
   ]
  },
  {
   "cell_type": "markdown",
   "id": "6fddb7cd",
   "metadata": {},
   "source": [
    "Zbiór najważniejszych poleceń Python/Pandas do analizy danych:\n",
    "\n",
    "1. Wczytanie danych z pliku CSV:\n",
    "    ```python\n",
    "    import pandas as pd\n",
    "    dane = pd.read_csv('nazwa_pliku.csv')\n",
    "    ```\n",
    "\n",
    "2. Wyświetlenie pierwszych kilku wierszy danych:\n",
    "    ```python\n",
    "    dane.head()\n",
    "    ```\n",
    "\n",
    "3. Wyświetlenie podstawowych informacji o danych:\n",
    "    ```python\n",
    "    dane.info()\n",
    "    ```\n",
    "\n",
    "4. Wyświetlenie podstawowych statystyk opisowych:\n",
    "    ```python\n",
    "    dane.describe()\n",
    "    ```\n",
    "\n",
    "5. Wyświetlenie unikalnych wartości w kolumnie:\n",
    "    ```python\n",
    "    dane['nazwa_kolumny'].unique()\n",
    "    ```\n",
    "\n",
    "6. Zliczenie liczby wystąpień unikalnych wartości w kolumnie:\n",
    "    ```python\n",
    "    dane['nazwa_kolumny'].value_counts()\n",
    "    ```\n",
    "\n",
    "7. Konwersja kolumny do innego typu (np. `int`):\n",
    "    ```python\n",
    "    dane['nazwa_kolumny'] = dane['nazwa_kolumny'].astype('int')\n",
    "    ```\n",
    "\n",
    "8. Zmiana nazwy kolumny:\n",
    "    ```python\n",
    "    dane.rename(columns={'stara_nazwa': 'nowa_nazwa'}, inplace=True)\n",
    "    ```\n",
    "\n",
    "9. Usunięcie kolumny:\n",
    "    ```python\n",
    "    dane.drop(columns=['nazwa_kolumny'], inplace=True)\n",
    "    ```\n",
    "\n",
    "10. Grupowanie danych według kolumny i obliczanie statystyk:\n",
    "    ```python\n",
    "    dane.groupby('nazwa_kolumny').agg({'nazwa_kolumny2': ['mean', 'median', 'std']})\n",
    "    ```\n",
    "\n",
    "11. Tworzenie wykresu pudełkowego:\n",
    "    ```python\n",
    "    sns.boxplot(x='nazwa_kolumny', y='nazwa_kolumny2', data=dane)\n",
    "    ```\n",
    "\n",
    "12. Tworzenie histogramu:\n",
    "    ```python\n",
    "    sns.histplot(data=dane, x='nazwa_kolumny', bins=30, kde=True)\n",
    "    ```\n",
    "\n",
    "13. Tworzenie wykresu punktowego:\n",
    "    ```python\n",
    "    sns.scatterplot(x='nazwa_kolumny', y='nazwa_kolumny2', data=dane, hue='nazwa_kolumny3')\n",
    "    ```\n",
    "\n",
    "14. Tworzenie wykresu słupkowego:\n",
    "    ```python\n",
    "    sns.barplot(x='nazwa_kolumny', y='nazwa_kolumny2', data=dane)\n",
    "    ```\n",
    "\n",
    "15. Tworzenie tabeli krzyżowej:\n",
    "    ```python\n",
    "    pd.crosstab(dane['nazwa_kolumny1'], dane['nazwa_kolumny2'])\n",
    "    ```\n",
    "\n",
    "16. Obliczanie współczynnika korelacji Pearsona:\n",
    "    ```python\n",
    "    from scipy.stats import pearsonr\n",
    "    corr, p_value = pearsonr(dane['nazwa_kolumny1'], dane['nazwa_kolumny2'])\n",
    "    print(f\"Współczynnik korelacji Pearsona: {corr}, wartość p: {p_value}\")\n",
    "    ```\n",
    "\n",
    "17. Tworzenie wykresu cieplnego:\n",
    "    ```python\n",
    "    sns.heatmap(data=dane.corr(), annot=True, cmap='coolwarm')\n",
    "    ```\n",
    "\n",
    "18. Tworzenie wykresu liniowego:\n",
    "    ```python\n",
    "    sns.lineplot(x='nazwa_kolumny', y='nazwa_kolumny2', data=dane)\n",
    "    ```\n",
    "\n",
    "19. Tworzenie wykresu kołowego:\n",
    "    ```python\n",
    "    dane['nazwa_kolumny'].value_counts().plot.pie(autopct='%1.1f%%')\n",
    "    ```\n",
    "\n",
    "20. Wyznaczenie równania lini regresji:\n",
    "    ```python\n",
    "    from scipy.stats import linregress\n",
    "    slope, intercept, r_value, p_value, std_err = linregress(dane['nazwa_kolumny1'], dane['nazwa_kolumny2'])\n",
    "    print(f\"Równanie regresji: y = {slope} * x + {intercept}\")\n",
    "    ```\n",
    "\n",
    "21. Usunięcie wartości odstających:\n",
    "    ```python\n",
    "    dane = dane[(dane['nazwa_kolumny'] > dolna_granica) & (dane['nazwa_kolumny'] < gorna_granica)]\n",
    "    ```\n",
    "\n",
    "22. Zapisanie danych do pliku CSV:\n",
    "    ```python\n",
    "    dane.to_csv('nazwa_pliku.csv', index=False)\n",
    "    ```\n",
    "\n",
    "23. Zapisanie wykresu do pliku:\n",
    "    ```python\n",
    "    plt.savefig('nazwa_wykresu.png')\n",
    "    ```\n"
   ]
  },
  {
   "cell_type": "markdown",
   "id": "926f8362",
   "metadata": {},
   "source": [
    "## Referencje\n",
    "\n",
    "* https://pandas.pydata.org/pandas-docs/stable/getting_started/intro_tutorials/index.html - oficjalny tutorial Pandas\n",
    "* https://wesmckinney.com/book/ - książka \"Python for Data Analysis\" autorstwa Wes McKinney, twórcy Pandas, prawdopodobnie najlepsza książka o Pandas\n",
    "* https://ichi.pro/pl/filtrowanie-danych-w-pandas-199495626798265\n"
   ]
  }
 ],
 "metadata": {
  "kernelspec": {
   "display_name": "Python 3",
   "language": "python",
   "name": "python3"
  },
  "language_info": {
   "codemirror_mode": {
    "name": "ipython",
    "version": 3
   },
   "file_extension": ".py",
   "mimetype": "text/x-python",
   "name": "python",
   "nbconvert_exporter": "python",
   "pygments_lexer": "ipython3",
   "version": "3.13.2"
  }
 },
 "nbformat": 4,
 "nbformat_minor": 5
}
