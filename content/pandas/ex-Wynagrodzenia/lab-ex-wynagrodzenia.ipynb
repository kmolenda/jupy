{
  "metadata": {
    "kernelspec": {
      "name": "python",
      "display_name": "Python (Pyodide)",
      "language": "python"
    },
    "language_info": {
      "codemirror_mode": {
        "name": "python",
        "version": 3
      },
      "file_extension": ".py",
      "mimetype": "text/x-python",
      "name": "python",
      "nbconvert_exporter": "python",
      "pygments_lexer": "ipython3",
      "version": "3.8"
    }
  },
  "nbformat_minor": 5,
  "nbformat": 4,
  "cells": [
    {
      "id": "4e5da9db",
      "cell_type": "markdown",
      "source": "# Statystyczna analiza danych z Pandas. Wynagrodzenia\n\n* Krzysztof Molenda, ver. 2025.05.01",
      "metadata": {}
    },
    {
      "id": "e80223f0-ad3c-4cfa-b4cf-51690bb68d09",
      "cell_type": "markdown",
      "source": ":::{admonition} Ważne\n:class: warning\n\n* Niniejsze ćwiczenie opracowane jest w formie interaktywnego notatnika Jupyter. W komórkach z tekstem wykorzystano MyST markdown.\n* Należy zapoznawać się z treścią **po kolei**, uruchamiając kolejne komórki z kodem. Wszystkie kroki są szczegółowo wyjaśnione. W niektórych przypadkach pojawią się błędy, które są omawiane w treści ćwiczenia.\n* Zawsze można zrestartować jądro Jupyter Notebooka i wyczyścić wszystkie wyniki obliczeń (komenda `Kernel -> Restart & Clear Output`). \n:::",
      "metadata": {}
    },
    {
      "id": "7d43526f-01cf-4c85-8fb4-ae074d64c46c",
      "cell_type": "markdown",
      "source": "Głównym celem ćwiczenia jest zaprezentowanie możliwości biblioteki języka Python i Pandas do przeprowadzania prostej analizy danych.\n\nZakłada sie podstawową znajomość języka Python (podstawienie, warunkowy wybór, pętle, listy, słowniki) oraz podstawową umiejętność posługiwania sie notatnikiem Jupyter.",
      "metadata": {}
    },
    {
      "id": "807f159b",
      "cell_type": "markdown",
      "source": "## Wprowadzenie\n\nPandas to biblioteka Pythona do analizy danych. Umożliwia łatwe manipulowanie danymi, ich przetwarzanie i wizualizację. W tym ćwiczeniu zapoznamy się z podstawowymi funkcjami biblioteki Pandas oraz z metodami analizy danych. Ćwiczenie obejmuje następujące zagadnienia:\n\n* Wczytanie danych z pliku Excel\n* Wstępna analiza danych\n* Podstawowe operacje na danych\n* Wizualizacja danych\n* Analiza statystyczna danych i modelowanie\n\nĆwiczenie realizujemy wykorzystując środowisko Jupyter Notebook.",
      "metadata": {}
    },
    {
      "id": "b9d710cd",
      "cell_type": "markdown",
      "source": "Podstawowym obiektem w Pandas jest _DataFrame_, który jest dwuwymiarową tabelą danych. _DataFrame_ można porównać do arkusza kalkulacyjnego, gdzie kolumny to zmienne, a wiersze to obserwacje. Pandas umożliwia łatwe manipulowanie danymi w _DataFrame_, takie jak filtrowanie, sortowanie, grupowanie i agregowanie danych. Wspiera również podstawowe obliczenia statystyczne i wizualizację danych.",
      "metadata": {}
    },
    {
      "id": "4a5ee1db-6376-4a47-8ef3-fcc6032afd1e",
      "cell_type": "markdown",
      "source": "::::{admonition} Dygresja - _DataFrame_\n:class: dropdown\n\nTrudno jest znaleźć idealny, pojedynczy zamiennik dla terminu \"DataFrame\" w języku polskim, który w pełni oddawałby jego znaczenie w kontekście programowania i analizy danych. \"DataFrame\" to specyficzna struktura danych z biblioteki Pandas w Pythonie, która organizuje dane w sposób tabelaryczny, z wierszami i kolumnami.\n\nOto kilka propozycji i wyjaśnień, dlaczego żadna nie jest idealna:\n\n* **Ramka danych:** To chyba najczęściej używane tłumaczenie. Jest dość bliskie oryginałowi i w miarę zrozumiałe. Jednak \"ramka\" może sugerować coś statycznego, podczas gdy DataFrame jest obiektem, na którym wykonuje się operacje.\n* **Tabela danych:** To tłumaczenie jest proste i intuicyjne. Oddaje tabelaryczną naturę DataFrame. Ale \"tabela\" w języku polskim często odnosi się do czegoś, co widzimy na ekranie lub w dokumencie, a DataFrame to obiekt w pamięci komputera.\n* **Struktura danych tabelarycznych:** To tłumaczenie jest bardzo dokładne, ale długie i mało praktyczne w codziennym użyciu.\n* **Tablica danych:** To tłumaczenie jest czasami używane, ale \"tablica\" w informatyce ma inne, bardziej specyficzne znaczenie (np. \"array\").\n\n**W praktyce**\n\nW większości przypadków programiści i analitycy danych w Polsce po prostu używają angielskiego terminu **\"DataFrame\"**. Jest to powszechnie zrozumiałe w środowisku.\n\n**Podsumowując**\n\nChociaż istnieją próby tłumaczenia, żadne nie oddaje w pełni specyfiki i kontekstu \"DataFrame\". Dlatego w praktyce najczęściej używa się oryginalnego terminu.\n::::",
      "metadata": {}
    },
    {
      "id": "52e5999c",
      "cell_type": "markdown",
      "source": "## Instalacja\n\n:::{tip}\nJesli używasz Google Colab, Anaconda, Jupyter Notebook czy JupyterLab/JupyterLite - biblioteka Pandas jest już zainstalowana. W przeciwnym razie, jeśli używasz lokalnej instalacji Pythona, musisz zainstalować Pandas samodzielnie.\n:::\n\nAby zainstalować Pandas w lokalnym srodowisku Pythona, należy użyć menedżera pakietów, np. `pip`. W terminalu należy wpisać:\n\n```bash\npip install pandas\n```",
      "metadata": {}
    },
    {
      "id": "565a551e",
      "cell_type": "markdown",
      "source": "## Konfiguracja\nAby używać Pandas w Jupyter Notebook, należy zaimportować bibliotekę. W tym celu należy wpisać następujące polecenie:\n\n```python\nimport pandas as pd\n```\n\nDo składników pakietu będziesz od tego momentu odwoływać się za pomocą _aliasu_ `pd`",
      "metadata": {}
    },
    {
      "id": "8beee881",
      "cell_type": "code",
      "source": "# importowanie biblioteki, o ile jest zainstalowana\nimport pandas as pd\n\n# wypisuje wersję biblioteki `pandas`\nprint(pd.__version__)",
      "metadata": {
        "trusted": true
      },
      "outputs": [],
      "execution_count": null
    },
    {
      "id": "ee9d59b4",
      "cell_type": "markdown",
      "source": "## Opis problemu\n\nW pliku `wynagrodzenia.xlsx`, w arkuszu `Dane` znajdują się dane dotyczące wynagrodzeń pracowników w pewnej firmie. Dane są zanonimizowane i pochodzą sprzed wielu lat, stąd wartości wynagrodzenia mogą być nieaktualne. W pliku znajdują się dane dotyczące 1000 pracowników. \n\nW pliku tym mamy następujące kolumny:\n* `Pracownik` - identyfikator pracownika, napis\n* `Pensja` - wynagrodzenie pracownika, liczba zmiennoprzecinkowa\n* `Staż pracy` - liczba lat pracy w firmie, liczba całkowita\n* `Płeć` - płeć: `M` - mężczyzna, `K` - kobieta, napis\n\nCelem ćwiczenia jest przeprowadzenie analizy danych dotyczących wynagrodzeń pracowników. W szczególności zależy nam na uzyskaniu informacji o:\n* średnim wynagrodzeniu pracowników w firmie\n* średnim wynagrodzeniu pracowników w zależności od płci, od stażu pracy\n* rozkładzie wynagrodzeń pracowników (również w zależności od płci i stażu pracy)\n\nChcielibyśmy również uzyskać informacje o ewentualnie istniejących związkach między wynagrodzeniem a płcią oraz stażem pracy. W tym celu przeprowadzimy analizę statystyczną danych, w tym testy statystyczne i wizualizację danych.",
      "metadata": {}
    },
    {
      "id": "3d5c56ea",
      "cell_type": "markdown",
      "source": "## Wczytanie danych z pliku Excel\n\nPandas umożliwia wczytywanie danych z różnych źródeł, w tym z plików Excel, CSV, JSON, baz danych SQL i innych. W naszym przypadku dane znajdują się w pliku Excel, który zawiera arkusz z danymi.\n\nWczytanie danych z pliku Excel do obiektu typu `DataFrame` można wykonać za pomocą funkcji `pd.read_excel()`. Funkcja ta przyjmuje jako argument ścieżkę do pliku Excel oraz opcjonalnie nazwę arkusza, z którego chcemy wczytać dane. W naszym przypadku wczytamy dane z pliku `wynagrodzenia.xlsx`, który znajduje się w tym samym katalogu co nasz notatnik.\n\nDo poprawnego działania funkcji `pd.read_excel()` potrzebny jest wcześniej zainstalowany pakiet `openpyxl`. Można go zainstalować w systemie za pomocą polecenia: `pip install openpyxl`.",
      "metadata": {}
    },
    {
      "id": "97a99c65",
      "cell_type": "code",
      "source": "# instalacja openpyxl w środowisku JupyterLite\nimport piplite\nawait piplite.install('openpyxl')",
      "metadata": {
        "trusted": true
      },
      "outputs": [],
      "execution_count": null
    },
    {
      "id": "e7619b36",
      "cell_type": "code",
      "source": "# instalacja biblioteki openpyxl w innych środowiskach Jupyter\n# !pip install openpyxl\n# %pip install openpyxl",
      "metadata": {
        "trusted": true
      },
      "outputs": [],
      "execution_count": null
    },
    {
      "id": "83486a0f",
      "cell_type": "code",
      "source": "# wczytuje dane z pliku Excel\ndane = pd.read_excel('wynagrodzenia.xlsx', sheet_name='Dane')",
      "metadata": {
        "trusted": true
      },
      "outputs": [],
      "execution_count": null
    },
    {
      "id": "65409dc5",
      "cell_type": "markdown",
      "source": "Aby potwierdzić załadowanie danych z pliku do _DataFrame_, poleceniem `print()` wypiszemy kilka początkowych i końcowych wierszy wczytanych danych.",
      "metadata": {}
    },
    {
      "id": "c74594ec",
      "cell_type": "code",
      "source": "print(dane)",
      "metadata": {
        "trusted": true
      },
      "outputs": [],
      "execution_count": null
    },
    {
      "id": "cf91f333",
      "cell_type": "markdown",
      "source": "W przypadku pracy z notatnikiem Jupyter, lepszym rozwiązaniem jest użycie polecenia `display()`, aby wyświetlić dane w formie interaktywnej tabeli.\n\n::::{hint}\n:class: dropdown\n\nPracując z Jupyter Notebook\n* warto używać polecenia `display()` zamiast `print()`, aby uzyskać lepszą wizualizację danych; funkcja `display()` wykrywa typ przekazanego obiektu i wyświetla go w odpowiedniej, najbardziej czytelnej formie;\n* zamiast jawnie wywoływać funkcję `display()`, można w ostatniej linii komórki wpisać nazwę zmiennej, aby Jupyter automatycznie wywołał `display()` dla obiektu wskazywanego przez tę zmienną. Na przykład, zamiast \n    ```python\n    display(dane)\n    ```\n  można wpisać po prostu \n    ```python\n    dane\n    ``` \n* funkcji `display()` używamy, jeśli w komórce mamy więcej niż jedną instrukcję - i chcemy wymusić wyświetlenie obiektu nie występującego w ostatnim wierszu kodu. Na przykład:\n    ```python\n    wynik1 = obliczenia1()\n    display(wynik1)\n    obiczenia2()\n    display(obliczenia3())\n    wynik = obliczenia4()\n    wynik\n    ```\n::::",
      "metadata": {}
    },
    {
      "id": "c7a434a5",
      "cell_type": "code",
      "source": "# jawne wywołanie funkcji `display` z biblioteki IPython\ndisplay(dane)\n\n# niejawne wywołanie funkcji `display`, ostatni obiekt w komórce\ndane",
      "metadata": {
        "trusted": true
      },
      "outputs": [],
      "execution_count": null
    },
    {
      "id": "453485ec",
      "cell_type": "markdown",
      "source": "W podsumowaniu wyświetlanej tabeli mamy informację, że dane zawierają 1000 wierszy i 4 kolumny. Wiersze odpowiadają pracownikom, a kolumny to zmienne: `Pracownik`, `Pensja`, `Staż pracy` i `Płeć`. Wiersze automatycznie ponumerowane zostały wewnętrznie od `0` do `999`. Ta nienazwana początkowa kolumna to **indeks**, który jest domyślnie generowany przez Pandas. Aby dowiedzieć się więcej o indeksach w naszym _DataFrame_, można użyć polecenia `dane.index`. W podobny sposób można sprawdzić, jakie są nazwy kolumn wczytanych danych, używając polecenia `dane.columns`. Wartości w kolumnach można sprawdzić za pomocą polecenia `dane.values`. Wartości w kolumnach są przechowywane w formie tablic biblioteki _NumPy._",
      "metadata": {}
    },
    {
      "id": "5b5606d5",
      "cell_type": "code",
      "source": "display(dane.index)\ndisplay(dane.columns)\ndisplay(dane.values)",
      "metadata": {
        "trusted": true
      },
      "outputs": [],
      "execution_count": null
    },
    {
      "id": "9c85f837",
      "cell_type": "markdown",
      "source": "**Zmiana indeksu tabeli**\n\nIndeks można zmienić, np. na kolumnę `Pracownik`, używając polecenia `dane.set_index('Pracownik', inplace = True)`. Wówczas kolumna `Pracownik` stanie się indeksem _DataFrame_, a kolejne kolumny zawierać będą dane dotyczące pracowników.",
      "metadata": {}
    },
    {
      "id": "49f56c4f",
      "cell_type": "code",
      "source": "dane.set_index('Pracownik', inplace=True)\ndisplay(dane)\ndisplay(dane.index)\ndisplay(dane.columns)",
      "metadata": {
        "trusted": true
      },
      "outputs": [],
      "execution_count": null
    },
    {
      "id": "290a1da3",
      "cell_type": "markdown",
      "source": ":::{important}\n* Parametr `inplace = True` oznacza, że zmiany zostaną wprowadzone bezpośrednio w _DataFrame_ `dane`. Jeśli nie użyjemy tego argumentu, zmiany zostaną wprowadzone w nowym _DataFrame_, a oryginalny _DataFrame_ pozostanie bez zmian.\n* Numeracja wewnętrzna wierszy nadal będzie obowiazywała od `0` do `999`, ale kolumna `Pracownik` stanie się indeksem DataFrame. Numeracja wewnętrzna kolumn zmieni się - kolumną `0` będzie `Pensja`, kolumną `1` - `Staż pracy`, a kolumną `2` - `Płeć`.\n:::",
      "metadata": {}
    },
    {
      "id": "35efabee",
      "cell_type": "markdown",
      "source": "## Wstępna analiza i czyszczenie danych\nWstępna analiza danych polega na sprawdzeniu, czy dane są poprawne i czy nie zawierają błędów.",
      "metadata": {}
    },
    {
      "id": "31a8877d",
      "cell_type": "markdown",
      "source": "### Dostęp do danych\n\n",
      "metadata": {}
    },
    {
      "id": "e990d50d",
      "cell_type": "markdown",
      "source": "Obiekt typu `DataFrame` można traktować jak tablicę, gdzie kolumny to zmienne, a wiersze to obserwacje. Poniższy rysunek wyjaśnia znaczenie poszczególnych elementów _DataFrame_:",
      "metadata": {}
    },
    {
      "id": "54d3463e",
      "cell_type": "code",
      "source": "# uruchom kod, aby zobaczyc rysunek\nfrom IPython.display import Image\nImage(filename='dataframe-objasnienia.png', width=400, height=400)",
      "metadata": {
        "trusted": true
      },
      "outputs": [],
      "execution_count": null
    },
    {
      "id": "1f30c07a",
      "cell_type": "markdown",
      "source": "Wiersze i kolumny wewnętrznie indeksowane są liczbami od `0`. Czasami, za pośrednictwem tych indeksów możemy uzyskać dostęp do danych. Zdecydowanie lepszym i bezpieczniejszym sposobem jest odwoływanie się do do danych za pomocą nazw kolumn (zmiennych) czy nazw wierszy (przypadków/obserwacji).\n\nGeneralnie, aby odwołać się do elementu _DataFrame_, używamy operatora nawiasu kwadratowego `[]` - podobnie jak w Pythonie odwoływanie się do elementów słownika (nawiasem mówiąc, typ `DataFrame` przypomina swoją budową słownik).",
      "metadata": {}
    },
    {
      "id": "7e39a63a",
      "cell_type": "markdown",
      "source": "#### Odwołania do kolumn\n\nAby odwołać się do konkretnej kolumny, używamy operatora `[]` i podajemy nazwę kolumny w cudzysłowie lub apostrofach. Na przykład, aby uzyskać dostęp do kolumny `Pensja`, używamy polecenia `dane['Pensja']`. ",
      "metadata": {}
    },
    {
      "id": "060f847e",
      "cell_type": "code",
      "source": "dane['Pensja']",
      "metadata": {
        "trusted": true
      },
      "outputs": [],
      "execution_count": null
    },
    {
      "id": "dac94d6b",
      "cell_type": "markdown",
      "source": "Możemy również uzyskać dostęp do kilku kolumn jednocześnie, podając **listę nazw kolumn** (w nawiasach kwadratowych, jak w Pythonie). Na przykład, aby uzyskać dostęp do kolumn `Płeć` i `Pensja`, używamy polecenia `dane[['Płeć', 'Pensja']]` - przekazując listę nazw kolumn w oczekiwanej kolejności.",
      "metadata": {}
    },
    {
      "id": "cfb57f7e",
      "cell_type": "code",
      "source": "dane[['Płeć', 'Pensja']]",
      "metadata": {
        "trusted": true
      },
      "outputs": [],
      "execution_count": null
    },
    {
      "id": "266affb2",
      "cell_type": "markdown",
      "source": "::::{important}\n\nWynikiem odwołania się do elementu _DataFrame_ za pomocą operatora `[]` jest **nowy obiekt** (`Series` lub `DataFrame`), który zawiera tylko te dane, do których się odwołaliśmy. Wartości w tym nowym obiekcie są kopiowane z oryginalnego _DataFrame_. Wszelkie zmiany wprowadzone w tym nowym obiekcie nie wpłyną na oryginalny _DataFrame_.\n\nJeśli chcemy produkowane dane zapamiętać w nowym obiekcie, zapiszemy je w zmiennej. Na przykład, aby zapisać kolumnę `Pensja` w zmiennej `pensje`, używamy polecenia `pensje = dane['Pensja']`. Wówczas zmienna `pensje` będzie zawierała kopię kolumny `Pensja` z oryginalnego DataFrame.\n::::",
      "metadata": {}
    },
    {
      "id": "bd8583f0",
      "cell_type": "code",
      "source": "pensje = dane['Pensja']\npensje",
      "metadata": {
        "trusted": true
      },
      "outputs": [],
      "execution_count": null
    },
    {
      "id": "23bcc5c1",
      "cell_type": "markdown",
      "source": ":::{tip}\n:class: dropdown\n\nJeśli nazwy kolumn są poprawnymi identyfikatorami Pythona, można uzyskać dostęp do kolumny bez użycia operatora `[]`, a za pomocą operatora wyłuskania `.` \n\nNa przykład, aby uzyskać dostęp do kolumny `Pensja`, można użyć polecenia `dane.Pensja`. Podobnie z uzyskaniem dostępu do kilku kolumn jednocześnie - można użyć polecenia `dane[['Płeć', 'Pensja']]` lub `dane.Płeć, dane.Pensja`.\n\nJednakże, jeśli nazwa kolumny zawiera spacje lub inne znaki specjalne, nie można użyć operatora `.` do uzyskania dostępu do kolumny. Na przykład, aby uzyskać dostęp do kolumny `Staż pracy`, nie można użyć polecenia `dane.Staż pracy`, ponieważ zawiera ono spację.\n:::",
      "metadata": {}
    },
    {
      "id": "8ea5ad7f",
      "cell_type": "code",
      "source": "display(dane.Płeć, dane.Pensja)",
      "metadata": {
        "trusted": true
      },
      "outputs": [],
      "execution_count": null
    },
    {
      "id": "3bdb579f",
      "cell_type": "markdown",
      "source": "#### Odwołania `loc` oraz `iloc`\n\nZe względu na to, że _DataFrame_ dysponuje wieloma sposobami indeksowania jego danych, wprowadzono uniwersalny sposób odwoływania się do danych w _DataFrame_ - za pomocą metod `loc[]` oraz `iloc[]`. \n\n* Metoda `loc[]` służy do indeksowania danych na podstawie etykiet (indeksów)\n* Metoda `iloc[]` służy do indeksowania danych na podstawie pozycji (indeksów liczbowych, wewnętrznych).\n\nZarówno `loc[]` jak i `iloc[]` można używać do uzyskiwania dostępu do pojedynczych wartości, wierszy, kolumn lub podzbiorów danych w _DataFrame_.",
      "metadata": {}
    },
    {
      "id": "88f92452",
      "cell_type": "markdown",
      "source": "#### Odwołanie do wierszy",
      "metadata": {}
    },
    {
      "id": "89caf020",
      "cell_type": "markdown",
      "source": "**Odwołania pozycyjne**\n\nAby uzyskać dostęp do konkretnego wiersza, używamy operatora `iloc[]` i podajemy numer wiersza (numeracja wewnętrzna, od `0`). Na przykład, aby uzyskać dostęp do pierwszego wiersza, używamy polecenia `dane.iloc[0]`. Możemy również uzyskać dostęp do kilku wierszy jednocześnie, podając **listę numerów wierszy**. Na przykład, aby uzyskać dostęp do pierwszych pięciu wierszy, używamy polecenia `dane.iloc[[0, 1, 2, 3, 4]]`.",
      "metadata": {}
    },
    {
      "id": "766ccfe1",
      "cell_type": "code",
      "source": "display(dane.iloc[0])",
      "metadata": {
        "trusted": true
      },
      "outputs": [],
      "execution_count": null
    },
    {
      "id": "b9bf35c1",
      "cell_type": "code",
      "source": "display(dane.iloc[[0, 2, 4, 6]])",
      "metadata": {
        "trusted": true
      },
      "outputs": [],
      "execution_count": null
    },
    {
      "id": "746b5655",
      "cell_type": "markdown",
      "source": "Nic nie stoi na przeszkodzie, aby używać slicerów. Na przykład, aby uzyskać dostęp do pierwszych pięciu wierszy, można użyć polecenia `dane.iloc[0:5]`. Można również użyć operatora `:` do uzyskania dostępu do wszystkich wierszy (`dane.iloc[:]`) lub do ostatnich dwóch wierszy (`dane.iloc[-2:]`).\n\n:::{important}\nFragmentacja (ang. _slicing_) w Pandas w nawiasach `[]` **działa dla wierszy**.\n:::",
      "metadata": {}
    },
    {
      "id": "5bd9af2b",
      "cell_type": "code",
      "source": "display(dane.iloc[0:5])\ndisplay(dane.iloc[-2:])",
      "metadata": {
        "trusted": true
      },
      "outputs": [],
      "execution_count": null
    },
    {
      "id": "8ca0e4bc",
      "cell_type": "markdown",
      "source": "**Odwołania przez nazwy**\n\nDrugi wariant, metoda `loc[]`, działa podobnie, ale zamiast numerów wierszy używamy etykiet (indeksów). Na przykład, aby uzyskać dostęp do pierwszego wpisu użyjemy polecenia `dane.loc['P1']`. Możemy również uzyskać dostęp do kilku wierszy jednocześnie, podając **listę etykiet**. Na przykład, aby uzyskać dostęp do co drugiego wiersza od `P1` do `p7`, używamy polecenia `dane.loc[['P1', 'P3', 'P5', 'P7']]` lub z wykorzystaniem slicera `dane.loc['P1':'P7':2]`.",
      "metadata": {}
    },
    {
      "id": "7a8cd4ef",
      "cell_type": "code",
      "source": "print(\"czy loc['P1'] == iloc[0]?\")\ndisplay(dane.loc[\"P1\"] == dane.iloc[0])",
      "metadata": {
        "trusted": true
      },
      "outputs": [],
      "execution_count": null
    },
    {
      "id": "1eada8a4",
      "cell_type": "code",
      "source": "dane.loc[['P1', 'P3', 'P5', 'P7']]",
      "metadata": {
        "trusted": true
      },
      "outputs": [],
      "execution_count": null
    },
    {
      "id": "e9b116a2",
      "cell_type": "code",
      "source": "dane.loc['P1':'P7':2]",
      "metadata": {
        "trusted": true
      },
      "outputs": [],
      "execution_count": null
    },
    {
      "id": "3ccdfab5",
      "cell_type": "markdown",
      "source": ":::{important}\nSlicery dla `loc[]` działają od pierwszego do ostatniego wskazanego elementu. Oznacza to, że w przypadku `loc[]` **ostatnia etykieta jest również brana pod uwagę**, podczas gdy w przypadku `iloc[]` ostatnia etykieta nie jest brana pod uwagę (jak w czystym Pythonie).\n:::",
      "metadata": {}
    },
    {
      "id": "9e43f270",
      "cell_type": "markdown",
      "source": "#### Odwołania do pojedynczej komórki\n\nAby uzyskać dostęp do konkretnej komórki, używamy operatora `iloc[]` i podajemy numer wiersza oraz numer kolumny. Na przykład, aby uzyskać dostęp do pierwszej komórki w pierwszym wierszu, używamy polecenia `dane.iloc[0, 0]`.",
      "metadata": {}
    },
    {
      "id": "1d3162d2",
      "cell_type": "code",
      "source": "display(dane.iloc[0,0])",
      "metadata": {
        "trusted": true
      },
      "outputs": [],
      "execution_count": null
    },
    {
      "id": "4a37c847",
      "cell_type": "markdown",
      "source": "Analogicznie, posługując się indeksami, używamy metody `loc[]` podając nazwę wiersza i kolumny. Na przykład, aby uzyskać dostęp do pierwszej komórki w pierwszym wierszu, używamy polecenia `dane.loc['P1', 'Pensja']`.",
      "metadata": {}
    },
    {
      "id": "449cc1d7",
      "cell_type": "code",
      "source": "dane.loc['P1', 'Pensja']",
      "metadata": {
        "trusted": true
      },
      "outputs": [],
      "execution_count": null
    },
    {
      "id": "0b663e4a",
      "cell_type": "markdown",
      "source": ":::{important}\n\nOdwołanie do elementów _DataFrame_, za pomocą indeksów wewnętrznych (liczbowych) oraz etykiet (indeksów) zgłosi bład `IndexError`, `KeyError` lub `TypeError`, jeśli podany indeks lub etykieta nie istnieje.\n\nNa przykład, jeśli próbujemy uzyskać dostęp \n* do wiersza o indeksie `1000`, zgłoszony zostanie błąd `IndexError`,\n* do wiersza o etykiecie `P1000`, zgłoszony zostanie błąd `KeyError`,\n* do kolumny o indeksie `4`, zgłoszony zostanie błąd `IndexError`,\n* do kolumny o nazwie `Pensja1`, zgłoszony zostanie błąd `TypeError`.\n\nW takim przypadku należy sprawdzić, czy podany indeks/etykieta istnieje w _DataFrame_ - używając polecenia `dane.index` lub `dane.columns`.",
      "metadata": {}
    },
    {
      "id": "848214c6",
      "cell_type": "code",
      "source": "# dane.iloc[1000, 0]  # niepoprawne, bo nie ma wiersza o indeksie 1000\n# dane.loc['P1001', 'Pensja']  # niepoprawne, bo nie ma wiersza o indeksie 'P1001'\n# dane.iloc[0, 4]  # niepoprawne, bo nie ma kolumny o indeksie 4\n# dane.loc('P1', 'Pensja1')  # niepoprawne, bo nie ma kolumny o nazwie 'Pensja1'",
      "metadata": {
        "trusted": true
      },
      "outputs": [],
      "execution_count": null
    },
    {
      "id": "b256c7a9",
      "cell_type": "markdown",
      "source": ":::{important}\nNie wolno mieszać indeksów i etykiet. Na przykład, jeśli próbujemy uzyskać dostęp do wiersza o indeksie `0` i kolumny o nazwie `Pensja` (`dane.iloc[0, 'Pensja']` lub `dane.loc[0,'Pensja']`), zgłoszony zostanie błąd `TypeError`, `ValueError` lub `KeyError`. Należy używać albo indeksów, albo etykiet - nie można ich mieszać.\n:::",
      "metadata": {}
    },
    {
      "id": "01490e90",
      "cell_type": "code",
      "source": "# dane.iloc[0, 'Pensja'] # niepoprawne, bo iloc wymaga indeksu liczbowego, ValueError\n# dane.loc[0, 'Pensja']  # niepoprawne, bo nie ma wiersza o indeksie/etykiecie `0`, KeyError\n# dane.loc[\"P1\", 0]  # niepoprawne, bo nie ma kolumny o etykiecie `0`, KeyError",
      "metadata": {
        "trusted": true
      },
      "outputs": [],
      "execution_count": null
    },
    {
      "id": "981a4f84",
      "cell_type": "markdown",
      "source": ":::{tip}\nDostep do pojedynczej komórki można również uzyskać za pomocą operatora `at[]` oraz `iat[]`. Na przykład, aby uzyskać dostęp do pierwszej komórki w pierwszym wierszu, użyjemy polecenia `dane.at['P1', 'Pensja']` lub `dane.iat[0, 0]`.\n:::",
      "metadata": {}
    },
    {
      "id": "2e79ac4a",
      "cell_type": "code",
      "source": "display(dane.at['P1', 'Pensja'])\ndisplay(dane.iat[0, 0])",
      "metadata": {
        "trusted": true
      },
      "outputs": [],
      "execution_count": null
    },
    {
      "id": "8fe8d7a1",
      "cell_type": "markdown",
      "source": "#### Odwołania do podzbiorów danych",
      "metadata": {}
    },
    {
      "id": "b8e6c6f6",
      "cell_type": "markdown",
      "source": "Aby uzyskać dostęp do podzbioru danych, używamy operatora `iloc[]` i podajemy zakres wierszy oraz kolumn. Na przykład, aby uzyskać dostęp do pięciu wierszy począwszy od wiersza `100` oraz kolumn `Pensja` i `Płeć`, używamy polecenia `dane.iloc[100:105, [0, 2]]`.",
      "metadata": {}
    },
    {
      "id": "f427f614",
      "cell_type": "code",
      "source": "dane.iloc[100:105, [0, 2]]",
      "metadata": {
        "trusted": true
      },
      "outputs": [],
      "execution_count": null
    },
    {
      "id": "43192b70",
      "cell_type": "markdown",
      "source": "Załóżmy, że chcemy wyświetlić dane dotyczące konkretnych pracowników, których mamy zapamietanych w oddzielnej liście. Wówczas możemy użyć metody `loc[]` i podać tę listę etykiet.",
      "metadata": {}
    },
    {
      "id": "d27cbceb",
      "cell_type": "code",
      "source": "lista_pracownikow_do_analizy = ['P101', 'P3', 'P25', 'P97']\ndane.loc[lista_pracownikow_do_analizy, ['Płeć', 'Pensja']]",
      "metadata": {
        "trusted": true
      },
      "outputs": [],
      "execution_count": null
    },
    {
      "id": "5ea2babd",
      "cell_type": "markdown",
      "source": "#### Odwołania - podsumowanie",
      "metadata": {}
    },
    {
      "id": "a94e9c61",
      "cell_type": "markdown",
      "source": "`DataFrame` można traktować jak tablicę, gdzie kolumny to zmienne, a wiersze to obserwacje. Formalnie, kolumny traktowane są jako serie danych jednego typu, a wiersze jako serie danych różnych typów - w tym celu w Pandas zdefiniowano specjalny typ `Series` jako typ danych jednego wymiaru (jednowymiarowa `DateFrame`).\n\nMożemy uzyskać dostęp do danych w `DataFrame` na kilka sposobów:\n* `dane['Pensja']` - dostęp do kolumny `Pensja` (jako `Series`). Również `dane.Pensja` - dostęp do kolumny `Pensja` (jako `Series`).\n* `dane[['Pensja', 'Płeć']]` - dostęp do kolumn `Pensja` i `Płeć` (jako `DataFrame`)\n* `dane.iloc[0]` - dostęp do pierwszego wiersza (jako `Series`)\n* `dane.iloc[[0, 1, 2]]` - dostęp do pierwszych trzech wierszy (jako `DataFrame`)\n* `dane.iloc[0:3]` - dostęp do pierwszych trzech wierszy (jako `DataFrame`) - wiersze o indeksach wewnętrznych `0`, `1` i `2`\n* `dane.iloc[0, 0]` - dostęp do pierwszej komórki (jako wartość skalarna `float`)\n* `dane.iloc[0:3, 0:2]` - dostęp do pierwszych trzech wierszy i pierwszych dwóch kolumn (jako `DataFrame`)\n* `dane.loc['P1']` - dostęp do wiersza o etykiecie `P1` (jako `Series`)\n* `dane.loc[['P1', 'P2']]` - dostęp do wierszy o etykietach `P1` i `P2` (jako `DataFrame`)\n* `dane.loc['P1':'P3']` - dostęp do wierszy o etykietach od `P1` do `P3` włącznie (jako `DataFrame`)\n* `dane.loc['P1', 'Pensja']` - dostęp do komórki o etykiecie `P1` i kolumnie `Pensja` (jako wartość skalarna `float`)\n* `dane.loc[['P1', 'P2'], ['Pensja', 'Płeć']]` - dostęp do komórek o etykietach `P1` i `P2` oraz kolumnach `Pensja` i `Płeć` (jako `DataFrame`)\n* `dane.loc['P1':'P3', 'Pensja':'Płeć']` - dostęp do komórek o etykietach od `P1` do `P3` włącznie oraz kolumnach od `Pensja` do `Płeć` włącznie (jako `DataFrame`)\n\nDostep do danych potrzebny jest nam do wyszukiwania informacji jak i ewentualnej ich edycji.\n\nW przypadku, gdybyśmy chcieli zmienić wartość w kolumnie `Pensja` dla pracownika o etykiecie `P1` na kwotę 10000, użyjemy polecenia `dane.loc['P1', 'Pensja'] = 10000`.",
      "metadata": {}
    },
    {
      "id": "e40e99f9",
      "cell_type": "markdown",
      "source": "### Filtrowanie danych\n\nFiltrowanie danych polega na wybraniu tylko tych wierszy, które spełniają określone warunki. W Pandas można filtrować dane za pomocą operatorów porównania (`==`, `!=`, `<`, `>`, `<=`, `>=`) oraz operatorów logicznych (`&`, `|`, `~`).\n\n:::{important}\n\nW Pandas do definiowania filtrowania używamy dedykowanych operatorów logicznych:\n* `&` - operator AND (i)\n* `|` - operator OR (lub)\n* `~` - operator NOT (nie)\n\n⚠ Przy budowaniu warunków filtrujących **nie używamy** operatorów `and`, `or`, `not` - są to operatory Pythona, które nie działają na obiektach Pandas. Użycie tych operatorów zgłosi błąd `ValueError` lub `TypeError`.\n:::",
      "metadata": {}
    },
    {
      "id": "51f1e2c5",
      "cell_type": "markdown",
      "source": "::::{admonition} Przykład\n\nChcesz uzyskać dostęp do wszystkich pracowników którzy są kobietami i którzy mają wynagrodzenie większe niż `5000`. W tym celu użyjemy operatora `&` oraz operatorów porównania. \n\n```python\ndane[(dane['Płeć'] == 'K') & (dane['Pensja'] > 5000)]\n```\n::::",
      "metadata": {}
    },
    {
      "id": "43105753",
      "cell_type": "markdown",
      "source": "::::{admonition} Przykład\n\nChcesz uzyskać dostęp do wszystkich pracowników, którzy są mężczyznami lub ich wynagrodzenie mieści się w przedziale `5000` - `10000`. W tym celu użyjemy operatora `|` oraz operatorów porównania.\n\n```python\ndane[(dane['Płeć'] == 'M') | ((dane['Pensja'] >= 5000) & (dane['Pensja'] <= 10000))]\n```\n::::",
      "metadata": {}
    },
    {
      "id": "dcea866c",
      "cell_type": "markdown",
      "source": "**Jak to działa?**\n\nW Pandas filtrowanie danych działa na zasadzie maski. Maska to tablica wartości logicznych (`True`/`False`), która wskazuje, które wiersze powinny zostać wybrane. Wartości `True` oznaczają, że dany wiersz spełnia warunek, a wartości `False` oznaczają, że dany wiersz nie spełnia warunku.\n\nMaska jest tworzona na podstawie warunków, które definiujemy. Na przykład, jeśli chcemy wybrać tylko te wiersze, w których w kolumnie `Płeć` jest wpisane `K`, używamy następującego polecenia:\n\n```python\nmaska = (dane.Płeć == 'K')\n```\n\nWówczas zmienna `maska` będzie zawierała tablicę wartości logicznych, która wskazuje, które wiersze spełniają warunek.\n\n```python\nmaska\n```\n    \n```output\n0     False\n1     False\n...\n999   True\nName: Płeć, dtype: bool\n```\n\nNastępnie możemy użyć tej maski do filtrowania danych:\n\n```python\ndane[maska]\n```\n\nPandas łaczy dane z maską i jako wynik zwraca tylko te wiersze, dla których maska jest `True`.\n\nNie musimy jednak tworzyć maski, aby filtrować dane. Możemy od razu użyć warunków w nawiasach kwadratowych:\n\n```python\ndane[dane.Płeć == 'K']\n```",
      "metadata": {}
    },
    {
      "id": "2f814ef3",
      "cell_type": "code",
      "source": "maska = (dane.Płeć == 'K')\ndisplay(maska)\ndisplay(dane[maska])",
      "metadata": {
        "trusted": true
      },
      "outputs": [],
      "execution_count": null
    },
    {
      "id": "7f1a5d8b",
      "cell_type": "code",
      "source": "dane[dane.Płeć == 'K']",
      "metadata": {
        "trusted": true
      },
      "outputs": [],
      "execution_count": null
    },
    {
      "id": "9fd3c771",
      "cell_type": "markdown",
      "source": "Wprowadzając polecenie `dane[dane.Płeć == 'K']`, Pandas automatycznie tworzy maskę na podstawie warunków, które podajemy w nawiasach kwadratowych. Następnie uzywa tej maski do filtrowania danych.\n\nProblem może pojawić się w sytuacji, gdy nie można poprawnie wyznaczyć maski. Na przykład chcemy wyznaczyć tych pracowników, których wynagrodzenie jest większe niż `5000`. Filtrujemy dane w następujący sposób:\n\n```python\ndane[dane.Pensja > 5000]\n```\n\nW pierwszej kolejności Pandas tworzy maskę, która wskazuje, które wiersze spełniają podany warunek. \n\n* Jeśli w kolumnie `Pensja` znajdują się wartości `NaN`, Pandas nie będzie w stanie poprawnie wyznaczyć maski i zgłosi błąd `ValueError`. W takim przypadku należy najpierw usunąć wartości `NaN` z kolumny `Pensja`, a następnie ponownie wykonać filtrowanie.\n* Jeśli w kolumnie `Pensja` znajdują się wartości inne niż liczby (na przykład napisy), Pandas również nie będzie w stanie poprawnie wyznaczyć maski i zgłosi błąd `TypeError`. W takim przypadku należy najpierw sprawdzić, czy w kolumnie `Pensja` znajdują się wartości inne niż liczby, a następnie ponownie wykonać filtrowanie.",
      "metadata": {}
    },
    {
      "id": "1ba4d4bf",
      "cell_type": "code",
      "source": "# ten kod zgłosi błąd, działanie celowe\ndane[dane.Pensja > 5000]",
      "metadata": {
        "trusted": true
      },
      "outputs": [],
      "execution_count": null
    },
    {
      "id": "8486240f",
      "cell_type": "markdown",
      "source": "Problemy związane z przygotowaniem danych do obliczeń omówione zostaną przy okazji analizy poszczególnych zmiennych.",
      "metadata": {}
    },
    {
      "id": "ff1153dd",
      "cell_type": "markdown",
      "source": "### Typy danych. Czyszczenie danych\n\nKażda kolumna w `DataFrame` ma przypisany typ danych.\n\n* W naszym przypadku kolumna `Pensja` powinna mieć typ `float` (lub `float64`), ponieważ wynagrodzenie jest liczbą zmiennoprzecinkową. \n* Kolumna `Staż pracy` powinna mieć typ `int` (lub `int64`), ponieważ staż pracy jest liczbą całkowitą. \n* Kolumna `Płeć` powinna mieć typ `object`, ponieważ zawiera dane tekstowe (napisy) - `K` płeć żeńska, `M` - płeć męska.\n* Kolumna indeksu `Pracownik` powinna mieć typ `object`, ponieważ zawiera dane tekstowe (napisy) - identyfikatory pracowników.\n\nTypy danych można sprawdzić za pomocą polecenia `dane.dtypes`.",
      "metadata": {}
    },
    {
      "id": "c2695f16",
      "cell_type": "code",
      "source": "dane.dtypes",
      "metadata": {
        "trusted": true
      },
      "outputs": [],
      "execution_count": null
    },
    {
      "id": "ba973b66",
      "cell_type": "markdown",
      "source": ":::{important}\nJeśli kolumna zawiera dane tekstowe, Pandas domyślnie przypisuje jej typ `object`. Zatem w przypadku, gdy oczekujemy, ze kolumna powinna zawierać liczby całkowite, a Pandas przypisuje jej typ `object`, oznacza to, że kolumna zawiera dane tekstowe. W tej sytuacji należy sprawdzić, czy w kolumnie nie ma błędnych danych (np. liter zamiast liczb).\n:::",
      "metadata": {}
    },
    {
      "id": "6113c34c",
      "cell_type": "markdown",
      "source": "W zaimportowanych danych kolumny `Pensja` i `Staż pracy` mają typ `object`, a oczekiwaliśmy liczb. Oznacza to, że zawierają one dane tekstowe, że w kolumnach tych mogą znajdować się błędne dane (np. litery zamiast liczb). Należy sprawdzić, czy w kolumnach tych nie ma błędnych danych.\n\nPodstawowym poleceniem pozwalającym na całościowy przegląd danych w _DataFrame_ jest polecenie `dane.info()`. Polecenie to wyświetla informacje o liczbie wierszy, kolumnach, typach danych oraz liczbie niepustych wartości w każdej kolumnie. \n\nWartości puste są oznaczone jako `NaN` (ang. _Not a Number_) dla typów liczbowych, `Null` dla typów obiektowych i `NaT` (ang. _Not a Time_) dla typów daty i czasu. Wartości puste mogą występować w przypadku, gdy dane są niekompletne lub brakuje ich w źródle danych.",
      "metadata": {}
    },
    {
      "id": "1f85e1f6",
      "cell_type": "code",
      "source": "dane.info()",
      "metadata": {
        "trusted": true
      },
      "outputs": [],
      "execution_count": null
    },
    {
      "id": "f2ed9e51",
      "cell_type": "markdown",
      "source": "Z powyższego wydruku wynika, że:\n\n* zaindeksowane jest 1000 wierszy (od `P1` do `P1000`) i 3 kolumny (`Pensja`, `Staż pracy` i `Płeć`)\n* kolumna `Pensja` zawiera 998 niepustych wartości, czyli 2 wartości puste (`NaN`), ale ma typ `object`, co oznacza, że zawiera dane tekstowe (np. litery zamiast liczb)\n* kolumna `Staż pracy` podobnie, zawiera 998 niepustych wartości, ale ma typ `object`, co oznacza, że zawiera dane tekstowe (np. litery zamiast liczb)\n* kolumna `Płeć` zawiera 999 niepustych wartości, ma typ `object` zgodnie z oczekiwaniami.",
      "metadata": {}
    },
    {
      "id": "730488c6",
      "cell_type": "markdown",
      "source": "Naszym celem będzie \"naprawienie\" danych - uzupełnienie brakujących wartości oraz zmiana typów danych w kolumnach `Pensja` i `Staż pracy` na odpowiednie.",
      "metadata": {}
    },
    {
      "id": "e07a278f",
      "cell_type": "markdown",
      "source": "#### Kolumna `Pensja`\n\nAby sprawdzić, jakie wartości znajdują się w kolumnie `Pensja`, możemy użyć polecenia `dane['Pensja'].unique()` zwracającego unikalne wartości w tej kolumnie. W naszym przypadku polecenie to nie ma sensu, ponieważ unikalnych wartości jest zbyt wiele.",
      "metadata": {}
    },
    {
      "id": "b2405e46",
      "cell_type": "code",
      "source": "dane['Pensja'].unique()",
      "metadata": {
        "trusted": true
      },
      "outputs": [],
      "execution_count": null
    },
    {
      "id": "e610c8f1",
      "cell_type": "markdown",
      "source": "Możemy również użyć polecenia `dane['Pensja'].value_counts()`, które zwraca liczbę wystąpień każdej unikalnej wartości w kolumnie `Pensja`. ",
      "metadata": {}
    },
    {
      "id": "915fbbd2",
      "cell_type": "code",
      "source": "dane['Pensja'].value_counts()",
      "metadata": {
        "trusted": true
      },
      "outputs": [],
      "execution_count": null
    },
    {
      "id": "c905ef25",
      "cell_type": "markdown",
      "source": "W tym przypadku również nie otrzymujemy sensownej odpowiedzi - jest zbyt wiele unikalnych wartości, nie wszystkie mieszczą się na wydruku.\n\nChcemy zawęzić wydruk tylko do tych wartości w kolumnie `Pensja`, które są błędne - brak danych. W tym celu możemy użyć polecenia `maska = dane['Pensja'].isna()`, które zwraca maskę logiczną (True/False) dla każdej wartości w kolumnie `Pensja`. Każdemu wierszowi odpowiada wartość `True`, jeśli wartość w kolumnie `Pensja` jest pusta (`NaN`), a `False`, jeśli wartość jest niepusta.\n\nMaskę tę możemy wykorzystać do filtrowania danych w kolumnie `Pensja`.",
      "metadata": {}
    },
    {
      "id": "1433d4e2",
      "cell_type": "code",
      "source": "maska_brak_danych = dane['Pensja'].isna()\ndisplay(dane[maska_brak_danych == True])",
      "metadata": {
        "trusted": true
      },
      "outputs": [],
      "execution_count": null
    },
    {
      "id": "e3b42d78",
      "cell_type": "markdown",
      "source": "Zauważamy, że w dwóch przypadkach (`P82` i `P159`) w kolumnie `Pensja` znajdują się wartości `NaN`. Ponadto, dla wiersza `P159`, nie ma żadnych danych (być może pracownik został zwolniony).\n\nPodejmujemy decyzje:\n\n1. usuwamy wiersz `P159` z _DataFrame_, ponieważ nie ma żadnych danych dotyczących tego pracownika (wszystkie wartości są puste)\n2. dla pracownika `P82` uzupełniamy brakującą wartość w kolumnie `Pensja` na `-999`, ponieważ nie możemy ustalić, jakie wynagrodzenie powinien mieć ten pracownik. Umawiamy się, że wartość `-999` oznacza, że nie mamy danych dotyczących tego pracownika. W późniejszych krokach zmienimy tę wartość na bardziej realistyczną (np. średnią pensję lub medianę pensji dla grupy pracowników).\n3. zmieniamy typ danych w kolumnie `Pensja` z `object` na `float`, aby Pandas mógł poprawnie interpretować dane finansowe w tej kolumnie.\n\n```python\n# usuwamy wiersz P159\ndane = dane[dane.index != 'P159']\n# uzupełniamy brakującą wartość w kolumnie Pensja na -999\ndane.loc['P82', 'Pensja'] = -999\n# zmieniamy typ danych w kolumnie Pensja na float\ndane['Pensja'] = dane['Pensja'].astype(float)\n```",
      "metadata": {}
    },
    {
      "id": "ef46b16f",
      "cell_type": "markdown",
      "source": "**Ad. 1.** W Pandas, aby usunąć wiersz z _DataFrame_, można użyć metody `drop()`. Metoda ta przyjmuje jako argument etykietę wiersza, który chcemy usunąć. W naszym przypadku usuwamy wiersz o etykiecie `P159`. Możemy to wykonać na dwa sposoby:\n\n* używając metody `drop()` i podając etykietę wiersza, który chcemy usunąć, oraz argument `inplace = True`, aby zmiany zostały wprowadzone bezpośrednio w _DataFrame_ `dane`:\n\n    ```python\n    dane.drop('P159', inplace = True) \n    ```\n\n* lub używając metody `drop()` i przypisując wynik do zmiennej `dane` (nadpisując oryginalny _DataFrame_):\n\n    ```python\n    dane = dane.drop('P159')\n    ```\n\n::::{note}\nPolecenie `dane.drop('P159')` nie zmienia oryginalnego _DataFrame_ `dane`, ale zwraca nowy _DataFrame_ bez wiersza o etykiecie `P159`. Aby zmiany zostały wprowadzone w oryginalnym _DataFrame_, należy użyć argumentu `inplace = True` lub przypisać wynik do nowego _DataFrame_ (np. `dane = dane.drop('P159')`).\n\nTen drugi sposób jest bardziej elastyczny, ponieważ pozwala na utworzenie nowego _DataFrame_ bez zmiany oryginalnego _DataFrame_. Na przykład możemy utworzyć nowy _DataFrame_ bez wiersza o etykiecie `P159` i przypisać go do zmiennej `dane2`:\n\n```python\ndane2 = dane.drop('P159')\n```\n::::\n\nDo modyfikowania _DataFrame_ często używamy filtrowania i nadpisania oryginalnego _DataFrame_ wynikiem filtrowania. W naszym przypadku, aby usunąć wiersz o etykiecie `P159`, możemy użyć operatora `!=` do filtrowania danych i usunięcia wiersza o etykiecie `P159`. Wówczas otrzymujemy nowy _DataFrame_ bez tego wiersza:\n\n```python\ndane = dane[dane.index != 'P159']\n```\n\nSposób ten warto stosować, jeśli mamy wiele wierszy do usunięcia, które można opisać warunkami logicznymi. Na przykład, aby usunąć wiersze dla których `Pensja` jest mniejsza niż `1000` napiszemy:\n\n```python\ndane = dane[dane['Pensja'] >= 1000]\n```",
      "metadata": {}
    },
    {
      "id": "537b5f47",
      "cell_type": "code",
      "source": "# usuwamy wiersz o indeksie 'P159' z oryginalnych danych\ndane.drop('P159', inplace = True)\n\n# sprawdzamy, czy wiersz o indeksie 'P159' został usunięty\nprint(dane[dane.index == 'P159'])",
      "metadata": {
        "trusted": true
      },
      "outputs": [],
      "execution_count": null
    },
    {
      "id": "aa25ca89",
      "cell_type": "markdown",
      "source": "**Ad. 2.** Zmiana wartości w _DataFrame_ polega na przypisaniu nowej wartości do konkretnej komórki. W naszym przypadku zmieniamy wartość w kolumnie `Pensja` dla pracownika o etykiecie `P82` na `-999`. Użyjemy metody `loc[]` podając etykietę wiersza oraz nazwę kolumny, do której chcemy przypisać nową wartość:\n\n```python\ndane.loc['P82', 'Pensja'] = -999\n```",
      "metadata": {}
    },
    {
      "id": "a2f9959e",
      "cell_type": "code",
      "source": "dane.loc['P82', 'Pensja'] = -999\n\n# sprawdzamy, czy wiersz o indeksie 'P82' został zmieniony\nprint(dane[dane.index == 'P82'])",
      "metadata": {
        "trusted": true
      },
      "outputs": [],
      "execution_count": null
    },
    {
      "id": "8a748b8f",
      "cell_type": "markdown",
      "source": "**Ad. 3.** Zmiana typu danych w kolumnie `Pensja` polega na użyciu metody `astype()`, która zmienia typ danych w kolumnie na podany typ w parametrze metody. Aktualnie kolumna `Pensja` ma typ `object`, co oznacza, że zawiera dane tekstowe (np. litery zamiast liczb).\n\nW naszym przypadku napiszemy:\n\n```python\ndane['Pensja'] = dane['Pensja'].astype(float)\n```\n\nPowyższy kod zmienia typ danych w kolumnie `Pensja` na `float` a nastepnie podmienia oryginalny _DataFrame_ `dane` nowym _DataFrame_ z kolumną `Pensja` o typie `float`.\n\nOperacja konwersji typu danych polega na przeglądnięciu danych w kolumnie i próbie ich konwersji na nowy typ. Jeśli konwersja się powiedzie, kolumna zostanie zmieniona na nowy typ. W przeciwnym razie zgłoszony zostanie błąd `ValueError` lub `TypeError` z dodatkowymi informacjami, które umożliwią Ci ustalenie przyczyny błędu konwersji. Braki danych (`NaN`) są ignorowane, a ich typ pozostaje bez zmian.",
      "metadata": {}
    },
    {
      "id": "77c60ecd",
      "cell_type": "code",
      "source": "# ten kod zgłosi błąd, celowe działanie\ndane['Pensja'] = dane['Pensja'].astype(float)",
      "metadata": {
        "trusted": true
      },
      "outputs": [],
      "execution_count": null
    },
    {
      "id": "f4234057",
      "cell_type": "markdown",
      "source": "Operacja konwersji nie powiodła się - zgłoszony został błąd `ValueError`. Na końcu komunikatu o błędzie wskazana jest przyczyna: \"ValueError: could not convert string to float: '1321.OO'\".\n\nOznacza to, że w kolumnie `Pensja` znajduje się wartość `1321.OO`, która nie może zostać przekonwertowana na typ `float`. Wartość ta zawiera litery `OO` a nie cyfry `00`. Należy je usunąć, aby konwersja się powiodła.\n\nNajpierw musimy zlokalizować wiersz, w którym znajduje się ta wartość. Możemy to zrobić za pomocą polecenia `dane[dane['Pensja'] == \"1321.OO\"]`, które zwraca wiersz, w którym znajduje się ta wartość.",
      "metadata": {}
    },
    {
      "id": "e78d3431",
      "cell_type": "code",
      "source": "dane[dane['Pensja'] == \"1321.OO\"]",
      "metadata": {
        "trusted": true
      },
      "outputs": [],
      "execution_count": null
    },
    {
      "id": "8910d60f",
      "cell_type": "markdown",
      "source": "W wierszu `P996` znajduje się wartość tekstowa `\"1321.OO\"`, która nie może zostać przekonwertowana na typ `float`.",
      "metadata": {}
    },
    {
      "id": "ef5a4c77",
      "cell_type": "code",
      "source": "x = dane.loc['P996', 'Pensja']\ndisplay(x, type(x))",
      "metadata": {
        "trusted": true
      },
      "outputs": [],
      "execution_count": null
    },
    {
      "id": "aa1bcee1",
      "cell_type": "markdown",
      "source": "Podmienimy błędną wartość `\"1321.OO\"` na poprawną `1321.00` w kolumnie `Pensja` dla pracownika o etykiecie `P996`. Użyjemy metody `loc[]` podając etykietę wiersza oraz nazwę kolumny, do której chcemy przypisać nową wartość:",
      "metadata": {}
    },
    {
      "id": "2bebd600",
      "cell_type": "code",
      "source": "dane.loc['P996', 'Pensja'] = 1321.00\ndisplay(dane.loc['P996', 'Pensja'], type(dane.loc['P996', 'Pensja']))",
      "metadata": {
        "trusted": true
      },
      "outputs": [],
      "execution_count": null
    },
    {
      "id": "2292f308",
      "cell_type": "markdown",
      "source": "Po wykonaniu tej korekty możemy ponownie przystąpić do konwertowania kolumny `Pensja` na typ `float`.",
      "metadata": {}
    },
    {
      "id": "50dc07eb",
      "cell_type": "code",
      "source": "dane['Pensja'] = dane['Pensja'].astype(float)",
      "metadata": {
        "trusted": true
      },
      "outputs": [],
      "execution_count": null
    },
    {
      "id": "899c9204",
      "cell_type": "markdown",
      "source": "Polecenie wykonane bez błędów. Uzyskajmy informacje na temat tej kolumny:",
      "metadata": {}
    },
    {
      "id": "6834082b",
      "cell_type": "code",
      "source": "display(dane.Pensja.info())",
      "metadata": {
        "trusted": true
      },
      "outputs": [],
      "execution_count": null
    },
    {
      "id": "1d13a253",
      "cell_type": "markdown",
      "source": "Z wydruku wynika, że `Pensja` jest serią danych typu `float64`. Ponadto, kolumna zawiera 999 niepustych wartości (indeksowanych nazwami od `P1` do `P1000`), co oznacza, że wszystkie wartości w tej kolumnie są liczbami zmiennoprzecinkowymi. Wartości puste (`NaN`) zostały usunięte lub uzupełnione.\n\nPodstawowe statystyki dla kolumny `Pensja` można uzyskać za pomocą polecenia `dane['Pensja'].describe()`. Polecenie to zwraca podstawowe statystyki, takie jak liczba niepustych wartości, średnia, odchylenie standardowe, minimum, maksimum oraz kwartyle.",
      "metadata": {}
    },
    {
      "id": "75643ae7",
      "cell_type": "code",
      "source": "display(dane.Pensja.describe())",
      "metadata": {
        "trusted": true
      },
      "outputs": [],
      "execution_count": null
    },
    {
      "id": "c430cf65",
      "cell_type": "markdown",
      "source": "W przypadku wynagrodzenia, lepszą miarą tendencji centralnej jest mediana, ponieważ nie jest ona wrażliwa na wartości odstające (np. bardzo wysokie lub bardzo niskie wynagrodzenia). Mediana jest wartością środkową w zbiorze danych, co oznacza, że połowa wartości jest mniejsza od mediany, a połowa wartości jest większa od mediany. Mediana jest bardziej reprezentatywna dla zbioru danych niż średnia, która może być zniekształcona przez wartości odstające.",
      "metadata": {}
    },
    {
      "id": "ce57d3dc",
      "cell_type": "code",
      "source": "dane.Pensja.median()",
      "metadata": {
        "trusted": true
      },
      "outputs": [],
      "execution_count": null
    },
    {
      "id": "f38da7b4",
      "cell_type": "markdown",
      "source": "Około połowa pracowników zarabia mniej niż 1191 zł.",
      "metadata": {}
    },
    {
      "id": "1d7b1982",
      "cell_type": "markdown",
      "source": "#### Kolumna `Staż pracy`\n\nProcedury są podobne jak w przypadku kolumny `Pensja`. Najpierw sprawdzamy, jakie wartości znajdują się w kolumnie `Staż pracy`, a następnie usuwamy błędne dane i zmieniamy typ danych na `int`.\n",
      "metadata": {}
    },
    {
      "id": "311692bf",
      "cell_type": "code",
      "source": "# wyświetlamy kilka początkowych wierszy (głowa) kolumny 'Staż pracy'\ndane['Staż pracy'].head()",
      "metadata": {
        "trusted": true
      },
      "outputs": [],
      "execution_count": null
    },
    {
      "id": "5247296f",
      "cell_type": "code",
      "source": "# Ogólne informacje o kolumnie 'Staż pracy'\ndane['Staż pracy'].info()",
      "metadata": {
        "trusted": true
      },
      "outputs": [],
      "execution_count": null
    },
    {
      "id": "8f915820",
      "cell_type": "markdown",
      "source": ":::{admonition} Objaśnienia\n:class: dropdown\n1. 999 przypadków\n2. 998 przypadków niepustych, w jednym przypadku brak danych\n3. typ `object`, zatem kolumna zawiera dane liczbowe i tekstowe (np. litery zamiast liczb)\n:::",
      "metadata": {}
    },
    {
      "id": "1a3ef967",
      "cell_type": "markdown",
      "source": "W pierwszym kroku wyszukamy błędne dane w kolumnie `Staż pracy`. Skorzystamy z polecenia `dane['Staż pracy'].unique()` oraz `dane['Staż pracy'].value_counts()`.",
      "metadata": {}
    },
    {
      "id": "d3e29a93",
      "cell_type": "code",
      "source": "display(dane['Staż pracy'].unique())\ndisplay(dane['Staż pracy'].value_counts())",
      "metadata": {
        "trusted": true
      },
      "outputs": [],
      "execution_count": null
    },
    {
      "id": "8abf5b1b",
      "cell_type": "markdown",
      "source": "Błędy zostały wyjaśnione: mamy braki danych (`nan`) oraz błędne dane (`\"rok\"` zamiast `1` oraz `\"8 lat\"` zamiast `8`).\n\nWyszukamy komórki z błędnymi wpisami i skorygujemy dane:",
      "metadata": {}
    },
    {
      "id": "807a6cc2",
      "cell_type": "code",
      "source": "dane[dane['Staż pracy'] == \"rok\"]",
      "metadata": {
        "trusted": true
      },
      "outputs": [],
      "execution_count": null
    },
    {
      "id": "7a9d7b1f",
      "cell_type": "code",
      "source": "# Zmieniamy wartość w `P994` z \"rok\" na 1\ndane.loc['P994', 'Staż pracy'] = 1\ndisplay(dane[dane.index == 'P994'])",
      "metadata": {
        "trusted": true
      },
      "outputs": [],
      "execution_count": null
    },
    {
      "id": "aa7ad822",
      "cell_type": "code",
      "source": "dane[dane['Staż pracy'] == \"8 lat\"]",
      "metadata": {
        "trusted": true
      },
      "outputs": [],
      "execution_count": null
    },
    {
      "id": "637db75b",
      "cell_type": "code",
      "source": "dane.loc['P995', 'Staż pracy'] = 8\ndisplay(dane[dane.index == 'P995'])",
      "metadata": {
        "trusted": true
      },
      "outputs": [],
      "execution_count": null
    },
    {
      "id": "a3472fc7",
      "cell_type": "markdown",
      "source": "Lokalizujemy przypadki z brakiem danych w kolumnie `Staż pracy`:",
      "metadata": {}
    },
    {
      "id": "b14485fc",
      "cell_type": "code",
      "source": "dane[dane['Staż pracy'].isna()]",
      "metadata": {
        "trusted": true
      },
      "outputs": [],
      "execution_count": null
    },
    {
      "id": "4ca0ac9b",
      "cell_type": "markdown",
      "source": "Jest tylko jeden przypadek z brakiem danych w kolumnie `Staż pracy` - pracownik o etykiecie `P96`, kobieta, z wynagrodzeniem `992.00`.\n\nMusimy podjąć decyzję, czym uzupełnimy brakującą wartość.\n\n* Można przyjąć, że w przypadku braku danych w kolumnie `Staż pracy` pracownik nie ma stażu pracy. W takim przypadku można uzupełnić brakującą wartość na `0`. \n* Można również przyjąć, że pracownik ma staż pracy równy średniej lub medianie stażu pracy dla grupy pracowników o podobnym wynagrodzeniu.\n\nWykonamy ten drugi, trudniejszy krok. W _DataFrame_ odfiltrujemy pracowników, którzy mają wynagrodzenie na poziomie 980 - 1010 zł.",
      "metadata": {}
    },
    {
      "id": "c0f667c9",
      "cell_type": "code",
      "source": "pensja_maska = (dane['Pensja'] >= 980) & (dane['Pensja'] <= 1010)\ndane[pensja_maska]",
      "metadata": {
        "trusted": true
      },
      "outputs": [],
      "execution_count": null
    },
    {
      "id": "44d98088",
      "cell_type": "markdown",
      "source": "Jest 39 wierszy spełniających warunek filtrowania. Uzyskajmy bardziej szczegółowe informacje dla tego podzbioru danych.",
      "metadata": {}
    },
    {
      "id": "f095b6bf",
      "cell_type": "code",
      "source": "dane[pensja_maska]['Staż pracy'].value_counts()",
      "metadata": {
        "trusted": true
      },
      "outputs": [],
      "execution_count": null
    },
    {
      "id": "1af9d68e",
      "cell_type": "markdown",
      "source": "",
      "metadata": {}
    },
    {
      "id": "a8b702d0",
      "cell_type": "markdown",
      "source": "W przedziale zarobków (980, 1010) mamy 39 przypadków: jeden brak danych zaś w pozostałych przypadkach staż pracy wynosi `0`. Możemy zatem przyjąć, bez utraty ogólności, że pracownik o etykiecie `P96` ma staż pracy równy `0`. Uzupełnimy brakującą wartość w kolumnie `Staż pracy` na `0` dla pracownika o etykiecie `P96`. Użyjemy metody `loc[]` podając etykietę wiersza oraz nazwę kolumny, do której chcemy przypisać nową wartość:",
      "metadata": {}
    },
    {
      "id": "519e71d1",
      "cell_type": "code",
      "source": "dane.loc['P96', 'Staż pracy'] = 0",
      "metadata": {
        "trusted": true
      },
      "outputs": [],
      "execution_count": null
    },
    {
      "id": "75162737",
      "cell_type": "markdown",
      "source": "Teraz możemy przystąpić do konwersji kolumny `Staż pracy` na typ `int`.",
      "metadata": {}
    },
    {
      "id": "9fe8af81",
      "cell_type": "code",
      "source": "dane['Staż pracy'] = dane['Staż pracy'].astype(int)",
      "metadata": {
        "trusted": true
      },
      "outputs": [],
      "execution_count": null
    },
    {
      "id": "cfae013c",
      "cell_type": "markdown",
      "source": "Pozostaje ogólna weryfikacja kolumny `Staż pracy`:",
      "metadata": {}
    },
    {
      "id": "4c323eb0",
      "cell_type": "code",
      "source": "display(dane['Staż pracy'].info())\ndisplay(dane['Staż pracy'].describe())",
      "metadata": {
        "trusted": true
      },
      "outputs": [],
      "execution_count": null
    },
    {
      "id": "d3f8accb",
      "cell_type": "markdown",
      "source": "#### Kolumna `Płeć`\n\nKolumna `Płeć` zawiera dane tekstowe (napisy) - `K` płeć żeńska, `M` - płeć męska. Kolumna ta ma typ `object`, co oznacza, że zawiera dane tekstowe. ",
      "metadata": {}
    },
    {
      "id": "f36a910b",
      "cell_type": "code",
      "source": "display(dane['Płeć'].info())\ndisplay(dane['Płeć'].describe())",
      "metadata": {
        "trusted": true
      },
      "outputs": [],
      "execution_count": null
    },
    {
      "id": "03f373bf",
      "cell_type": "markdown",
      "source": "W kolumnie 'Płeć' nie ma już braków danych. Natomiast są 3 wartości unikalne, a powinny być tylko dwie: `K` lub `M`.\n \nZweryfikujmy, jakie wartości znajdują się w kolumnie `Płeć`. Możemy to zrobić za pomocą polecenia `dane['Płeć'].unique()` oraz `dane['Płeć'].value_counts()`.",
      "metadata": {}
    },
    {
      "id": "5b9c2ae1",
      "cell_type": "code",
      "source": "display(dane['Płeć'].unique())\ndisplay(dane['Płeć'].value_counts())",
      "metadata": {
        "trusted": true
      },
      "outputs": [],
      "execution_count": null
    },
    {
      "id": "2735df88",
      "cell_type": "markdown",
      "source": "W jednym przypadku zamiast dużej litery 'K' mamy małą literę 'k'. Możemy to poprawić, zmieniając małą literę 'k' na dużą literę 'K' w kolumnie `Płeć` podobnie jak poprzednio - lokalizując wiersz i wprowadzając do niego wartość poprawną.\n\nMożemy również zmienić wszystkie małe litery 'k' na duże litery 'K' w kolumnie `Płeć` za pomocą metody `replace()` - bez poszukiwania wadliwego wiersza.",
      "metadata": {}
    },
    {
      "id": "40b71e81",
      "cell_type": "code",
      "source": "dane['Płeć'] = dane['Płeć'].replace('k', 'K')\ndisplay(dane['Płeć'].unique())",
      "metadata": {
        "trusted": true
      },
      "outputs": [],
      "execution_count": null
    },
    {
      "id": "1aa8e1b9",
      "cell_type": "markdown",
      "source": "Kolumna `Płeć` jest zmienną skategoryzowaną, ponieważ zawiera tylko dwie kategorie: `K` i `M`. Możemy zmienić typ danych w kolumnie `Płeć` na typ `category`, co pozwoli na bardziej efektywne przechowywanie danych oraz szybsze operacje na tej kolumnie. W tym celu użyjemy metody `astype()` i podamy typ `category` jako argument.",
      "metadata": {}
    },
    {
      "id": "2acc3d5b",
      "cell_type": "code",
      "source": "dane['Płeć'] = dane['Płeć'].astype('category')",
      "metadata": {
        "trusted": true
      },
      "outputs": [],
      "execution_count": null
    },
    {
      "id": "0555cf23",
      "cell_type": "markdown",
      "source": "Pozostaje wykonać podsumowanie danych w kolumnie `Płeć`.",
      "metadata": {}
    },
    {
      "id": "8144e573",
      "cell_type": "code",
      "source": "display(dane['Płeć'].info())\ndisplay(dane['Płeć'].describe())",
      "metadata": {
        "trusted": true
      },
      "outputs": [],
      "execution_count": null
    },
    {
      "id": "dc680968",
      "cell_type": "markdown",
      "source": "#### Podsumowanie przygotowania danych",
      "metadata": {}
    },
    {
      "id": "b62c71ec",
      "cell_type": "code",
      "source": "dane.info()",
      "metadata": {
        "trusted": true
      },
      "outputs": [],
      "execution_count": null
    },
    {
      "id": "2c73ec27",
      "cell_type": "code",
      "source": "dane.describe()",
      "metadata": {
        "trusted": true
      },
      "outputs": [],
      "execution_count": null
    },
    {
      "id": "50f07a83",
      "cell_type": "markdown",
      "source": "W Pandas metoda `describe()` domyślnie zwraca podstawowe statystyki dla kolumn numerycznych w _DataFrame_. \n\nKolumna `Płeć` nie jest kolumną numeryczną, dlatego nie zostanie uwzględniona w podsumowaniu. Możemy jednak użyć argumentu `include = 'all'`, aby uwzględnić wszystkie kolumny, w tym kolumny tekstowe i skategoryzowane.",
      "metadata": {}
    },
    {
      "id": "0e2f7374",
      "cell_type": "code",
      "source": "dane.describe(include='all')",
      "metadata": {
        "trusted": true
      },
      "outputs": [],
      "execution_count": null
    },
    {
      "id": "12f93448",
      "cell_type": "markdown",
      "source": "Wracamy do przypadku, w którym pracownikowi przypisaliśmy pensję `-999`. ",
      "metadata": {}
    },
    {
      "id": "1846e9e4",
      "cell_type": "code",
      "source": "print(dane[dane['Pensja'] == -999])",
      "metadata": {
        "trusted": true
      },
      "outputs": [],
      "execution_count": null
    },
    {
      "id": "bb74d6d1",
      "cell_type": "markdown",
      "source": "Aby urealnić wynagrodzenie pracownika `P82` odfiltrujmy dane - wybierzmy kobiety o stażu pracy 7 lat:",
      "metadata": {}
    },
    {
      "id": "c12f5242",
      "cell_type": "code",
      "source": "dane[(dane['Płeć'] == 'K') & (dane['Staż pracy'] == 7)]",
      "metadata": {
        "trusted": true
      },
      "outputs": [],
      "execution_count": null
    },
    {
      "id": "d5c1baa6",
      "cell_type": "markdown",
      "source": "Odrzućmy wiersz `P82`. Zapamiętajmy wynik w roboczej zmiennej `temp`.",
      "metadata": {}
    },
    {
      "id": "1bc3761c",
      "cell_type": "code",
      "source": "temp = dane[(dane['Płeć'] == 'K') & (dane['Staż pracy'] == 7) & (dane.index != 'P82')]\ndisplay(temp)",
      "metadata": {
        "trusted": true
      },
      "outputs": [],
      "execution_count": null
    },
    {
      "id": "d2e8cba5",
      "cell_type": "markdown",
      "source": "Wyznaczmy podstawowe miary statystyczne dla tego podzbioru, dla cechy `Pensja`:",
      "metadata": {}
    },
    {
      "id": "cf0f4fc5",
      "cell_type": "code",
      "source": "temp.Pensja.describe()",
      "metadata": {
        "trusted": true
      },
      "outputs": [],
      "execution_count": null
    },
    {
      "id": "78cbaae0",
      "cell_type": "code",
      "source": "temp.Pensja.median()",
      "metadata": {
        "trusted": true
      },
      "outputs": [],
      "execution_count": null
    },
    {
      "id": "18382a4d",
      "cell_type": "markdown",
      "source": "Wyniki:\n\n* minimalne wynagrodzenie: `672`\n* maksymalne wynagrodzenie: `1357`\n* średnie wynagrodzenie: `1310.54`\n* mediana: `1339.50`\n\nMożemy przyjąć, bez utraty ogólności, że pracownik `P82` powinien mieć wynagrodzenie równe medianie wynagrodzenia dla grupy pracowników o stażu pracy 7 lat. Wówczas zmieniamy wartość w kolumnie `Pensja` dla pracownika o etykiecie `P82` na `1339.50`. Użyjemy metody `loc[]` podając etykietę wiersza oraz nazwę kolumny, do której chcemy przypisać nową wartość:",
      "metadata": {}
    },
    {
      "id": "d97218c8",
      "cell_type": "code",
      "source": "dane.loc['P82', 'Pensja'] = 1339.50\ndisplay(dane[dane.index == 'P82'])",
      "metadata": {
        "trusted": true
      },
      "outputs": [],
      "execution_count": null
    },
    {
      "id": "b1402f62",
      "cell_type": "markdown",
      "source": "Na wszelki wypadek dane po korektach możemy zapisać do pliku w formacie `CSV`. Wykorzystamy do tego metodę `to_csv()`.",
      "metadata": {}
    },
    {
      "id": "767cd7e8",
      "cell_type": "code",
      "source": "dane.to_csv('wynagrodzenia-po-korekcie.csv', sep = ';', index = True, encoding = 'utf-8')",
      "metadata": {
        "trusted": true
      },
      "outputs": [],
      "execution_count": null
    },
    {
      "id": "12805fb3",
      "cell_type": "markdown",
      "source": "Podglądnijmy plik `wynagrodzenia-po-korekcie.csv` w katalogu roboczym (na przykład za pomocą Excela lub innego edytora). \n\nZ poziomu kodu Pythona odczytajmy tylko kilka pierwszych linii pliku za pomocą kodu:",
      "metadata": {}
    },
    {
      "id": "29eac3d3",
      "cell_type": "code",
      "source": "import os\n\n# Sprawdzamy, czy plik został zapisany\nprint(os.path.isfile('wynagrodzenia-po-korekcie.csv'))\n# Wyświetlamy 5 pierwszych linii pliku\nwith open('wynagrodzenia-po-korekcie.csv', 'r', encoding='utf-8') as f:\n    for i in range(5):\n        print(f.readline())",
      "metadata": {
        "trusted": true
      },
      "outputs": [],
      "execution_count": null
    },
    {
      "id": "3c868e1a",
      "cell_type": "markdown",
      "source": "Możemy również załadować cały plik do _DataFrame_ `dane1` i sprawdzić, czy wszystko się zgadza (nie jest to zalecane, ponieważ plik może być bardzo duży i zajmować dużo pamięci):",
      "metadata": {}
    },
    {
      "id": "cbb400ca",
      "cell_type": "code",
      "source": "dane1 = pd.read_csv('wynagrodzenia-po-korekcie.csv', sep = ';', index_col = 0)\ndane1",
      "metadata": {
        "trusted": true
      },
      "outputs": [],
      "execution_count": null
    },
    {
      "id": "e10e0b14",
      "cell_type": "markdown",
      "source": "## Statyski opisowe i wizualizacja danych",
      "metadata": {}
    },
    {
      "id": "b7c44bb0",
      "cell_type": "markdown",
      "source": "Dane składają się z 3 cech (zmiennych) statystycznych:\n\n* `Pensja` - zmienna ilościowa, ciągła\n* `Staż pracy` - zmienna ilościowa, skokowa\n* `Płeć` - zmienna kategoryczna\n\nW każdym przypadku inaczej będziemy analizować dane. W przypadku zmiennych ilościowych, możemy użyć podstawowych miar statystycznych, takich jak średnia, mediana, odchylenie standardowe, minimum i maksimum. W przypadku zmiennych kategorycznych, możemy użyć liczby wystąpień w każdej kategorii.\nWizualizacja danych polega na przedstawieniu danych w formie wykresów, tabel lub innych form graficznych. \n\nWizualizacja danych pozwala na lepsze zrozumienie danych oraz ich interpretację. W Pandas możemy używać różnych bibliotek do wizualizacji danych, takich jak `matplotlib`, `seaborn` czy `plotly`.\n\n* Biblioteka *seaborn* jest zbudowana na bazie biblioteki *matplotlib* i pozwala na łatwe tworzenie wykresów oraz ich dostosowywanie. Biblioteka ta jest bardziej rozbudowana i oferuje więcej możliwości niż matplotlib. Generuje ładniejsze wykresy. Z tej biblioteki skorzystamy.\n\n* Biblioteka *plotly* pozwala na tworzenie interaktywnych wykresów, które można łatwo udostępniać w Internecie. Biblioteka ta jest bardziej rozbudowana i oferuje więcej możliwości niż matplotlib i seaborn. Nie będziemy korzystac z tej biblioteki.",
      "metadata": {}
    },
    {
      "id": "0343a5bb",
      "cell_type": "code",
      "source": "# import matplotlib\nimport matplotlib.pyplot as plt",
      "metadata": {
        "trusted": true
      },
      "outputs": [],
      "execution_count": null
    },
    {
      "id": "8eca70f5",
      "cell_type": "code",
      "source": "# instalacja seaborn w środowisku JupyterLite\nimport piplite\nawait piplite.install('seaborn')\nimport seaborn as sns",
      "metadata": {
        "trusted": true
      },
      "outputs": [],
      "execution_count": null
    },
    {
      "id": "0ab37126",
      "cell_type": "code",
      "source": "# instalacja seaborn w innych środowiskach Jupyter\n# !pip install seaborn\n# import seaborn as sns",
      "metadata": {
        "trusted": true
      },
      "outputs": [],
      "execution_count": null
    },
    {
      "id": "d53d4986",
      "cell_type": "markdown",
      "source": "### Zmienna `Pensja`",
      "metadata": {}
    },
    {
      "id": "d2269ba6",
      "cell_type": "markdown",
      "source": "Podstawowe miary statystyczne dla zmiennej `Pensja` można uzyskać za pomocą polecenia `dane['Pensja'].describe()`. Medianę można uzyskać za pomocą polecenia `dane['Pensja'].median()`. Możemy również użyć metody `quantile()`, aby uzyskać kwartyle dla zmiennej `Pensja` (`dane['Pensja'].quantile([0.25, 0.5, 0.75])`). Kwartyle to wartości, które dzielą zbiór danych na cztery równe części. Pierwszy kwartyl (Q1) to wartość, poniżej której znajduje się 25% danych, drugi kwartyl (Q2) to mediana (50% danych), a trzeci kwartyl (Q3) to wartość, poniżej której znajduje się 75% danych.",
      "metadata": {}
    },
    {
      "id": "071e54a2",
      "cell_type": "code",
      "source": "display(dane.Pensja.describe())\ndisplay(dane.Pensja.median())",
      "metadata": {
        "trusted": true
      },
      "outputs": [],
      "execution_count": null
    },
    {
      "id": "ef2035fd",
      "cell_type": "markdown",
      "source": "Standardowym sposobem wizualizacji miar statystycznych jest wykres pudełkowy (ang. _box plot_). \n\nWykres pudełkowy przedstawia rozkład danych oraz wartości odstające. Składa się z prostokąta (pudełka), który przedstawia rozkład danych, oraz linii (wąsów), które przedstawiają wartości odstające. Wartości odstające to wartości, które są znacznie większe lub mniejsze od pozostałych wartości w zbiorze danych. Wartości odstające są oznaczone jako kropki na wykresie pudełkowym.\n\nSzczegółowo:\n\n- **Pudełko (skrzynka):**\n  - *Dolna krawędź* – pierwszy kwartyl (Q1), czyli wartość, poniżej której znajduje się 25% danych.\n  - *Górna krawędź* – trzeci kwartyl (Q3), czyli wartość, poniżej której znajduje się 75% danych.\n  - *Szerokość pudełka* – rozstęp międzykwartylowy (IQR = Q3 – Q1), czyli zakres, w którym znajduje się połowa danych.\n  - *Linia wewnątrz pudełka* – mediana (Q2), czyli wartość środkowa, dzieląca dane na dwie równe części.\n\n- **Wąsy (odcinki):**\n  - *Dolny wąs* – prowadzi od dolnej krawędzi pudełka do wartości minimalnej w zbiorze (lub do dolnej granicy przedziału, jeśli występują wartości odstające).\n  - *Górny wąs* – prowadzi od górnej krawędzi pudełka do wartości maksymalnej (lub do górnej granicy przedziału).\n  - W praktyce często przyjmuje się, że wąsy kończą się na wartościach Q1 – 1,5 × IQR (dolny) oraz Q3 + 1,5 × IQR (górny). Wszystko poza tym zakresem traktuje się jako wartości odstające.\n\n- **Wartości odstające (outliers):**\n  - Punkty (np. kropki) poza wąsami – to obserwacje znacząco odbiegające od reszty danych, które mogą wpływać na interpretację rozkładu.\n\n- Interpretacja wykresu pudełkowego\n    - **Położenie** – gdzie leży większość obserwacji (np. czy są skupione nisko czy wysoko).\n    - **Rozproszenie** – jak szeroko rozłożone są dane (długość pudełka i wąsów).\n    - **Kształt rozkładu** – czy rozkład jest symetryczny (mediana na środku pudełka, wąsy równej długości), czy skośny (mediana bliżej jednego kwartyla, wąsy różnej długości).\n    - **Wartości odstające** – czy występują obserwacje znacznie odbiegające od reszty.\n\nReferencje: https://bigglo.pl/blog/kompendium-wykresow/",
      "metadata": {}
    },
    {
      "id": "06c43702",
      "cell_type": "code",
      "source": "# tworzenie wykresu pudełkowego przy uzyciu matplotlib oraz seaborn\nplt.figure() # tworzenie nowej figury\ndane.boxplot(column = 'Pensja') # boxplot z sns\nplt.ylabel('Pensja')\nplt.title('Wykres pudełkowy dla zmiennej Pensja')\nplt.show()",
      "metadata": {
        "trusted": true
      },
      "outputs": [],
      "execution_count": null
    },
    {
      "id": "aa758857",
      "cell_type": "markdown",
      "source": "Rozkład zmiennej `Pensja` jest symetryczny, ponieważ mediana znajduje się w środku pudełka, a wąsy są równej długości. Wartości odstające są oznaczone jako kropki na wykresie pudełkowym. Wartości te są znacznie większe od pozostałych wartości w zbiorze danych. Wartości odstające mogą wpływać na interpretację rozkładu, dlatego warto je zbadać.",
      "metadata": {}
    },
    {
      "id": "90123f77",
      "cell_type": "code",
      "source": "# Ćwiczenie: wypisanie danych dla dolnych wartości odstających\n# podpowiedzi: użyj funkcji `quantile` oraz `IQR = Q3 - Q1`\n# wzory podane w notatkach: IQR, Q1 - 1.5*IQR\n# Q1 = dane['Pensja'].quantile(0.25)\n",
      "metadata": {
        "trusted": true
      },
      "outputs": [],
      "execution_count": null
    },
    {
      "id": "9fecef38",
      "cell_type": "code",
      "source": "# Ćwiczenie: wypisanie danych dla górnych wartości odstających\n# podpowiedzi: użyj funkcji `quantile` oraz `IQR = Q3 - Q1`\n# wzory podane w notatkach: IQR, Q3 + 1.5*IQR\n# Q1 = dane['Pensja'].quantile(0.75)",
      "metadata": {
        "trusted": true
      },
      "outputs": [],
      "execution_count": null
    },
    {
      "id": "ed752b31",
      "cell_type": "markdown",
      "source": "Lepszą wizualizacją rozkładu zmiennej `Pensja` jest histogram. Histogram przedstawia rozkład danych w postaci słupków, gdzie wysokość słupka odpowiada liczbie wystąpień danej wartości w zbiorze danych.\n\nPrzy budowie histogramu należy określić liczbę przedziałów (ang. _bins_), na które zostanie podzielony zakres wartości zmiennej `Pensja`. Liczba przedziałów powinna być dostosowana do rozkładu danych. Zbyt mała liczba przedziałów może prowadzić do utraty informacji, a zbyt duża liczba przedziałów może prowadzić do nadmiernego szczegółowego przedstawienia danych. Najczęściej oblicza się liczbę przedziałów jako pierwiastek kwadratowy z liczby obserwacji w zbiorze danych. W naszym przypadku mamy 999 obserwacji, więc liczba przedziałów powinna wynosić około 31 (pierwiastek kwadratowy z 999). Możemy również użyć reguły Sturgesa, która sugeruje, że liczba przedziałów powinna wynosić `1 + log2(n)`, gdzie `n` to liczba obserwacji. W naszym przypadku liczba ta będzie wynosić około 10.\n\nW `sns.histplot()` możemy określić liczbę przedziałów za pomocą argumentu `bins`. Parametr `kde` odpowiada za dodanie krzywej gęstości rozkładu (ang. _kernel density estimate_) do histogramu.",
      "metadata": {}
    },
    {
      "id": "ca772474",
      "cell_type": "code",
      "source": "# histogram z wykorzystaniem matplotlib i sns\nplt.figure() # tworzenie nowej figury\nsns.histplot(dane['Pensja'], bins=30, kde=True) # histogram z sns\nplt.ylabel('Liczba pracowników')\nplt.title('Histogram dla zmiennej Pensja')\nplt.show()",
      "metadata": {
        "trusted": true
      },
      "outputs": [],
      "execution_count": null
    },
    {
      "id": "468244dc",
      "cell_type": "code",
      "source": "# histogram z wykorzystaniem matplotlib\nplt.figure()\nplt.hist(dane['Pensja'], bins=10) # histogram z matplotlib\nplt.ylabel('Liczba pracowników')\nplt.title('Histogram dla zmiennej Pensja')\nplt.show()",
      "metadata": {
        "trusted": true
      },
      "outputs": [],
      "execution_count": null
    },
    {
      "id": "53e8a2ea",
      "cell_type": "markdown",
      "source": "Numeryczne opracowanie histogramu (czyli tabela częstości) w Pandas mozna wykonać za pomocą funkcji `cut()` oraz `value_counts()`. Funkcja `cut()` dzieli dane na przedziały (ang. _bins_), a metoda `value_counts()` zlicza liczbę wystąpień w każdym przedziale. \n\nKonieczne jest również posortowanie wyników w kolejności rosnącej za pomocą metody `sort_index()`. Użycie `reset_index()` zamieni wynik na _DataFrame_.",
      "metadata": {}
    },
    {
      "id": "79410e93",
      "cell_type": "code",
      "source": "bins = pd.cut(dane['Pensja'], bins=10)\nhistogram = bins.value_counts().sort_index()\nprint(histogram)",
      "metadata": {
        "trusted": true
      },
      "outputs": [],
      "execution_count": null
    },
    {
      "id": "ae705c8e",
      "cell_type": "markdown",
      "source": "Można dostarczyć własne przedziały do funkcji `cut()`, aby dostosować histogram do rozkładu danych. Punkty graniczne opisane są w formie listy. Możemy również użyć argumentu `include_lowest = True`, aby uwzględnić dolną granicę przedziału w histogramie.",
      "metadata": {}
    },
    {
      "id": "8677d872",
      "cell_type": "code",
      "source": "bins1 = [0, 500, 700, 900, 1100, 1300, 1500, 1700, 1900, 2100]\nhistogram1 = pd.cut(dane['Pensja'], bins1, include_lowest = True).value_counts().sort_index().reset_index()\nhistogram1.columns = ['Przedziały', 'Liczba pracowników']\ndisplay(histogram1)",
      "metadata": {
        "trusted": true
      },
      "outputs": [],
      "execution_count": null
    },
    {
      "id": "46bd2f07",
      "cell_type": "markdown",
      "source": "### Zmienna `Staż pracy`\n\nPodstawowe miary statystyczne dla zmiennej `Staż pracy` można uzyskać za pomocą polecenia `dane['Staż pracy'].describe()`. Medianę można uzyskać za pomocą polecenia `dane['Staż pracy'].median()`. \n\nW przypadku zmiennej skokowej można również określić rozkład przypadków (`dane['Staż pracy'].value_counts()`).",
      "metadata": {}
    },
    {
      "id": "ac642ae6",
      "cell_type": "code",
      "source": "print(dane['Staż pracy'].describe())\nprint(\"mediana =\", dane['Staż pracy'].median())\nprint(dane['Staż pracy'].value_counts())\n",
      "metadata": {
        "trusted": true
      },
      "outputs": [],
      "execution_count": null
    },
    {
      "id": "cdd065a4",
      "cell_type": "markdown",
      "source": "Narysujmy *box-plot* dla zmiennej `Staż pracy`:\n",
      "metadata": {}
    },
    {
      "id": "dc408738",
      "cell_type": "code",
      "source": "# box-plot dla zmiennej 'Staż pracy'\nplt.figure() # tworzenie nowej figury\nsns.boxplot(x = 'Staż pracy', data = dane) # boxplot z sns\nplt.ylabel('Liczba pracowników')\nplt.title('Wykres pudełkowy dla zmiennej Staż pracy')\nplt.show()",
      "metadata": {
        "trusted": true
      },
      "outputs": [],
      "execution_count": null
    },
    {
      "id": "d67d4575",
      "cell_type": "markdown",
      "source": "Interpretacja: rozkład jest niesymetryczny, przesuniety w lewo.",
      "metadata": {}
    },
    {
      "id": "2d35af1d",
      "cell_type": "markdown",
      "source": "Utwórzmy histogram dla zmiennej `Staż pracy`, dla różnych wartości `bins`:",
      "metadata": {}
    },
    {
      "id": "b4955795",
      "cell_type": "code",
      "source": "# histogram dla zmiennej 'Staż pracy'\nplt.figure() # tworzenie nowej figury\nsns.histplot(dane['Staż pracy'], bins=10) # histogram z sns\nplt.ylabel('Liczba pracowników')\nplt.title('Histogram dla zmiennej Staż pracy')\nplt.show()",
      "metadata": {
        "trusted": true
      },
      "outputs": [],
      "execution_count": null
    },
    {
      "id": "217e7bbd",
      "cell_type": "code",
      "source": "# histogram dla zmiennej 'Staż pracy'\nplt.figure() # tworzenie nowej figury\nsns.histplot(dane['Staż pracy'], bins=20)\nplt.ylabel('Liczba pracowników')\nplt.title('Histogram dla zmiennej Staż pracy')\nplt.show()",
      "metadata": {
        "trusted": true
      },
      "outputs": [],
      "execution_count": null
    },
    {
      "id": "00dffd05",
      "cell_type": "code",
      "source": "# histogram dla zmiennej 'Staż pracy'\nplt.figure() # tworzenie nowej figury\nlata_pracy = [0, 5, 10, 15, 20, 25]\nsns.histplot(dane['Staż pracy'], bins=lata_pracy)\nplt.ylabel('Liczba pracowników')\nplt.title('Histogram dla zmiennej Staż pracy')\nplt.show()",
      "metadata": {
        "trusted": true
      },
      "outputs": [],
      "execution_count": null
    },
    {
      "id": "e062ed44",
      "cell_type": "markdown",
      "source": "### Zmienna `Płeć`\n\nPodstawowe miary statystyczne dla zmiennej `Płeć` można uzyskać za pomocą polecenia `dane['Płeć'].describe()`. Możemy również użyć metody `value_counts()`, aby uzyskać liczbę wystąpień każdej kategorii w kolumnie `Płeć`.",
      "metadata": {}
    },
    {
      "id": "5fbb1090",
      "cell_type": "code",
      "source": "display(dane['Płeć'].describe())\ndisplay(dane['Płeć'].value_counts())",
      "metadata": {
        "trusted": true
      },
      "outputs": [],
      "execution_count": null
    },
    {
      "id": "1dfe2e52",
      "cell_type": "markdown",
      "source": "Dane możemy przedstawić w formie tabeli (nowego _DataFrame_), uwzględniając procentowy udział.",
      "metadata": {}
    },
    {
      "id": "04609260",
      "cell_type": "code",
      "source": "statystyki_plec = dane['Płeć'].value_counts().reset_index()\nstatystyki_plec.columns = ['Płeć', 'Liczba']\nstatystyki_plec['Procent (%)'] = (statystyki_plec['Liczba'] / len(dane) * 100).round(2)\ndisplay(statystyki_plec)",
      "metadata": {
        "trusted": true
      },
      "outputs": [],
      "execution_count": null
    },
    {
      "id": "f0e96914",
      "cell_type": "markdown",
      "source": "Sensownym wykresem dla tego typu informacji jest wykres kołowy (ang. _pie chart_) lub wykres słupkowy (ang. _bar chart_). ",
      "metadata": {}
    },
    {
      "id": "202ddb36",
      "cell_type": "code",
      "source": "# wykres słupkowy z pandas\nplt.figure() # tworzenie nowej figury\ndane['Płeć'].value_counts().plot(kind='bar')\nplt.title('Liczebność płci')\nplt.ylabel('Liczba')\nplt.show()",
      "metadata": {
        "trusted": true
      },
      "outputs": [],
      "execution_count": null
    },
    {
      "id": "e8958a42",
      "cell_type": "code",
      "source": "# wykres słupkowy z Seaborn\n\nplt.figure() # tworzenie nowej figury\nsns.countplot(x='Płeć', data=dane) # wykres słupkowy z sns\nplt.title('Liczebność płci')\nplt.ylabel('Liczba')\nplt.show()",
      "metadata": {
        "trusted": true
      },
      "outputs": [],
      "execution_count": null
    },
    {
      "id": "559d5f47",
      "cell_type": "code",
      "source": "# wykres kołowy\n\nplt.figure() # tworzenie nowej figury\ndane['Płeć'].value_counts().plot(kind='pie', autopct='%1.1f%%') # wykres kołowy z pandas\nplt.title('Liczebność płci')\nplt.ylabel('') # usunięcie etykiety osi y\nplt.show()",
      "metadata": {
        "trusted": true
      },
      "outputs": [],
      "execution_count": null
    },
    {
      "id": "1de05a2f",
      "cell_type": "markdown",
      "source": "Najbardziej czytelny dla zmiennej kategorycznej jest wykres słupkowy (bar/countplot). Wykres kołowy (pie) dobrze pokazuje udział procentowy.",
      "metadata": {}
    },
    {
      "id": "7b774f9d",
      "cell_type": "markdown",
      "source": "## Związki między danymi",
      "metadata": {}
    },
    {
      "id": "a3237859",
      "cell_type": "markdown",
      "source": "Analizując dane zawierające **pensję**, **staż pracy** i **płeć**, możemy formułować różnorodne pytania badawcze, które pozwolą lepiej zrozumieć zależności, rozkłady oraz ewentualne nierówności w zbiorze danych. Oto przykładowe pytania:\n\n:::{admonition} Pytania dotyczące rozkładu i statystyk opisowych\n\n1. Jak rozkładają się pensje w badanej grupie?\n2. Jaka jest średnia i mediana pensji oraz stażu pracy?\n3. Jak wygląda rozkład stażu pracy wśród badanych?\n4. Jakie są wartości minimalne i maksymalne pensji oraz stażu pracy?\n5. Jaki jest udział kobiet i mężczyzn w badanej grupie?\n\nTen zakres pytań został już omówiony w poprzedniej sekcji. jednakże odpowiedzi na te pytania stanowią punkt wyjścia do dalszej analizy i interpretacji danych.\n:::\n\n:::{admonition} Pytania dotyczące zależności między zmiennymi\n\n6. Czy istnieje związek między stażem pracy a wysokością pensji?\n7. Czy osoby z dłuższym stażem pracy zarabiają więcej?\n8. Czy pensje kobiet i mężczyzn różnią się istotnie?\n9. Czy luka płacowa (różnica w średnich pensjach kobiet i mężczyzn) jest widoczna w tych danych?\n10. Czy różnice w pensjach są związane z różnicami w stażu pracy między płciami?\n:::\n\n\n:::{admonition} Pytania dotyczące segmentacji i grupowania\n\n11. Jak rozkładają się pensje w grupach o różnym stażu pracy?\n12. Czy istnieją grupy o szczególnie wysokich lub niskich pensjach?\n13. Jak wygląda rozkład płci w różnych przedziałach stażu pracy?\n14. Czy wśród osób z długim stażem pracy przeważają kobiety czy mężczyźni?\n:::\n\n\n:::{admonition} Pytania dotyczące nietypowych obserwacji\n\n15. Czy w danych występują osoby o wyjątkowo wysokich lub niskich pensjach?\n16. Czy są osoby o bardzo długim lub bardzo krótkim stażu pracy?\n17. Czy wartości odstające wpływają na wyniki analizy?\n:::\n\n\nI na koniec pytania niestatystyczne, motywujące do podjęcia określonych działań.\n\n:::{admonition} Pytania dotyczące analizy porównawczej\n\n18. Jakie działania można podjąć, aby zmniejszyć ewentualną lukę płacową?\n19. Czy wyniki sugerują potrzebę zmian w polityce płacowej firmy?\n20. Czy istnieje potrzeba wprowadzenia programów wspierających równość płci w miejscu pracy?\n:::\n\nNa część z tych pytań odpowiedzieliśmy w poprzednich sekcjach. Na przykład rozkład płci jest mniej więcej równy, nie można mówić o dyskryminacji ze względu na płeć.",
      "metadata": {}
    },
    {
      "id": "d7e9e572",
      "cell_type": "markdown",
      "source": "### Płeć i staż pracy\n\nPostawmy sobie pytanie: **Czy kobiety mają dłuższy staż pracy niż mężczyźni?**\n\nAby odpowiedzieć na to pytanie, musimy porównać średni staż pracy kobiet i mężczyzn. Możemy to zrobić za pomocą metody `groupby()` w Pandas, która pozwala na grupowanie danych według określonej kolumny (w tym przypadku `Płeć`) i obliczanie statystyk dla każdej grupy.\n\n> **Uwaga**: w przypadku kolumny `Płeć` mamy do czynienia z danymi kategorycznymi, dlatego możemy użyć metody `groupby()` i podać kolumnę `Płeć` jako argument. Obecnie konieczne jest podanie argumentu `observed = True`, którym przekazujemy informację, że chcemy uwzględnić tylko te kategorie, które występują w danych. Nie podając tego argumentu, otrzymamy ostrzeżenia.",
      "metadata": {}
    },
    {
      "id": "92e891cd",
      "cell_type": "code",
      "source": "sredni_staz = dane.groupby('Płeć', observed=True)['Staż pracy'].mean()\nprint(sredni_staz)\nmediana_staz = dane.groupby('Płeć', observed=True)['Staż pracy'].median()\nprint(mediana_staz)",
      "metadata": {
        "trusted": true
      },
      "outputs": [],
      "execution_count": null
    },
    {
      "id": "d4ced5ff",
      "cell_type": "markdown",
      "source": "Można połączyć kilka obliczeń w jednym poleceniu. W naszym przypadku możemy użyć metody `groupby()` i podać kolumnę `Płeć` jako argument, a następnie użyć metody `agg()` łączącej obliczenia średniego stażu pracy i mediany dla każdej grupy. Możemy również użyć metody `reset_index()`, aby przekształcić wynik na _DataFrame_.",
      "metadata": {}
    },
    {
      "id": "c5c6eac5",
      "cell_type": "code",
      "source": "dane.groupby('Płeć', observed = True)['Staż pracy'].agg(['mean', 'median']).reset_index()",
      "metadata": {
        "trusted": true
      },
      "outputs": [],
      "execution_count": null
    },
    {
      "id": "258fa2b9",
      "cell_type": "markdown",
      "source": "Wygodniejszym sposobem obserwacji różnic w stażu pracy między kobietami i mężczyznami jest wykres pudełkowy (ang. _box plot_). Przygotujemy go dla obu kategorii.",
      "metadata": {}
    },
    {
      "id": "369478cd",
      "cell_type": "code",
      "source": "plt.figure(figsize=(8,6))\nsns.boxplot(x='Płeć', y='Staż pracy', data=dane)\nplt.title('Box-plot stażu pracy w podziale na płeć')\nplt.ylabel('Staż pracy (lata)')\nplt.show()",
      "metadata": {
        "trusted": true
      },
      "outputs": [],
      "execution_count": null
    },
    {
      "id": "99d32aa1",
      "cell_type": "markdown",
      "source": "Dopiero z tego wykresu widać, jak bardzo podobne są rozkłady obu grup. Te same mediany, takie same odchylenia ćwiartkowe, podobne wartości odstające. Można zatem przyjąć, że nie ma różnic w stażu pracy między kobietami i mężczyznami.\n\n> Jedna kobieta wyraźnie wybija się w stażu pracy (prawie 25 lat).",
      "metadata": {}
    },
    {
      "id": "7372bf77",
      "cell_type": "markdown",
      "source": "Zbudujmy tabelę krzyżową dla zmiennej `Płeć` i `Staż pracy`. Tabela krzyżowa przedstawia liczby wystąpień dla każdej kombinacji kategorii w dwóch zmiennych. Możemy użyć metody `pd.crosstab()` do utworzenia tabeli krzyżowej.",
      "metadata": {}
    },
    {
      "id": "9a06bcea",
      "cell_type": "code",
      "source": "# instalacja jinja2\n# wymagane dla JupyterLite i dla pandas.crosstab\nawait piplite.install('jinja2')",
      "metadata": {
        "trusted": true
      },
      "outputs": [],
      "execution_count": null
    },
    {
      "id": "4057ce7b",
      "cell_type": "code",
      "source": "pd.crosstab(dane['Staż pracy'], dane['Płeć'], margins=True, margins_name=\"Suma\").style.background_gradient(cmap='Blues', low=0, high=1)",
      "metadata": {
        "trusted": true
      },
      "outputs": [],
      "execution_count": null
    },
    {
      "id": "a76c476b",
      "cell_type": "markdown",
      "source": "Na pierwszy rzut oka nie dostrzegamy znaczących różnic w liczbie kobiet i mężczyzn w różnych przedziałach stażu pracy. Możemy jednak obliczyć procentowy udział kobiet i mężczyzn w każdym przedziale stażu pracy, aby lepiej zobrazować różnice. Ponownie użyjemy metody `pd.crosstab()`, ale tym razem dodamy argument `normalize = 'index'`, aby obliczyć procentowy udział kobiet i mężczyzn w każdym przedziale stażu pracy (względem wiersza). Wyniki mnożymy przez 100 i zaokrąglamy do 2 miejsc po przecinku.",
      "metadata": {}
    },
    {
      "id": "80127c02",
      "cell_type": "code",
      "source": "(pd.crosstab(dane['Staż pracy'], dane['Płeć'], normalize = 'index') * 100).round(2)",
      "metadata": {
        "trusted": true
      },
      "outputs": [],
      "execution_count": null
    },
    {
      "id": "802c2939",
      "cell_type": "markdown",
      "source": "Wygodnym sposobem wizualizacji tych danych będzie wykres słupkowy (*barplot*).\n\nMożemy użyć metody `plot()` z argumentem `kind = 'bar'`, aby utworzyć wykres słupkowy. Wartości na osi X będą odpowiadały przedziałom stażu pracy, a wartości na osi Y będą odpowiadały procentowemu udziałowi kobiet i mężczyzn w każdym przedziale stażu pracy.\n\nŁatwiejszym sposobem jest użycie `countplot()` z `seaborn` - dedykowanego do tego typu wykresów.",
      "metadata": {}
    },
    {
      "id": "49c47ede",
      "cell_type": "code",
      "source": "# barplot - liczba kobiet/mężczyzn w podziale na staż pracy\nplt.figure(figsize=(10,6))\nsns.countplot(x='Staż pracy', hue='Płeć', data=dane)\nplt.title('Liczebność płci w podziale na staż pracy')\nplt.ylabel('Liczba pracowników')\nplt.show()",
      "metadata": {
        "trusted": true
      },
      "outputs": [],
      "execution_count": null
    },
    {
      "id": "a778996a",
      "cell_type": "markdown",
      "source": "Jak to działa?\n* `x='Staż pracy'` – na osi X będą kolejne lata stażu pracy,\n* `hue='Płeć'` – wskazanie zmiennej kategoryzujacej, dla każdego roku pojawią się słupki w różnych kolorach dla kobiet i mężczyzn,\n* `countplot` automatycznie zlicza liczbę obserwacji w każdej kategorii",
      "metadata": {}
    },
    {
      "id": "5764a060",
      "cell_type": "code",
      "source": "# barplot - liczba kobiet/mężczyzn w podziale na staż pracy - słupki poziome\nplt.figure(figsize=(10,6))\nsns.countplot(y='Staż pracy', hue='Płeć', data=dane)\nplt.title('Liczebność płci w podziale na staż pracy')\nplt.xlabel('Liczba pracowników')\nplt.ylabel('Staż pracy (lata)')\nplt.show()",
      "metadata": {
        "trusted": true
      },
      "outputs": [],
      "execution_count": null
    },
    {
      "id": "756d0a52",
      "cell_type": "markdown",
      "source": ":::{admonition} Zaawansowane: test t-Studenta\n:class: dropdown\n\nFormalny dowód braku różnic w stażu pracy między kobietami i mężczyznami można przeprowadzić za pomocą testu t-Studenta. Test t-Studenta jest testem statystycznym, który pozwala na porównanie średnich dwóch grup. Test zakłada, że dane są zgodne z rozkładem normalnym i mają tę samą wariancję. Test t-Studenta jest stosowany w przypadku, gdy mamy do czynienia z dwiema grupami niezależnymi (w naszym przypadku kobiety i mężczyźni) i chcemy porównać ich średnie.\n\nW naszym przypadku porównujemy średni staż pracy kobiet i mężczyzn.\n\n```python\nfrom scipy import stats\n\nstaz_kobiety = dane[dane['Płeć'] == 'K']['Staż pracy']\nstaz_mezczyzni = dane[dane['Płeć'] == 'M']['Staż pracy']\n\nt_stat, p_value = stats.ttest_ind(staz_kobiety, staz_mezczyzni, equal_var=False)\nprint(f\"Statystyka t: {t_stat}, wartość p: {p_value}\")\n```\n\nInterpretacja:\n\n* Jeśli p-value < 0.05 – różnice między stażem pracy kobiet i mężczyzn są istotne statystycznie.\n* Jeśli p-value ≥ 0.05 – nie ma podstaw do uznania różnic za istotne.",
      "metadata": {}
    },
    {
      "id": "c2d37c14",
      "cell_type": "code",
      "source": "from scipy import stats\n\nstaz_kobiety = dane[dane['Płeć'] == 'K']['Staż pracy']\nstaz_mezczyzni = dane[dane['Płeć'] == 'M']['Staż pracy']\n\nt_stat, p_value = stats.ttest_ind(staz_kobiety, staz_mezczyzni, equal_var=False)\nprint(f\"Statystyka t: {t_stat}, wartość p: {p_value}\")",
      "metadata": {
        "outputs_hidden": true,
        "source_hidden": true,
        "trusted": true
      },
      "outputs": [],
      "execution_count": null
    },
    {
      "id": "178bc9d7",
      "cell_type": "markdown",
      "source": "### Pensja i płeć\n\nPostawmy sobie pytanie: **Czy kobiety zarabiają mniej niż mężczyźni?**\n\nAby odpowiedzieć na to pytanie, musimy porównać średnie pensje kobiet i mężczyzn (a może lepiej - mediany). Możemy to zrobić za pomocą metody `groupby()` w Pandas oraz zwizualizować za pomocą wykresu pudełkowego (ang. _box plot_).\n",
      "metadata": {}
    },
    {
      "id": "8146e140",
      "cell_type": "code",
      "source": "# średnie pensje i mediany w podziale na płeć\ndane.groupby('Płeć', observed=True)['Pensja'].agg(['mean', 'median']).reset_index().round(2)",
      "metadata": {
        "trusted": true
      },
      "outputs": [],
      "execution_count": null
    },
    {
      "id": "6512fb38",
      "cell_type": "code",
      "source": "# wykres pudełkowy dla pensji w podziale na płeć\nplt.figure(figsize=(8,6))\nsns.boxplot(x='Płeć', y='Pensja', data=dane)\nplt.title('Wykres pudełkowy dla pensji w podziale na płeć')\nplt.ylabel('Pensja (zł)')\nplt.show()",
      "metadata": {
        "trusted": true
      },
      "outputs": [],
      "execution_count": null
    },
    {
      "id": "4a35f382",
      "cell_type": "markdown",
      "source": "Interpretacja: nie widzimy wyraźnych różnic w pensjach kobiet i mężczyzn. Wartości median są podobne oraz wartości odstające są podobne. Możemy zatem przyjąć, że nie ma różnic w pensjach między kobietami i mężczyznami.",
      "metadata": {}
    },
    {
      "id": "d2b3a6d8",
      "cell_type": "markdown",
      "source": ":::{admonition} Zaawansowane: test t-Studenta\n:class: dropdown\n\nFormalny dowód braku różnic w pensjach między kobietami i mężczyznami można przeprowadzić za pomocą testu t-Studenta. Test t-Studenta jest testem statystycznym, który pozwala na porównanie średnich dwóch grup. Test zakłada, że dane są zgodne z rozkładem normalnym i mają tę samą wariancję. Test t-Studenta jest stosowany w przypadku, gdy mamy do czynienia z dwiema grupami niezależnymi (w naszym przypadku kobiety i mężczyźni) i chcemy porównać ich średnie.\nW naszym przypadku porównujemy średnie pensje kobiet i mężczyzn.\n\n```python\nfrom scipy import stats\npensja_kobiety = dane[dane['Płeć'] == 'K']['Pensja']\npensja_mezczyzni = dane[dane['Płeć'] == 'M']['Pensja']\nt_stat, p_value = stats.ttest_ind(pensja_kobiety, pensja_mezczyzni, equal_var=False)\nprint(f\"Statystyka t: {t_stat}, wartość p: {p_value}\")\n```\n\nInterpretacja:\n* Jeśli p-value < 0.05 – różnice między pensjami kobiet i mężczyzn są istotne statystycznie.\n* Jeśli p-value ≥ 0.05 – nie ma podstaw do uznania różnic za istotne.",
      "metadata": {}
    },
    {
      "id": "54abce88",
      "cell_type": "code",
      "source": "from scipy import stats\npensja_kobiety = dane[dane['Płeć'] == 'K']['Pensja']\npensja_mezczyzni = dane[dane['Płeć'] == 'M']['Pensja']\nt_stat, p_value = stats.ttest_ind(pensja_kobiety, pensja_mezczyzni, equal_var=False)\nprint(f\"Statystyka t: {t_stat}, wartość p: {p_value}\")",
      "metadata": {
        "trusted": true
      },
      "outputs": [],
      "execution_count": null
    },
    {
      "id": "e94c50f3",
      "cell_type": "markdown",
      "source": "### Pensja i staż pracy\n\nPostawmy sobie pytanie: **Czy osoby z dłuższym stażem pracy zarabiają więcej?**\n\nAby odpowiedzieć na to pytanie, musimy porównać średnie pensje osób z różnym stażem pracy. Możemy to zrobić za pomocą metody `groupby()` w Pandas.",
      "metadata": {}
    },
    {
      "id": "41c21bd2",
      "cell_type": "code",
      "source": "# średnie pensje i mediany w podziale na staż pracy\ndane.groupby('Staż pracy', observed=True)['Pensja'].agg(['mean', 'median']).reset_index().round(2)",
      "metadata": {
        "trusted": true
      },
      "outputs": [],
      "execution_count": null
    },
    {
      "id": "2f7274eb",
      "cell_type": "markdown",
      "source": "Trochę zbyt dużo danych. Możemy zgrupować dane w przedziały (np. 0-3, 3-5, 5-10, 10-15, 15-20, 20+). Możemy to zrobić za pomocą funkcji `cut()` w Pandas. Funkcja `cut()` dzieli dane na przedziały (ang. _bins_), a następnie możemy użyć metody `groupby()` do obliczenia średnich pensji dla każdego przedziału.",
      "metadata": {}
    },
    {
      "id": "1b02b9cc",
      "cell_type": "code",
      "source": "# średnie pensje i mediany w podziale na staż pracy\n# dla podziału: 0-3, 3-5, 5-10, 10-15, 15-20, 20+\npodzial=[-1, 3, 5, 10, 15, 20, 100]\netykiety = ['0-3', '3-5', '5-10', '10-15', '15-20', '20+']\n\nstaz_kategorie = pd.cut(dane['Staż pracy'], bins=podzial, labels=etykiety)\ndisplay(staz_kategorie.value_counts())\n\n# dodanie kolumny 'Staż kategorie' do DataFrame z danymi\ndane['Staż kategorie'] = staz_kategorie\ndisplay(dane.head())\n\n# średnie pensje i mediany w podziale na staż pracy\ndane.groupby('Staż kategorie', observed=True)['Pensja'].agg(['mean', 'median']).reset_index().round(2)",
      "metadata": {
        "trusted": true
      },
      "outputs": [],
      "execution_count": null
    },
    {
      "id": "2de06d49",
      "cell_type": "code",
      "source": "# wykres słupkowy - średnia pensja w podziale na kategorie stażu pracy\nimport numpy as np\nplt.figure(figsize=(10,6))\nsns.barplot(x='Staż kategorie', y='Pensja', data=dane, estimator=np.mean)\nplt.title('Średnia pensja w podziale na staż pracy')\nplt.ylabel('Średnia pensja (zł)')\nplt.xlabel('Staż pracy (lata)')\nplt.show()",
      "metadata": {
        "trusted": true
      },
      "outputs": [],
      "execution_count": null
    },
    {
      "id": "de68b245",
      "cell_type": "markdown",
      "source": "Do obserwacji związków między zmiennymi ilościowymi najczęściej używamy wykresu typu *scatter plot* (wykres punktowy). Wykres punktowy przedstawia dane w postaci punktów, gdzie każdy punkt odpowiada jednej obserwacji. Na osi X znajdują się wartości jednej zmiennej, a na osi Y wartości drugiej zmiennej. Wykres punktowy pozwala na zobrazowanie zależności między dwiema zmiennymi ilościowymi.",
      "metadata": {}
    },
    {
      "id": "cd23d2d7",
      "cell_type": "code",
      "source": "# wykres rozrzutu dla pensji i stażu pracy\nplt.figure(figsize=(8,6))\nsns.scatterplot(x='Staż pracy', y='Pensja', data=dane)\nplt.title('Wykres rozrzutu dla pensji i stażu pracy')\nplt.xlabel('Staż pracy (lata)')\nplt.ylabel('Pensja (zł)')\nplt.show()",
      "metadata": {
        "trusted": true
      },
      "outputs": [],
      "execution_count": null
    },
    {
      "id": "7e9d4ff1",
      "cell_type": "markdown",
      "source": "Zależność jest co najmniej dziwna. Jest grupa pracowników, dla których wraz ze zwiekszaniem stażu pracy pensja rośnie. Ale jest również grupa pracowników, dla których pensja maleje wraz ze wzrostem stażu pracy. Możemy to zobaczyć na wykresie punktowym. Raczej oczekiwalibyśmy \"chmury punktów\" w kształcie elipsy, a nie \"chmury punktów\" w kształcie litery V.\n\nZależność ta nie została przez nas odkryta wcześniej, ponieważ wcześniejsze analizy dotyczyły wskaźników ogólnych, zagregowanych. Ta dziwna cecha \"schowała się\" w danych.\n\nPodejrzenie: może płeć wpływa na pensję? W takim przypadku możemy użyć wykresu punktowego z podziałem na płeć. Możemy to zrobić za pomocą argumentu `hue` w funkcji `sns.scatterplot()`. Argument `hue` pozwala na podział danych na kategorie (w naszym przypadku płeć) i oznaczenie ich różnymi kolorami.",
      "metadata": {}
    },
    {
      "id": "0b803bc7",
      "cell_type": "code",
      "source": "# wykres rozrzutu dla pensji i stażu pracy z podziałem na płeć\nplt.figure(figsize=(8,6))\nsns.scatterplot(x='Staż pracy', y='Pensja', hue='Płeć', data=dane)\nplt.title('Wykres rozrzutu dla pensji i stażu pracy z podziałem na płeć')\nplt.xlabel('Staż pracy (lata)')\nplt.ylabel('Pensja (zł)')\nplt.show()",
      "metadata": {
        "trusted": true
      },
      "outputs": [],
      "execution_count": null
    },
    {
      "id": "52e0b58e",
      "cell_type": "markdown",
      "source": "Hipoteza, że płeć i staż pracy wpływa na wzrost lub spadek pensji wydaje się być fałszywa. Musi być inny czynnik, który wpływa na tego typu zmienność. Możemy próbować to zbadać, dodając do wykresu linię regresji. Linia regresji pokazuje zależność między dwiema zmiennymi ilościowymi. \n\nLinię regresji możemy nanieść na wykres _scatterplot_ za pomocą argumentu `regplot` w funkcji `sns.scatterplot()`. \n\nZdecydowanie łatwiejszym sposobem, jest wykorzystanie funkcji `lmplot()` pakietu _seaborn_ - dedykowanej do tego celu.",
      "metadata": {}
    },
    {
      "id": "44b1bd30",
      "cell_type": "code",
      "source": "# linia regresji dla pensji i stażu pracy z podziałem na płeć\nplt.figure(figsize=(8,6))\nsns.lmplot(x='Staż pracy', y='Pensja', hue='Płeć', data=dane, height=6, aspect=1.5)\nplt.title('Linia regresji dla pensji i stażu pracy z podziałem na płeć')\nplt.xlabel('Staż pracy (lata)')\nplt.ylabel('Pensja (zł)')\nplt.show()",
      "metadata": {
        "trusted": true
      },
      "outputs": [],
      "execution_count": null
    },
    {
      "id": "f1aca684",
      "cell_type": "markdown",
      "source": "Zbadajmy istnienie korelacji między zmiennymi `Pensja` i `Staż pracy`. Możemy to zrobić za pomocą współczynnika korelacji Pearsona. Współczynnik korelacji Pearsona mierzy siłę i kierunek liniowej zależności między dwiema zmiennymi ilościowymi. Wartość współczynnika korelacji Pearsona mieści się w przedziale od -1 do 1. Wartość -1 oznacza, że istnieje silna ujemna korelacja między zmiennymi, wartość 1 oznacza, że istnieje silna dodatnia korelacja między zmiennymi, a wartość 0 oznacza brak korelacji.\n\nNajwygodniej jest użyć metody `corr()` w Pandas, która oblicza współczynnik korelacji Pearsona dla wszystkich par zmiennych ilościowych w _DataFrame_. Możemy również użyć metody `corr()` z argumentem `method = 'pearson'`, aby obliczyć współczynnik korelacji Pearsona dla dwóch zmiennych.\n\nBiblioteka SciPy dostarcza wiele metod dla obliczeń naukowych i statystycznych. Skorzystamy z niej do wyznaczenia współczynnika korelacji Pearsona.\n\n```python\nfrom scipy.stats import pearsonr\ncorr, p_value = pearsonr(dane['Pensja'], dane['Staż pracy'])\nprint(f\"Współczynnik korelacji Pearsona: {corr}, wartość p: {p_value}\")\n```\nInterpretacja:\n* Jeśli p-value < 0.05 – istnieje istotna korelacja między zmiennymi.\n* Jeśli p-value ≥ 0.05 – nie ma podstaw do uznania korelacji za istotną.",
      "metadata": {}
    },
    {
      "id": "0e3182d1",
      "cell_type": "code",
      "source": "from scipy.stats import pearsonr\ncorr, p_value = pearsonr(dane['Pensja'], dane['Staż pracy'])\nprint(f\"Współczynnik korelacji Pearsona: {corr:.2f}, wartość p: {p_value:.4f}\")",
      "metadata": {
        "trusted": true
      },
      "outputs": [],
      "execution_count": null
    },
    {
      "id": "fe5a67e1",
      "cell_type": "markdown",
      "source": "**Interpretacja**: Współczynnik korelacji Pearsona wynosi 0.83, co oznacza, że `Pensja` i `Staż pracy` są silnie skorelowane. Wartość $p$ wynosi 0.000, co oznacza, że wynik jest istotny statystycznie (nie jest przypadkowy). Możemy zatem przyjąć, że osoby z dłuższym stażem pracy zarabiają więcej.",
      "metadata": {}
    },
    {
      "id": "4253dfb8",
      "cell_type": "markdown",
      "source": "Chcemy utworzyć macierz korelacji w podziale na płeć. Możemy to zrobić za pomocą metody `groupby()` w Pandas oraz metody `corr()` do obliczenia macierzy korelacji dla każdej grupy. Możemy również użyć metody `reset_index()`, aby przekształcić wynik na _DataFrame_.",
      "metadata": {}
    },
    {
      "id": "2e0987b4",
      "cell_type": "code",
      "source": "from scipy.stats import pearsonr\npensja_kobiety = dane[dane['Płeć'] == 'K']['Pensja']\npensja_mezczyzni = dane[dane['Płeć'] == 'M']['Pensja']\nstaz_kobiety = dane[dane['Płeć'] == 'K']['Staż pracy']\nstaz_mezczyzni = dane[dane['Płeć'] == 'M']['Staż pracy']\ncorr_kobiety, p_value_kobiety = pearsonr(pensja_kobiety, staz_kobiety)\ncorr_mezczyzni, p_value_mezczyzni = pearsonr(pensja_mezczyzni, staz_mezczyzni)\nprint(f\"Współczynnik korelacji Pearsona dla kobiet: {corr_kobiety:.2f}, wartość p: {p_value_kobiety:.4f}\")\nprint(f\"Współczynnik korelacji Pearsona dla mężczyzn: {corr_mezczyzni:.2f}, wartość p: {p_value_mezczyzni:.4f}\")",
      "metadata": {
        "trusted": true
      },
      "outputs": [],
      "execution_count": null
    },
    {
      "id": "df307d7f",
      "cell_type": "markdown",
      "source": "Macierz korelacji można przedstawić graficznie za pomocą wykresu cieplnego (ang. _heatmap_). Wykres cieplny przedstawia macierz korelacji w postaci kolorów, gdzie kolor i jego intensywność odpowiadają wartości współczynnika korelacji. Możemy użyć funkcji `sns.heatmap()` do utworzenia wykresu cieplnego.",
      "metadata": {}
    },
    {
      "id": "be4824d3",
      "cell_type": "code",
      "source": "# heatmap - macierz korelacji dla Pensja i Staż pracy\nplt.figure(figsize=(8,6))\nsns.heatmap(dane[['Pensja', 'Staż pracy']].corr(), annot=True, cmap='coolwarm')\nplt.title('Macierz korelacji dla Pensja i Staż pracy')\nplt.show()",
      "metadata": {
        "trusted": true
      },
      "outputs": [],
      "execution_count": null
    },
    {
      "id": "eef41e6e",
      "cell_type": "code",
      "source": "# heatmap - macierz korelacji dla Pensja i Staż pracy - w podziale na płeć\n# subplots - jeden wiersz, dwie kolumny\nfig, axes = plt.subplots(1, 2, figsize=(16, 6))\n# heatmap dla kobiet\nsns.heatmap(dane[dane['Płeć'] == 'K'][['Pensja', 'Staż pracy']].corr(), annot=True, cmap='coolwarm', ax=axes[0])\naxes[0].set_title('Macierz korelacji dla kobiet')\n# heatmap dla mężczyzn\nsns.heatmap(dane[dane['Płeć'] == 'M'][['Pensja', 'Staż pracy']].corr(), annot=True, cmap='coolwarm', ax=axes[1])\naxes[1].set_title('Macierz korelacji dla mężczyzn')\nplt.show()",
      "metadata": {
        "trusted": true
      },
      "outputs": [],
      "execution_count": null
    },
    {
      "id": "55f2d1cd",
      "cell_type": "markdown",
      "source": "Równanie linii regresji możemy wyznaczyć za pomocą metody `stats.linregress()` z biblioteki `scipy`. Metoda ta zwraca współczynniki regresji, które możemy wykorzystać do obliczenia wartości linii regresji.",
      "metadata": {}
    },
    {
      "id": "741bb382",
      "cell_type": "code",
      "source": "# równanie linii regresji, na wykresie scatterplot\nimport numpy as np\nimport scipy.stats as stats\n\nx = dane['Staż pracy']\ny = dane['Pensja']\na, b, r_value, p_value, std_err = stats.linregress(x, y)\nprint(f\"Równanie linii regresji: y = {a:.2f}x + {b:.2f}\")\nprint(f\"Współczynnik korelacji: {r_value:.2f}, wartość p: {p_value:.4f}\")\n\nplt.figure(figsize=(8,6))\nsns.scatterplot(x='Staż pracy', y='Pensja', data=dane)\nsns.regplot(x=x, y=y, line_kws={'label': f'y = {a:.2f} + {b:.2f}x'}, color=\"blue\")\nplt.title('Wykres rozrzutu dla pensji i stażu pracy z linią regresji')\nplt.xlabel('Staż pracy (lata)')\nplt.ylabel('Pensja (zł)')\nplt.legend()\nplt.show()",
      "metadata": {
        "trusted": true
      },
      "outputs": [],
      "execution_count": null
    },
    {
      "id": "f4833103",
      "cell_type": "code",
      "source": "# równanie regresji dla pensji i stażu pracy z podziałem na płeć\nimport numpy as np\nimport scipy.stats as stats\n\n# regresja dla kobiet\nx_k = dane[dane['Płeć'] == 'K']['Staż pracy']\ny_k = dane[dane['Płeć'] == 'K']['Pensja']\na_k, b_k, r_value_k, p_value_k, std_err_k = stats.linregress(x_k, y_k)\nprint(f\"Równanie regresji dla kobiet: y = {a_k:.2f} * x + {b_k:.2f}\")\nprint(f\"Współczynnik korelacji dla kobiet: {r_value_k:.2f}\")\nprint(f\"Wartość p dla kobiet: {p_value_k:.2f}\")\n",
      "metadata": {
        "trusted": true
      },
      "outputs": [],
      "execution_count": null
    },
    {
      "id": "7d176176",
      "cell_type": "code",
      "source": "# regresja dla mężczyzn\nx_m = dane[dane['Płeć'] == 'M']['Staż pracy']\ny_m = dane[dane['Płeć'] == 'M']['Pensja']\na_m, b_m, r_value_m, p_value_m, std_err_m = stats.linregress(x_m, y_m)\nprint(f\"Równanie regresji dla mężczyzn: y = {a_m:.2f} * x + {b_m:.2f}\")\nprint(f\"Współczynnik korelacji dla mężczyzn: {r_value_m:.2f}\")\nprint(f\"Wartość p dla mężczyzn: {p_value_m:.2f}\")",
      "metadata": {
        "trusted": true
      },
      "outputs": [],
      "execution_count": null
    },
    {
      "id": "7b3c7f7b",
      "cell_type": "markdown",
      "source": "Analiza wykazuje, że pensja i staż pracy są silnie skorelowane. Równanie regresji dla wszystkich pracowników, ale również dla kobiet i mężczyzn jest podobne. Możemy zatem przyjąć, że osoby z dłuższym stażem pracy zarabiają więcej.\n\nW przybliżeniu trend wzrostowy zarobków można zapisać jako:\n\n$$wynagrodzenie = 1000 + 45 \\cdot staż$$\n\nczyli na starcie 1000 zł i co roku 45 zł podwyzki.",
      "metadata": {}
    },
    {
      "id": "cd0ad5ce",
      "cell_type": "markdown",
      "source": "Kształt litery V na wykresie punktowym sugeruje, że istnieje inny czynnik, który wpływa na pensję lub dane są silnie nieliniowe lub ten trend malejący powodują dane odstające.\n\nZnając równanie regresji możemy poszukać tych wartości, budując warunek filtrujący: jeśli pensja odbiega od wartości przewidywanej o więcej niż odchylenie standardowe, to uznajemy ją za wartość odstającą (formalnie, przyjmuje się częściej 2 a nawet 3 odchylenia standardowe).",
      "metadata": {}
    },
    {
      "id": "7f5d7cff",
      "cell_type": "code",
      "source": "# wartości odstające od linii regresji dla pensji i stażu pracy\nimport numpy as np\nimport scipy.stats as stats\n\nx = dane['Staż pracy']\ny = dane['Pensja']\na, b, _, _, _ = stats.linregress(x, y)\nstd_err = dane.Pensja.std()\nprint(\"odchylenie standardowe dla Pensja = \", std_err)\n\n# obliczamy wartości prognozowane\ny_pred = a * x + b\n# obliczamy reszty\nresiduals = y - y_pred\n# obliczamy wartości odstające\noutliers = np.abs(residuals) >  std_err\n# dodajemy kolumnę 'Outliers' do danych\ndane['Outliers'] = outliers\n# wyświetlamy dane z wartościami odstającymi\ndisplay(dane[dane['Outliers'] == True])\n\n# rysujemy wykres rozrzutu dla pensji i stażu pracy z wartościami odstającymi\nplt.figure(figsize=(8,6))\nsns.regplot(x=x, y=y, line_kws={'label': f'y = {a:.2f} + {b:.2f}x'})\nsns.scatterplot(x='Staż pracy', y='Pensja', data=dane, hue='Outliers')\nplt.title('Wykres rozrzutu dla pensji i stażu pracy z wartościami odstającymi')\nplt.xlabel('Staż pracy (lata)')\nplt.ylabel('Pensja (zł)')\nplt.show()\n",
      "metadata": {
        "trusted": true
      },
      "outputs": [],
      "execution_count": null
    },
    {
      "id": "5cc0d70f",
      "cell_type": "markdown",
      "source": "Danych odstających jest niewiele (ok. 50) w porównaniu do prawie 1000 wszystkich wartości. Rozumiemy zatem, dlaczego nie wpływają decydująco na wyniki naszych analiz.\n\nFormalnie - aby analizować związek między pensją a stażem pracy, powinniśmy usunąć te dane odstające i powtórzyć obliczenia.",
      "metadata": {}
    },
    {
      "id": "55258e32",
      "cell_type": "markdown",
      "source": ":::{admonition} Kształt litery V\n:class: dropdown\n\nChmura punktów w kształcie litery **V** na wykresie scatterplot (zamiast elipsy lub prostokąta) oznacza, że istnieje **nieliniowy związek** między zmiennymi, **bądź też** występują **specyficzne wzorce w danych**, które nie wynikają z prostego, liniowego trendu. Oto możliwe przyczyny i wyjaśnienia:\n\n1. Nieliniowa zależność\n    Najczęstszy powód – **zmienne nie są liniowo skorelowane**. Może to oznaczać, że:\n    - **Pensja rośnie wraz ze stażem tylko do pewnego momentu, a potem przestaje rosnąć lub nawet maleje** (np. osoby z bardzo długim stażem mogą przechodzić na emeryturę, zmieniać branżę lub mieć niższe wynagrodzenia z innych przyczyn).\n    - **Istnieją dwie odrębne ścieżki kariery** (np. jedna grupa osób szybko awansuje i zarabia dużo, a druga pozostaje na niskich pensjach mimo stażu).\n\n2. Wartości odstające lub grupy\n    - **Wartości odstające** (outliers) – osoby o bardzo dużym stażu i niskiej pensji lub bardzo krótkim stażu i wysokiej pensji mogą „rozciągać” chmurę punktów w kształt litery V.\n    - **Grupy w danych** – jeśli w zbiorze są dwie lub więcej grup o różnych zasadach wynagradzania (np. różne branże, stanowiska), mogą one tworzyć osobne „ramiona” litery V.\n\n3. Zjawiska społeczne lub zawodowe\n    - **Zmiany w polityce płacowej** – np. nowe stanowiska są lepiej wynagradzane, a starsze mniej.\n    - **Awans i stagnacja** – osoby z krótkim stażem szybko awansują, a z długim – już nie.\n    - **Przejście na emeryturę** – osoby z bardzo długim stażem mogą mieć niższe pensje (np. część etatu, mniej odpowiedzialności).\n\n4. Problemy z danymi\n    - **Błędy w danych** – np. błędnie wprowadzone wartości stażu lub pensji.\n    - **Brak danych** – jeśli brakuje obserwacji w pewnych przedziałach, kształt chmury może być zniekształcony.\n:::",
      "metadata": {}
    },
    {
      "id": "711faf60",
      "cell_type": "markdown",
      "source": "## Podsumowanie",
      "metadata": {}
    },
    {
      "id": "6fddb7cd",
      "cell_type": "markdown",
      "source": "Zbiór najważniejszych poleceń Python/Pandas do analizy danych:\n\n1. Wczytanie danych z pliku CSV:\n    ```python\n    import pandas as pd\n    dane = pd.read_csv('nazwa_pliku.csv')\n    ```\n\n2. Wyświetlenie pierwszych kilku wierszy danych:\n    ```python\n    dane.head()\n    ```\n\n3. Wyświetlenie podstawowych informacji o danych:\n    ```python\n    dane.info()\n    ```\n\n4. Wyświetlenie podstawowych statystyk opisowych:\n    ```python\n    dane.describe()\n    ```\n\n5. Wyświetlenie unikalnych wartości w kolumnie:\n    ```python\n    dane['nazwa_kolumny'].unique()\n    ```\n\n6. Zliczenie liczby wystąpień unikalnych wartości w kolumnie:\n    ```python\n    dane['nazwa_kolumny'].value_counts()\n    ```\n\n7. Konwersja kolumny do innego typu (np. `int`):\n    ```python\n    dane['nazwa_kolumny'] = dane['nazwa_kolumny'].astype('int')\n    ```\n\n8. Zmiana nazwy kolumny:\n    ```python\n    dane.rename(columns={'stara_nazwa': 'nowa_nazwa'}, inplace=True)\n    ```\n\n9. Usunięcie kolumny:\n    ```python\n    dane.drop(columns=['nazwa_kolumny'], inplace=True)\n    ```\n\n10. Grupowanie danych według kolumny i obliczanie statystyk:\n    ```python\n    dane.groupby('nazwa_kolumny').agg({'nazwa_kolumny2': ['mean', 'median', 'std']})\n    ```\n\n11. Tworzenie wykresu pudełkowego:\n    ```python\n    sns.boxplot(x='nazwa_kolumny', y='nazwa_kolumny2', data=dane)\n    ```\n\n12. Tworzenie histogramu:\n    ```python\n    sns.histplot(data=dane, x='nazwa_kolumny', bins=30, kde=True)\n    ```\n\n13. Tworzenie wykresu punktowego:\n    ```python\n    sns.scatterplot(x='nazwa_kolumny', y='nazwa_kolumny2', data=dane, hue='nazwa_kolumny3')\n    ```\n\n14. Tworzenie wykresu słupkowego:\n    ```python\n    sns.barplot(x='nazwa_kolumny', y='nazwa_kolumny2', data=dane)\n    ```\n\n15. Tworzenie tabeli krzyżowej:\n    ```python\n    pd.crosstab(dane['nazwa_kolumny1'], dane['nazwa_kolumny2'])\n    ```\n\n16. Obliczanie współczynnika korelacji Pearsona:\n    ```python\n    from scipy.stats import pearsonr\n    corr, p_value = pearsonr(dane['nazwa_kolumny1'], dane['nazwa_kolumny2'])\n    print(f\"Współczynnik korelacji Pearsona: {corr}, wartość p: {p_value}\")\n    ```\n\n17. Tworzenie wykresu cieplnego:\n    ```python\n    sns.heatmap(data=dane.corr(), annot=True, cmap='coolwarm')\n    ```\n\n18. Tworzenie wykresu liniowego:\n    ```python\n    sns.lineplot(x='nazwa_kolumny', y='nazwa_kolumny2', data=dane)\n    ```\n\n19. Tworzenie wykresu kołowego:\n    ```python\n    dane['nazwa_kolumny'].value_counts().plot.pie(autopct='%1.1f%%')\n    ```\n\n20. Wyznaczenie równania lini regresji:\n    ```python\n    from scipy.stats import linregress\n    slope, intercept, r_value, p_value, std_err = linregress(dane['nazwa_kolumny1'], dane['nazwa_kolumny2'])\n    print(f\"Równanie regresji: y = {slope} * x + {intercept}\")\n    ```\n\n21. Usunięcie wartości odstających:\n    ```python\n    dane = dane[(dane['nazwa_kolumny'] > dolna_granica) & (dane['nazwa_kolumny'] < gorna_granica)]\n    ```\n\n22. Zapisanie danych do pliku CSV:\n    ```python\n    dane.to_csv('nazwa_pliku.csv', index=False)\n    ```\n\n23. Zapisanie wykresu do pliku:\n    ```python\n    plt.savefig('nazwa_wykresu.png')\n    ```\n",
      "metadata": {}
    },
    {
      "id": "926f8362",
      "cell_type": "markdown",
      "source": "## Referencje\n\n* https://pandas.pydata.org/pandas-docs/stable/getting_started/intro_tutorials/index.html - oficjalny tutorial Pandas\n* https://wesmckinney.com/book/ - książka \"Python for Data Analysis\" autorstwa Wes McKinney, twórcy Pandas, prawdopodobnie najlepsza książka o Pandas\n* https://ichi.pro/pl/filtrowanie-danych-w-pandas-199495626798265\n",
      "metadata": {}
    },
    {
      "id": "5815edc5-3e15-49b4-8c10-039562b3539b",
      "cell_type": "markdown",
      "source": "## Pytania kontrolne - ogólne\n\nNa poniższe pytania sformułuj odpowiedzi - w oparciu o to opracowanie. Sprawdź swój sposób myślenia z odpowiedziami sztucznej inteligencji (Copilot, ChatGPT, Gemini, ...)",
      "metadata": {}
    },
    {
      "id": "3dd14855-2900-430a-9730-b4ec2936f996",
      "cell_type": "markdown",
      "source": "**Pytanie 1:** Wyjaśnij różnicę między metodami `loc[]` i `iloc[]` w bibliotece Pandas. Podaj przykład, w jaki sposób użyć każdej z nich do uzyskania dostępu do konkretnego wiersza w `DataFrame`.",
      "metadata": {}
    },
    {
      "id": "02fad674-5c2d-4a10-805c-f01bf365d75d",
      "cell_type": "markdown",
      "source": "**Pytanie 2:** W jaki sposób można załadować dane z pliku Excel do obiektu `DataFrame` w Pandas? Jakie argumenty przyjmuje funkcja używana do tego celu i jakie pakiety mogą być wymagane?",
      "metadata": {}
    },
    {
      "id": "170b9ce0-51e6-4a59-af0e-381232511847",
      "cell_type": "markdown",
      "source": "**Pytanie 3:** Proszę opisać, w jaki sposób odwołać się do kolumny w `DataFrame`. Jakie są różnice między odwoływaniem się do kolumny za pomocą operatora `[]` oraz notacji z kropką (np. `dane.Kolumna`)?",
      "metadata": {}
    },
    {
      "id": "d1cb77bc-f474-4371-8761-192cd1805bc5",
      "cell_type": "markdown",
      "source": "**Pytanie 4:** Co oznacza parametr `inplace = True` w metodzie `set_index()`? Zademonstruj na przykładzie, jak zmieni się `DataFrame` w zależności od użycia tego parametru.",
      "metadata": {}
    },
    {
      "id": "23b3e3d7-478a-4a2c-a14f-60ea74f8ab57",
      "cell_type": "markdown",
      "source": "**Pytanie 5:** Jakie informacje można uzyskać o obiekcie `DataFrame` za pomocą atrybutów `index`, `columns` i `values`? Proszę wyjaśnić, co reprezentują te atrybuty i jakiego typu obiekty zwracają.",
      "metadata": {}
    },
    {
      "id": "488d1339-022d-473a-b030-f85a17cacd2b",
      "cell_type": "markdown",
      "source": "**Pytanie 6:** Jakie metody w Pandas pozwalają na wstępne podsumowanie danych w `DataFrame`? Proszę wymienić i opisać, co zawierają ich wyniki.",
      "metadata": {}
    },
    {
      "id": "cf3e4d40-0395-4646-90c9-f651203bca09",
      "cell_type": "markdown",
      "source": "**Pytanie 7:** W jaki sposób można usunąć duplikaty z `DataFrame`? Proszę opisać składnię i argumenty używanej metody.",
      "metadata": {}
    },
    {
      "id": "4eb4b09a-18e2-47c6-bc3c-7f5d385d9b73",
      "cell_type": "markdown",
      "source": "**Pytanie 8:** Jak sprawdzić, czy w `DataFrame` występują braki danych? Jakie metody pozwalają na ich usunięcie lub uzupełnienie?",
      "metadata": {}
    },
    {
      "id": "ec65224d-2d11-4e41-a9ff-36e3f9706f0f",
      "cell_type": "markdown",
      "source": "**Pytanie 9:** W jaki sposób można zmienić typ danych w kolumnie `DataFrame`? Proszę podać przykłady zmiany typu danych.",
      "metadata": {}
    },
    {
      "id": "762729ab-7b26-44ef-bfb0-14beca7d579b",
      "cell_type": "markdown",
      "source": "**Pytanie 10:** Jak wykonać grupowanie danych w Pandas? Proszę opisać, w jaki sposób agregować dane w grupach i jakie funkcje agregujące można zastosować.",
      "metadata": {}
    },
    {
      "id": "ae28338b-694c-4e16-b3bb-afa993e658bf",
      "cell_type": "markdown",
      "source": "**Pytanie 11:** Jakie metody służą do wyświetlania podstawowych statystyk opisowych dla kolumn numerycznych i nienumerycznych w `DataFrame`? Jakie informacje można uzyskać za pomocą tych metod?",
      "metadata": {}
    },
    {
      "id": "375a3fb0-93c2-4111-9045-40b930755550",
      "cell_type": "markdown",
      "source": "**Pytanie 12:** W jaki sposób można zmienić nazwy kolumn w `DataFrame`? Proszę podać przykłady zmiany nazw pojedynczych i wielu kolumn.",
      "metadata": {}
    },
    {
      "id": "989d8dd9-6a39-4140-832a-2f1cac54cc7d",
      "cell_type": "markdown",
      "source": "**Pytanie 13:** Jak wykonywać filtrowanie danych w `DataFrame` na podstawie wartości w kolumnach? Proszę zademonstrować, jak wybrać wiersze spełniające określone warunki.",
      "metadata": {}
    },
    {
      "id": "8ba27d4e-043a-4347-a421-b869a69814a0",
      "cell_type": "markdown",
      "source": "**Pytanie 14:** W jaki sposób sortować dane w `DataFrame` według wartości w jednej lub wielu kolumnach? Jak działa parametr `ascending`?",
      "metadata": {}
    },
    {
      "id": "aa086d88-5045-4b01-bf43-7bc1bbd0888a",
      "cell_type": "markdown",
      "source": "**Pytanie 15:** Jak połączyć (skonkatenować) dwa `DataFrame` w Pandas? Proszę opisać różnice między łączeniem wierszy i kolumn.",
      "metadata": {}
    },
    {
      "id": "aa4e5716-6b4c-474d-9079-ce544f74b03e",
      "cell_type": "markdown",
      "source": "## Pytania kontrolne - kodowanie\n\nOpracuj i przetestuj kod generujacy odpowiedzi do poniższych pytań.\n\nWzoruj się na kodzie zamieszczonym w tym opracowaniu. Możesz również skorzystać z pomocy AI (Copilot, ChatGPT, Gemini, ...)\n\n:::{admonition} Podpowiedź\n:class: dropdown\n\nZadając pytanie dla AI musisz być precyzyjny. Zacznij od zbudowania kontekstu. Na przykład:\n> Analizuję dane w Jupyter Notebook. Wykorzystuję Pandas, SciPy. Do tworzenia wykresów korzystam z Seaborn. Mam zmienną `dane` typu `DataFrame`. Zmienne: `Pensja` (float), `Staż pracy` (int) i `Płeć` kategoryczną (`K` lub `M`). << teraz właściwa część pytania >>\n> \n> Na przykład: Wybierz pracowników, których staż pracy wynosi 0, 1 lub 2 lata.\n\nOczywiście wyniki wygenerowane przez AI mogą nie być poprawne, ale najczęściej wymagają tylko pewnych korekt, aby mogły być uruchomione w Twoim notatniku.\n:::",
      "metadata": {}
    },
    {
      "id": "d804c8a2-ebd8-4871-a1f8-d4e3a778a7b0",
      "cell_type": "markdown",
      "source": "**Pytanie 1:** Wyświetl wiersze, w których staż pracy jest większy niż 5 lat i pensja jest wyższa niż 1200.",
      "metadata": {}
    },
    {
      "id": "e3d44c94-cf35-47f2-a359-a652aa313cd7",
      "cell_type": "code",
      "source": "# wpisz kod, zweryfikuj wyniki",
      "metadata": {
        "trusted": true
      },
      "outputs": [],
      "execution_count": null
    },
    {
      "id": "4012991e-814b-403e-9cd0-3606abe328be",
      "cell_type": "markdown",
      "source": "**Pytanie 2:** Znajdź wszystkich pracowników, którzy są kobietami i zarabiają mniej niż 1100.",
      "metadata": {}
    },
    {
      "id": "92563f9a-174b-4544-aab0-2d6e14c12ea1",
      "cell_type": "code",
      "source": "# wpisz kod, zweryfikuj wyniki",
      "metadata": {
        "trusted": true
      },
      "outputs": [],
      "execution_count": null
    },
    {
      "id": "4d057c7d-a866-48fd-bd0c-b71b18bbdbd1",
      "cell_type": "markdown",
      "source": "**Pytanie 3:** Wybierz pracowników, których staż pracy wynosi 0, 1 lub 2 lata.",
      "metadata": {}
    },
    {
      "id": "26a9d45d-67f1-48e0-8226-f60a958ecdeb",
      "cell_type": "code",
      "source": "# wpisz kod, zweryfikuj wyniki",
      "metadata": {
        "trusted": true
      },
      "outputs": [],
      "execution_count": null
    },
    {
      "id": "268f162b-7534-4e57-ac97-242be98deaed",
      "cell_type": "markdown",
      "source": "**Pytanie 4:** Wyświetl wiersze, w których pensja jest w przedziale od 1200 do 1400 (włącznie).",
      "metadata": {}
    },
    {
      "id": "721b858c-e496-4de6-b887-51ca3a57a641",
      "cell_type": "code",
      "source": "# wpisz kod, zweryfikuj wyniki",
      "metadata": {
        "trusted": true
      },
      "outputs": [],
      "execution_count": null
    },
    {
      "id": "1ee6d426-f861-4518-bb3c-f467f19b896f",
      "cell_type": "markdown",
      "source": "**Pytanie 5:** Znajdź wszystkich mężczyzn, których pensja jest wyższa niż średnia pensja w całym `DataFrame`.",
      "metadata": {}
    },
    {
      "id": "f9335f87-cedb-42a0-a551-860e909e1bfa",
      "cell_type": "code",
      "source": "# wpisz kod, zweryfikuj wyniki",
      "metadata": {
        "trusted": true
      },
      "outputs": [],
      "execution_count": null
    },
    {
      "id": "535add9a-7269-4a19-be23-528a12f6d64a",
      "cell_type": "markdown",
      "source": "**Pytanie 6:** Oblicz średnią pensję i medianę dla każdej płci.",
      "metadata": {}
    },
    {
      "id": "45eaa2fa-a540-4713-b6a0-366e7a0aedb7",
      "cell_type": "code",
      "source": "# wpisz kod, zweryfikuj wyniki",
      "metadata": {
        "trusted": true
      },
      "outputs": [],
      "execution_count": null
    },
    {
      "id": "2e4d5e6d-5ab8-450e-94f9-70a55451b500",
      "cell_type": "markdown",
      "source": "**Pytanie 7:** Oblicz minimalną i maksymalną pensję dla każdego stażu pracy.",
      "metadata": {}
    },
    {
      "id": "f722c9e8-969a-4806-9b47-0d1e08b9ac5e",
      "cell_type": "code",
      "source": "# wpisz kod, zweryfikuj wyniki",
      "metadata": {
        "trusted": true
      },
      "outputs": [],
      "execution_count": null
    },
    {
      "id": "d0badf34-94d2-4756-b7a1-4425e0534c49",
      "cell_type": "markdown",
      "source": "**Pytanie 8:** Oblicz liczbę pracowników w każdej grupie płci.",
      "metadata": {}
    },
    {
      "id": "47474bb8-ee4e-4ebf-92fb-717314d2a738",
      "cell_type": "code",
      "source": "# wpisz kod, zweryfikuj wyniki",
      "metadata": {
        "trusted": true
      },
      "outputs": [],
      "execution_count": null
    },
    {
      "id": "c0c835f7-021f-400b-942e-c78df5839f06",
      "cell_type": "markdown",
      "source": "**Pytanie 9:** Dla każdej płci, znajdź pracownika z najwyższą pensją.",
      "metadata": {}
    },
    {
      "id": "b5d40124-c763-45be-9d19-550eb095e516",
      "cell_type": "code",
      "source": "# wpisz kod, zweryfikuj wyniki",
      "metadata": {
        "trusted": true
      },
      "outputs": [],
      "execution_count": null
    },
    {
      "id": "295d1d68-eed5-451a-8f78-2ddd855e18a3",
      "cell_type": "markdown",
      "source": "**Pytanie 10:** Oblicz średnią pensję dla każdej kombinacji płci i stażu pracy.",
      "metadata": {}
    },
    {
      "id": "a30bc9ed-f5ca-47da-8256-5d80c730c155",
      "cell_type": "code",
      "source": "# wpisz kod, zweryfikuj wyniki",
      "metadata": {
        "trusted": true
      },
      "outputs": [],
      "execution_count": null
    },
    {
      "id": "88da5878-1f7d-4bd5-8b78-731a3e264ed1",
      "cell_type": "markdown",
      "source": "**Pytanie 11:** Stwórz tabelę krzyżową, która pokaże liczbę pracowników w zależności od płci i stażu pracy.",
      "metadata": {}
    },
    {
      "id": "f032d1e6-6490-43a5-82ae-775b8312ded7",
      "cell_type": "code",
      "source": "# wpisz kod, zweryfikuj wyniki",
      "metadata": {
        "trusted": true
      },
      "outputs": [],
      "execution_count": null
    },
    {
      "id": "8d13492e-512f-45db-b118-814a3677c665",
      "cell_type": "markdown",
      "source": "**Pytanie 12:** Stwórz tabelę krzyżową, która pokaże średnią pensję w zależności od płci i stażu pracy.",
      "metadata": {}
    },
    {
      "id": "1cf9eeb2-f378-4853-9a0d-1ffbcb4b586b",
      "cell_type": "code",
      "source": "# wpisz kod, zweryfikuj wyniki",
      "metadata": {
        "trusted": true
      },
      "outputs": [],
      "execution_count": null
    },
    {
      "id": "499216f1-df1a-4463-8c3c-3ff7eec477a1",
      "cell_type": "markdown",
      "source": "**Pytanie 13:** Stwórz tabelę krzyżową, która pokaże minimalną i maksymalną pensję w zależności od płci i stażu pracy.",
      "metadata": {}
    },
    {
      "id": "c7b78ea4-5cb4-48c6-985d-07175639d37b",
      "cell_type": "code",
      "source": "# wpisz kod, zweryfikuj wyniki",
      "metadata": {
        "trusted": true
      },
      "outputs": [],
      "execution_count": null
    },
    {
      "id": "33d023e8-fd83-4ada-ba93-ce7590f77911",
      "cell_type": "markdown",
      "source": "**Pytanie 14:** Stwórz tabelę krzyżową, która pokaże rozkład płci w zależności od stażu pracy (procentowo).",
      "metadata": {}
    },
    {
      "id": "7313cdc7-cda7-44fc-90f5-812151395784",
      "cell_type": "code",
      "source": "# wpisz kod, zweryfikuj wyniki",
      "metadata": {
        "trusted": true
      },
      "outputs": [],
      "execution_count": null
    },
    {
      "id": "d4ec9dd8-aaea-4e4e-a9e1-79e1bcab9102",
      "cell_type": "markdown",
      "source": "**Pytanie 15:** Stwórz tabelę krzyżową, która pokaże łączną pensję wypłaconą każdej płci dla każdego stażu pracy.",
      "metadata": {}
    },
    {
      "id": "78568dbe-8d77-40db-a040-4bb8b5bc4121",
      "cell_type": "code",
      "source": "# wpisz kod, zweryfikuj wyniki",
      "metadata": {
        "trusted": true
      },
      "outputs": [],
      "execution_count": null
    },
    {
      "id": "ead63f36-53bd-4005-ba3b-107ff4956361",
      "cell_type": "markdown",
      "source": "**Pytanie 16:** Porównaj rozkład stażu pracy dla kobiet i mężczyzn na jednym wykresie. Użyj wykresu, który Twoim zdaniem najlepiej ilustruje różnice w rozkładzie.",
      "metadata": {}
    },
    {
      "id": "2b3241b7-96bf-4656-b622-6ebde184efed",
      "cell_type": "code",
      "source": "# wpisz kod, zweryfikuj wyniki",
      "metadata": {
        "trusted": true
      },
      "outputs": [],
      "execution_count": null
    },
    {
      "id": "50594028-8016-4529-9c0c-73c9388b75ba",
      "cell_type": "markdown",
      "source": "**Pytanie 17:** Zwizualizuj zależność między pensją a stażem pracy, dodając rozróżnienie na płeć. Wybierz odpowiedni typ wykresu, aby pokazać, czy zależność ta różni się w zależności od płci.",
      "metadata": {}
    },
    {
      "id": "e50b029a-b6e0-4447-8847-c7148e3eef84",
      "cell_type": "code",
      "source": "# wpisz kod, zweryfikuj wyniki",
      "metadata": {
        "trusted": true
      },
      "outputs": [],
      "execution_count": null
    },
    {
      "id": "79d69e60-0a24-4649-aba0-286f8db1a542",
      "cell_type": "markdown",
      "source": "**Pytanie 18:** Przedstaw rozkład pensji dla 5 wybranych grup stażu pracy. Użyj wykresu, który umożliwi łatwe porównanie rozkładów.",
      "metadata": {}
    },
    {
      "id": "e79f7a5f-8cdb-49c4-93ce-ad3635859dbf",
      "cell_type": "code",
      "source": "# wpisz kod, zweryfikuj wyniki",
      "metadata": {
        "trusted": true
      },
      "outputs": [],
      "execution_count": null
    },
    {
      "id": "3321b356-8add-4da7-a8fa-f680a41e22cd",
      "cell_type": "markdown",
      "source": "**Pytanie 19:** Stwórz wykres, który pokaże, jak zmienia się średnia pensja wraz ze wzrostem stażu pracy, oddzielnie dla kobiet i mężczyzn.",
      "metadata": {}
    },
    {
      "id": "e61cf9ec-af88-4e1c-8f28-6ea4eea7d67c",
      "cell_type": "code",
      "source": "# wpisz kod, zweryfikuj wyniki",
      "metadata": {
        "trusted": true
      },
      "outputs": [],
      "execution_count": null
    },
    {
      "id": "51c9f2de-76bd-4fca-b8cd-eb10792fa82c",
      "cell_type": "markdown",
      "source": "**Pytanie 20:** Zaprezentuj procentowy udział pracowników w różnych kategoriach stażu pracy (np. 0-2 lata, 3-5 lat, 6-10 lat, powyżej 10 lat). Wybierz wykres, który najlepiej uwidoczni proporcje.",
      "metadata": {}
    },
    {
      "id": "4f85925d-f270-442d-b938-26c83438187b",
      "cell_type": "code",
      "source": "# wpisz kod, zweryfikuj wyniki",
      "metadata": {
        "trusted": true
      },
      "outputs": [],
      "execution_count": null
    }
  ]
}