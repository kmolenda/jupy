{
  "metadata": {
    "kernelspec": {
      "name": "python",
      "display_name": "Python (Pyodide)",
      "language": "python"
    },
    "language_info": {
      "codemirror_mode": {
        "name": "python",
        "version": 3
      },
      "file_extension": ".py",
      "mimetype": "text/x-python",
      "name": "python",
      "nbconvert_exporter": "python",
      "pygments_lexer": "ipython3",
      "version": "3.8"
    }
  },
  "nbformat_minor": 5,
  "nbformat": 4,
  "cells": [
    {
      "id": "b0d0adda-2df0-4f67-ba59-6d799392c323",
      "cell_type": "markdown",
      "source": "# Zadanie - pomiary, silnik krokowy\n\n* Krzysztof Molenda, 2025-05-03",
      "metadata": {}
    },
    {
      "id": "7abf7e55-a9dd-4df4-bc43-d7452e19387e",
      "cell_type": "markdown",
      "source": "## Temat\n\n:::{pull-quote}\nAnaliza wpływu napięcia zasilania i prędkości obrotowej na temperaturę pracy  [silnika krokowego](https://pl.wikipedia.org/wiki/Silnik_krokowy), z uwzględnieniem typu chłodzenia \n:::",
      "metadata": {}
    },
    {
      "id": "81f7586a-fe8d-47ad-8493-31c5c363ff13",
      "cell_type": "markdown",
      "source": "## Dane\n\nDane reprezentują wyniki eksperymentów, w których mierzono temperaturę silnika krokowego przy różnych ustawieniach i warunkach. Poniższa tabela zawiera fragment danych:\n\n::::{admonition} Dane pomiarowe\n```{csv-table} Przykładowe dane pomiarowe\n:header: Numer pomiaru,Napięcie zasilania (V),Prędkość obrotowa (kroki/s),Temperatura (°C),Typ chłodzenia\n\n1,24,113.0,32.7,Brak\n2,24,186.0,25.3,Radiator\n3,24,225.0,23.4,Radiator\n4,12,256.0,20.0,Wymuszony obieg powietrza\n5,24,292.0,31.2,Radiator\n6,24,254.0,23.9,Radiator\n...,...,...,...,...\n```\n::::\n\n**Opis zmiennych:**\n\n- `Temperatura` - temperatura obudowy silnika krokowego mierzona w stopniach Celsjusza (°C).\n- `Prędkość obrotowa` - prędkość obrotowa silnika wyrażona w krokach na sekundę (kroki/s).\n- `Typ chłodzenia` - metoda chłodzenia zastosowana dla silnika (np. \"Brak\", \"Radiator\", \"Wymuszony obieg powietrza\").\n- `Napięcie zailania` - napięcie zasilania (V)\n\n:::{seealso} Dane do obliczeń\nRzeczywiste dane do analizy zamieszczone są w pliku `dane_silnik_krokowy.csv`\n:::",
      "metadata": {}
    },
    {
      "id": "63f4cd48-9a8c-44bf-aa4c-d74d6d12f67d",
      "cell_type": "markdown",
      "source": "## Cel\n\nPrzeprowadź analizę wpływu napięcia zasilania i prędkości obrotowej na temperaturę pracy silnika krokowego, z uwzględnieniem typu chłodzenia.\n\nRozważ\n\n- Określenie wpływu napięcia zasilania na temperaturę silnika.\n- Zbadanie zależności między prędkością obrotową a temperaturą.\n- Porównanie efektywności różnych metod chłodzenia w obniżaniu temperatury.\n- Modelowanie temperatury silnika na podstawie napięcia, prędkości i typu chłodzenia.\n- Analiza interakcji między zmiennymi (np. czy wpływ prędkości na temperaturę zależy od typu chłodzenia).",
      "metadata": {}
    },
    {
      "id": "0645ed7c-1d38-4d58-b0b2-604fbd57b970",
      "cell_type": "markdown",
      "source": "## Forma\n\nZadanie wykonaj w Jupyter Notebook, z wykorzystaniem biblioteki Pandas. Możesz skorzystać z niniejszego notatnika.\n\nMożesz, a nawet powinieneś korzystać z pomocy asystenta AI (Copilot, OpenAI, Gemini, ...)\n\nZadając pytanie dla AI musisz być precyzyjny. Zacznij od zbudowania kontekstu. Na przykład:\n\n> Analizuję dane w Jupyter Notebook. Wykorzystuję Pandas, SciPy. Do tworzenia wykresów korzystam z Seaborn. Mam zmienną `dane` typu `DataFrame`. Zmienne: \"lista i opis zmiennych\". \"Teraz właściwa część pytania\"\n\nOczywiście wyniki wygenerowane przez AI mogą nie być poprawne, ale najczęściej wymagają tylko pewnych korekt, aby mogły być uruchomione w Twoim notatniku.",
      "metadata": {}
    },
    {
      "id": "4fdb0d4e-b6a1-468b-80bb-2d0b24952778",
      "cell_type": "markdown",
      "source": "## Obliczenia",
      "metadata": {}
    },
    {
      "id": "870a1532-16d1-466a-9789-7364649a8a36",
      "cell_type": "code",
      "source": "# importowanie być może potrzebnych bibliotek\nimport pandas as pd\nimport numpy as np\nimport matplotlib\nimport matplotlib.pyplot as plt\nimport piplite\nawait piplite.install('seaborn')\nimport seaborn as sns\nfrom scipy import stats",
      "metadata": {
        "trusted": true,
        "collapsed": true,
        "jupyter": {
          "outputs_hidden": true,
          "source_hidden": true
        }
      },
      "outputs": [],
      "execution_count": null
    },
    {
      "id": "d65f4493-1e62-47fe-b3e9-335458ee720a",
      "cell_type": "code",
      "source": "# wykonaj obliczenia i wizualizacje",
      "metadata": {
        "trusted": true,
        "collapsed": true,
        "jupyter": {
          "outputs_hidden": true,
          "source_hidden": true
        }
      },
      "outputs": [],
      "execution_count": null
    }
  ]
}